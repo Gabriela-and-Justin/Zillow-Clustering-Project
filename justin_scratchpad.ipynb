{
 "cells": [
  {
   "cell_type": "markdown",
   "metadata": {},
   "source": [
    "# My Scratchpad for Zillow Clustering Project"
   ]
  },
  {
   "cell_type": "code",
   "execution_count": 1,
   "metadata": {},
   "outputs": [],
   "source": [
    "#imports\n",
    "import pandas as pd\n",
    "import numpy as np\n",
    "import acquire\n",
    "import prepare\n",
    "import explore\n",
    "from env import host, user, password\n",
    "\n",
    "#Visualization Imports\n",
    "import matplotlib.pyplot as plt\n",
    "import seaborn as sns\n",
    "\n",
    "#Sklearn Tools and Modules\n",
    "from sklearn.cluster import KMeans\n",
    "from sklearn.preprocessing import MinMaxScaler, RobustScaler\n",
    "from sklearn.model_selection import train_test_split\n",
    "import warnings\n",
    "warnings.filterwarnings('ignore')"
   ]
  },
  {
   "cell_type": "markdown",
   "metadata": {},
   "source": [
    "## Acquire Zillow Data"
   ]
  },
  {
   "cell_type": "code",
   "execution_count": 2,
   "metadata": {},
   "outputs": [
    {
     "data": {
      "text/html": [
       "<div>\n",
       "<style scoped>\n",
       "    .dataframe tbody tr th:only-of-type {\n",
       "        vertical-align: middle;\n",
       "    }\n",
       "\n",
       "    .dataframe tbody tr th {\n",
       "        vertical-align: top;\n",
       "    }\n",
       "\n",
       "    .dataframe thead th {\n",
       "        text-align: right;\n",
       "    }\n",
       "</style>\n",
       "<table border=\"1\" class=\"dataframe\">\n",
       "  <thead>\n",
       "    <tr style=\"text-align: right;\">\n",
       "      <th></th>\n",
       "      <th>id</th>\n",
       "      <th>parcelid</th>\n",
       "      <th>airconditioningtypeid</th>\n",
       "      <th>architecturalstyletypeid</th>\n",
       "      <th>basementsqft</th>\n",
       "      <th>bathroomcnt</th>\n",
       "      <th>bedroomcnt</th>\n",
       "      <th>buildingclasstypeid</th>\n",
       "      <th>buildingqualitytypeid</th>\n",
       "      <th>calculatedbathnbr</th>\n",
       "      <th>...</th>\n",
       "      <th>censustractandblock</th>\n",
       "      <th>logerror</th>\n",
       "      <th>transactiondate</th>\n",
       "      <th>airconditioningdesc</th>\n",
       "      <th>architecturalstyledesc</th>\n",
       "      <th>buildingclassdesc</th>\n",
       "      <th>heatingorsystemdesc</th>\n",
       "      <th>propertylandusedesc</th>\n",
       "      <th>storydesc</th>\n",
       "      <th>typeconstructiondesc</th>\n",
       "    </tr>\n",
       "  </thead>\n",
       "  <tbody>\n",
       "    <tr>\n",
       "      <th>0</th>\n",
       "      <td>1087254</td>\n",
       "      <td>10711855</td>\n",
       "      <td>NaN</td>\n",
       "      <td>NaN</td>\n",
       "      <td>NaN</td>\n",
       "      <td>2.0</td>\n",
       "      <td>3.0</td>\n",
       "      <td>NaN</td>\n",
       "      <td>8.0</td>\n",
       "      <td>2.0</td>\n",
       "      <td>...</td>\n",
       "      <td>6.037113e+13</td>\n",
       "      <td>-0.007357</td>\n",
       "      <td>2017-07-07</td>\n",
       "      <td>NaN</td>\n",
       "      <td>NaN</td>\n",
       "      <td>NaN</td>\n",
       "      <td>Central</td>\n",
       "      <td>Single Family Residential</td>\n",
       "      <td>NaN</td>\n",
       "      <td>NaN</td>\n",
       "    </tr>\n",
       "    <tr>\n",
       "      <th>1</th>\n",
       "      <td>1072280</td>\n",
       "      <td>10711877</td>\n",
       "      <td>1.0</td>\n",
       "      <td>NaN</td>\n",
       "      <td>NaN</td>\n",
       "      <td>2.0</td>\n",
       "      <td>4.0</td>\n",
       "      <td>NaN</td>\n",
       "      <td>8.0</td>\n",
       "      <td>2.0</td>\n",
       "      <td>...</td>\n",
       "      <td>6.037113e+13</td>\n",
       "      <td>0.021066</td>\n",
       "      <td>2017-08-29</td>\n",
       "      <td>Central</td>\n",
       "      <td>NaN</td>\n",
       "      <td>NaN</td>\n",
       "      <td>Central</td>\n",
       "      <td>Single Family Residential</td>\n",
       "      <td>NaN</td>\n",
       "      <td>NaN</td>\n",
       "    </tr>\n",
       "    <tr>\n",
       "      <th>2</th>\n",
       "      <td>1340933</td>\n",
       "      <td>10711888</td>\n",
       "      <td>1.0</td>\n",
       "      <td>NaN</td>\n",
       "      <td>NaN</td>\n",
       "      <td>2.0</td>\n",
       "      <td>4.0</td>\n",
       "      <td>NaN</td>\n",
       "      <td>8.0</td>\n",
       "      <td>2.0</td>\n",
       "      <td>...</td>\n",
       "      <td>6.037113e+13</td>\n",
       "      <td>0.077174</td>\n",
       "      <td>2017-04-04</td>\n",
       "      <td>Central</td>\n",
       "      <td>NaN</td>\n",
       "      <td>NaN</td>\n",
       "      <td>Central</td>\n",
       "      <td>Single Family Residential</td>\n",
       "      <td>NaN</td>\n",
       "      <td>NaN</td>\n",
       "    </tr>\n",
       "    <tr>\n",
       "      <th>3</th>\n",
       "      <td>1878109</td>\n",
       "      <td>10711910</td>\n",
       "      <td>NaN</td>\n",
       "      <td>NaN</td>\n",
       "      <td>NaN</td>\n",
       "      <td>2.0</td>\n",
       "      <td>3.0</td>\n",
       "      <td>NaN</td>\n",
       "      <td>8.0</td>\n",
       "      <td>2.0</td>\n",
       "      <td>...</td>\n",
       "      <td>6.037113e+13</td>\n",
       "      <td>-0.041238</td>\n",
       "      <td>2017-03-17</td>\n",
       "      <td>NaN</td>\n",
       "      <td>NaN</td>\n",
       "      <td>NaN</td>\n",
       "      <td>Central</td>\n",
       "      <td>Single Family Residential</td>\n",
       "      <td>NaN</td>\n",
       "      <td>NaN</td>\n",
       "    </tr>\n",
       "    <tr>\n",
       "      <th>4</th>\n",
       "      <td>2190858</td>\n",
       "      <td>10711923</td>\n",
       "      <td>NaN</td>\n",
       "      <td>NaN</td>\n",
       "      <td>NaN</td>\n",
       "      <td>2.0</td>\n",
       "      <td>4.0</td>\n",
       "      <td>NaN</td>\n",
       "      <td>8.0</td>\n",
       "      <td>2.0</td>\n",
       "      <td>...</td>\n",
       "      <td>6.037113e+13</td>\n",
       "      <td>-0.009496</td>\n",
       "      <td>2017-03-24</td>\n",
       "      <td>NaN</td>\n",
       "      <td>NaN</td>\n",
       "      <td>NaN</td>\n",
       "      <td>Central</td>\n",
       "      <td>Single Family Residential</td>\n",
       "      <td>NaN</td>\n",
       "      <td>NaN</td>\n",
       "    </tr>\n",
       "  </tbody>\n",
       "</table>\n",
       "<p>5 rows × 68 columns</p>\n",
       "</div>"
      ],
      "text/plain": [
       "        id  parcelid  airconditioningtypeid  architecturalstyletypeid  \\\n",
       "0  1087254  10711855                    NaN                       NaN   \n",
       "1  1072280  10711877                    1.0                       NaN   \n",
       "2  1340933  10711888                    1.0                       NaN   \n",
       "3  1878109  10711910                    NaN                       NaN   \n",
       "4  2190858  10711923                    NaN                       NaN   \n",
       "\n",
       "   basementsqft  bathroomcnt  bedroomcnt  buildingclasstypeid  \\\n",
       "0           NaN          2.0         3.0                  NaN   \n",
       "1           NaN          2.0         4.0                  NaN   \n",
       "2           NaN          2.0         4.0                  NaN   \n",
       "3           NaN          2.0         3.0                  NaN   \n",
       "4           NaN          2.0         4.0                  NaN   \n",
       "\n",
       "   buildingqualitytypeid  calculatedbathnbr  ...  censustractandblock  \\\n",
       "0                    8.0                2.0  ...         6.037113e+13   \n",
       "1                    8.0                2.0  ...         6.037113e+13   \n",
       "2                    8.0                2.0  ...         6.037113e+13   \n",
       "3                    8.0                2.0  ...         6.037113e+13   \n",
       "4                    8.0                2.0  ...         6.037113e+13   \n",
       "\n",
       "   logerror  transactiondate  airconditioningdesc  architecturalstyledesc  \\\n",
       "0 -0.007357       2017-07-07                  NaN                     NaN   \n",
       "1  0.021066       2017-08-29              Central                     NaN   \n",
       "2  0.077174       2017-04-04              Central                     NaN   \n",
       "3 -0.041238       2017-03-17                  NaN                     NaN   \n",
       "4 -0.009496       2017-03-24                  NaN                     NaN   \n",
       "\n",
       "   buildingclassdesc  heatingorsystemdesc        propertylandusedesc  \\\n",
       "0                NaN              Central  Single Family Residential   \n",
       "1                NaN              Central  Single Family Residential   \n",
       "2                NaN              Central  Single Family Residential   \n",
       "3                NaN              Central  Single Family Residential   \n",
       "4                NaN              Central  Single Family Residential   \n",
       "\n",
       "   storydesc  typeconstructiondesc  \n",
       "0        NaN                   NaN  \n",
       "1        NaN                   NaN  \n",
       "2        NaN                   NaN  \n",
       "3        NaN                   NaN  \n",
       "4        NaN                   NaN  \n",
       "\n",
       "[5 rows x 68 columns]"
      ]
     },
     "execution_count": 2,
     "metadata": {},
     "output_type": "execute_result"
    }
   ],
   "source": [
    "df = acquire.get_zillow_data(cached=True)\n",
    "df.head()"
   ]
  },
  {
   "cell_type": "code",
   "execution_count": 3,
   "metadata": {},
   "outputs": [
    {
     "data": {
      "text/plain": [
       "(77575, 68)"
      ]
     },
     "execution_count": 3,
     "metadata": {},
     "output_type": "execute_result"
    }
   ],
   "source": [
    "df.shape"
   ]
  },
  {
   "cell_type": "markdown",
   "metadata": {},
   "source": [
    "# Prepare Zillow Data"
   ]
  },
  {
   "cell_type": "code",
   "execution_count": 4,
   "metadata": {},
   "outputs": [],
   "source": [
    "df = prepare.wrangle_zillow()"
   ]
  },
  {
   "cell_type": "code",
   "execution_count": 5,
   "metadata": {},
   "outputs": [
    {
     "data": {
      "text/plain": [
       "(69920, 25)"
      ]
     },
     "execution_count": 5,
     "metadata": {},
     "output_type": "execute_result"
    }
   ],
   "source": [
    "df.shape"
   ]
  },
  {
   "cell_type": "code",
   "execution_count": 6,
   "metadata": {},
   "outputs": [
    {
     "data": {
      "text/plain": [
       "bathroomcnt                     0\n",
       "bedroomcnt                      0\n",
       "buildingqualitytypeid           0\n",
       "calculatedfinishedsquarefeet    0\n",
       "fips                            0\n",
       "latitude                        0\n",
       "longitude                       0\n",
       "lotsizesquarefeet               0\n",
       "rawcensustractandblock          0\n",
       "regionidcity                    0\n",
       "regionidcounty                  0\n",
       "regionidzip                     0\n",
       "roomcnt                         0\n",
       "unitcnt                         0\n",
       "yearbuilt                       0\n",
       "structuretaxvaluedollarcnt      0\n",
       "taxvaluedollarcnt               0\n",
       "assessmentyear                  0\n",
       "landtaxvaluedollarcnt           0\n",
       "taxamount                       0\n",
       "logerror                        0\n",
       "transactiondate                 0\n",
       "heatingorsystemdesc             0\n",
       "county                          0\n",
       "logerror_class                  0\n",
       "dtype: int64"
      ]
     },
     "execution_count": 6,
     "metadata": {},
     "output_type": "execute_result"
    }
   ],
   "source": [
    "df.isnull().sum()"
   ]
  },
  {
   "cell_type": "code",
   "execution_count": 7,
   "metadata": {},
   "outputs": [
    {
     "data": {
      "text/html": [
       "<div>\n",
       "<style scoped>\n",
       "    .dataframe tbody tr th:only-of-type {\n",
       "        vertical-align: middle;\n",
       "    }\n",
       "\n",
       "    .dataframe tbody tr th {\n",
       "        vertical-align: top;\n",
       "    }\n",
       "\n",
       "    .dataframe thead th {\n",
       "        text-align: right;\n",
       "    }\n",
       "</style>\n",
       "<table border=\"1\" class=\"dataframe\">\n",
       "  <thead>\n",
       "    <tr style=\"text-align: right;\">\n",
       "      <th></th>\n",
       "      <th>bathroomcnt</th>\n",
       "      <th>bedroomcnt</th>\n",
       "      <th>buildingqualitytypeid</th>\n",
       "      <th>calculatedfinishedsquarefeet</th>\n",
       "      <th>fips</th>\n",
       "      <th>latitude</th>\n",
       "      <th>longitude</th>\n",
       "      <th>lotsizesquarefeet</th>\n",
       "      <th>rawcensustractandblock</th>\n",
       "      <th>regionidcity</th>\n",
       "      <th>...</th>\n",
       "      <th>structuretaxvaluedollarcnt</th>\n",
       "      <th>taxvaluedollarcnt</th>\n",
       "      <th>assessmentyear</th>\n",
       "      <th>landtaxvaluedollarcnt</th>\n",
       "      <th>taxamount</th>\n",
       "      <th>logerror</th>\n",
       "      <th>transactiondate</th>\n",
       "      <th>heatingorsystemdesc</th>\n",
       "      <th>county</th>\n",
       "      <th>logerror_class</th>\n",
       "    </tr>\n",
       "    <tr>\n",
       "      <th>parcelid</th>\n",
       "      <th></th>\n",
       "      <th></th>\n",
       "      <th></th>\n",
       "      <th></th>\n",
       "      <th></th>\n",
       "      <th></th>\n",
       "      <th></th>\n",
       "      <th></th>\n",
       "      <th></th>\n",
       "      <th></th>\n",
       "      <th></th>\n",
       "      <th></th>\n",
       "      <th></th>\n",
       "      <th></th>\n",
       "      <th></th>\n",
       "      <th></th>\n",
       "      <th></th>\n",
       "      <th></th>\n",
       "      <th></th>\n",
       "      <th></th>\n",
       "      <th></th>\n",
       "    </tr>\n",
       "  </thead>\n",
       "  <tbody>\n",
       "    <tr>\n",
       "      <th>10711855</th>\n",
       "      <td>2.0</td>\n",
       "      <td>3.0</td>\n",
       "      <td>8.0</td>\n",
       "      <td>2107.0</td>\n",
       "      <td>6037.0</td>\n",
       "      <td>34.222559</td>\n",
       "      <td>-118.617387</td>\n",
       "      <td>9158.0</td>\n",
       "      <td>6.037113e+07</td>\n",
       "      <td>12447.0</td>\n",
       "      <td>...</td>\n",
       "      <td>249655.0</td>\n",
       "      <td>624139.0</td>\n",
       "      <td>2016.0</td>\n",
       "      <td>374484.0</td>\n",
       "      <td>7659.36</td>\n",
       "      <td>-0.007357</td>\n",
       "      <td>2017-07-07</td>\n",
       "      <td>Central</td>\n",
       "      <td>Los_Angeles</td>\n",
       "      <td>q2</td>\n",
       "    </tr>\n",
       "  </tbody>\n",
       "</table>\n",
       "<p>1 rows × 25 columns</p>\n",
       "</div>"
      ],
      "text/plain": [
       "          bathroomcnt  bedroomcnt  buildingqualitytypeid  \\\n",
       "parcelid                                                   \n",
       "10711855          2.0         3.0                    8.0   \n",
       "\n",
       "          calculatedfinishedsquarefeet    fips   latitude   longitude  \\\n",
       "parcelid                                                                \n",
       "10711855                        2107.0  6037.0  34.222559 -118.617387   \n",
       "\n",
       "          lotsizesquarefeet  rawcensustractandblock  regionidcity  ...  \\\n",
       "parcelid                                                           ...   \n",
       "10711855             9158.0            6.037113e+07       12447.0  ...   \n",
       "\n",
       "          structuretaxvaluedollarcnt  taxvaluedollarcnt  assessmentyear  \\\n",
       "parcelid                                                                  \n",
       "10711855                    249655.0           624139.0          2016.0   \n",
       "\n",
       "          landtaxvaluedollarcnt  taxamount  logerror  transactiondate  \\\n",
       "parcelid                                                                \n",
       "10711855               374484.0    7659.36 -0.007357       2017-07-07   \n",
       "\n",
       "          heatingorsystemdesc       county  logerror_class  \n",
       "parcelid                                                    \n",
       "10711855              Central  Los_Angeles              q2  \n",
       "\n",
       "[1 rows x 25 columns]"
      ]
     },
     "execution_count": 7,
     "metadata": {},
     "output_type": "execute_result"
    }
   ],
   "source": [
    "df.head(1)"
   ]
  },
  {
   "cell_type": "code",
   "execution_count": 8,
   "metadata": {},
   "outputs": [],
   "source": [
    "def get_counties():\n",
    "    '''\n",
    "    This function will create dummy variables out of the original fips column. \n",
    "    And return a dataframe with all of the original columns except regionidcounty.\n",
    "    We will keep fips column for data validation after making changes. \n",
    "    New columns added will be 'LA', 'Orange', and 'Ventura' which are boolean \n",
    "    The fips ids are renamed to be the name of the county each represents. \n",
    "    '''\n",
    "    # create dummy vars of fips id\n",
    "    county_df = pd.get_dummies(df.fips)\n",
    "    # rename columns by actual county name\n",
    "    county_df.columns = ['LA', 'Orange', 'Ventura']\n",
    "    # concatenate the dataframe with the 3 county columns to the original dataframe\n",
    "    df_dummies = pd.concat([df, county_df], axis = 1)\n",
    "    # drop regionidcounty and fips columns\n",
    "    df_dummies = df_dummies.drop(columns = ['regionidcounty'])\n",
    "    return df_dummies"
   ]
  },
  {
   "cell_type": "code",
   "execution_count": 9,
   "metadata": {},
   "outputs": [
    {
     "data": {
      "text/html": [
       "<div>\n",
       "<style scoped>\n",
       "    .dataframe tbody tr th:only-of-type {\n",
       "        vertical-align: middle;\n",
       "    }\n",
       "\n",
       "    .dataframe tbody tr th {\n",
       "        vertical-align: top;\n",
       "    }\n",
       "\n",
       "    .dataframe thead th {\n",
       "        text-align: right;\n",
       "    }\n",
       "</style>\n",
       "<table border=\"1\" class=\"dataframe\">\n",
       "  <thead>\n",
       "    <tr style=\"text-align: right;\">\n",
       "      <th></th>\n",
       "      <th>bathroomcnt</th>\n",
       "      <th>bedroomcnt</th>\n",
       "      <th>buildingqualitytypeid</th>\n",
       "      <th>calculatedfinishedsquarefeet</th>\n",
       "      <th>fips</th>\n",
       "      <th>latitude</th>\n",
       "      <th>longitude</th>\n",
       "      <th>lotsizesquarefeet</th>\n",
       "      <th>rawcensustractandblock</th>\n",
       "      <th>regionidcity</th>\n",
       "      <th>...</th>\n",
       "      <th>landtaxvaluedollarcnt</th>\n",
       "      <th>taxamount</th>\n",
       "      <th>logerror</th>\n",
       "      <th>transactiondate</th>\n",
       "      <th>heatingorsystemdesc</th>\n",
       "      <th>county</th>\n",
       "      <th>logerror_class</th>\n",
       "      <th>LA</th>\n",
       "      <th>Orange</th>\n",
       "      <th>Ventura</th>\n",
       "    </tr>\n",
       "    <tr>\n",
       "      <th>parcelid</th>\n",
       "      <th></th>\n",
       "      <th></th>\n",
       "      <th></th>\n",
       "      <th></th>\n",
       "      <th></th>\n",
       "      <th></th>\n",
       "      <th></th>\n",
       "      <th></th>\n",
       "      <th></th>\n",
       "      <th></th>\n",
       "      <th></th>\n",
       "      <th></th>\n",
       "      <th></th>\n",
       "      <th></th>\n",
       "      <th></th>\n",
       "      <th></th>\n",
       "      <th></th>\n",
       "      <th></th>\n",
       "      <th></th>\n",
       "      <th></th>\n",
       "      <th></th>\n",
       "    </tr>\n",
       "  </thead>\n",
       "  <tbody>\n",
       "    <tr>\n",
       "      <th>10711855</th>\n",
       "      <td>2.0</td>\n",
       "      <td>3.0</td>\n",
       "      <td>8.0</td>\n",
       "      <td>2107.0</td>\n",
       "      <td>6037.0</td>\n",
       "      <td>34.222559</td>\n",
       "      <td>-118.617387</td>\n",
       "      <td>9158.0</td>\n",
       "      <td>6.037113e+07</td>\n",
       "      <td>12447.0</td>\n",
       "      <td>...</td>\n",
       "      <td>374484.0</td>\n",
       "      <td>7659.36</td>\n",
       "      <td>-0.007357</td>\n",
       "      <td>2017-07-07</td>\n",
       "      <td>Central</td>\n",
       "      <td>Los_Angeles</td>\n",
       "      <td>q2</td>\n",
       "      <td>1</td>\n",
       "      <td>0</td>\n",
       "      <td>0</td>\n",
       "    </tr>\n",
       "    <tr>\n",
       "      <th>10711877</th>\n",
       "      <td>2.0</td>\n",
       "      <td>4.0</td>\n",
       "      <td>8.0</td>\n",
       "      <td>1882.0</td>\n",
       "      <td>6037.0</td>\n",
       "      <td>34.220261</td>\n",
       "      <td>-118.616409</td>\n",
       "      <td>9035.0</td>\n",
       "      <td>6.037113e+07</td>\n",
       "      <td>12447.0</td>\n",
       "      <td>...</td>\n",
       "      <td>407000.0</td>\n",
       "      <td>8123.91</td>\n",
       "      <td>0.021066</td>\n",
       "      <td>2017-08-29</td>\n",
       "      <td>Central</td>\n",
       "      <td>Los_Angeles</td>\n",
       "      <td>q3</td>\n",
       "      <td>1</td>\n",
       "      <td>0</td>\n",
       "      <td>0</td>\n",
       "    </tr>\n",
       "    <tr>\n",
       "      <th>10711888</th>\n",
       "      <td>2.0</td>\n",
       "      <td>4.0</td>\n",
       "      <td>8.0</td>\n",
       "      <td>1882.0</td>\n",
       "      <td>6037.0</td>\n",
       "      <td>34.222491</td>\n",
       "      <td>-118.616854</td>\n",
       "      <td>9800.0</td>\n",
       "      <td>6.037113e+07</td>\n",
       "      <td>12447.0</td>\n",
       "      <td>...</td>\n",
       "      <td>285332.0</td>\n",
       "      <td>6673.24</td>\n",
       "      <td>0.077174</td>\n",
       "      <td>2017-04-04</td>\n",
       "      <td>Central</td>\n",
       "      <td>Los_Angeles</td>\n",
       "      <td>q4</td>\n",
       "      <td>1</td>\n",
       "      <td>0</td>\n",
       "      <td>0</td>\n",
       "    </tr>\n",
       "    <tr>\n",
       "      <th>10711910</th>\n",
       "      <td>2.0</td>\n",
       "      <td>3.0</td>\n",
       "      <td>8.0</td>\n",
       "      <td>1477.0</td>\n",
       "      <td>6037.0</td>\n",
       "      <td>34.221864</td>\n",
       "      <td>-118.615739</td>\n",
       "      <td>11285.0</td>\n",
       "      <td>6.037113e+07</td>\n",
       "      <td>12447.0</td>\n",
       "      <td>...</td>\n",
       "      <td>20063.0</td>\n",
       "      <td>1116.46</td>\n",
       "      <td>-0.041238</td>\n",
       "      <td>2017-03-17</td>\n",
       "      <td>Central</td>\n",
       "      <td>Los_Angeles</td>\n",
       "      <td>q1</td>\n",
       "      <td>1</td>\n",
       "      <td>0</td>\n",
       "      <td>0</td>\n",
       "    </tr>\n",
       "    <tr>\n",
       "      <th>10711923</th>\n",
       "      <td>2.0</td>\n",
       "      <td>4.0</td>\n",
       "      <td>8.0</td>\n",
       "      <td>1918.0</td>\n",
       "      <td>6037.0</td>\n",
       "      <td>34.220619</td>\n",
       "      <td>-118.615253</td>\n",
       "      <td>11239.0</td>\n",
       "      <td>6.037113e+07</td>\n",
       "      <td>12447.0</td>\n",
       "      <td>...</td>\n",
       "      <td>247590.0</td>\n",
       "      <td>5239.85</td>\n",
       "      <td>-0.009496</td>\n",
       "      <td>2017-03-24</td>\n",
       "      <td>Central</td>\n",
       "      <td>Los_Angeles</td>\n",
       "      <td>q2</td>\n",
       "      <td>1</td>\n",
       "      <td>0</td>\n",
       "      <td>0</td>\n",
       "    </tr>\n",
       "  </tbody>\n",
       "</table>\n",
       "<p>5 rows × 27 columns</p>\n",
       "</div>"
      ],
      "text/plain": [
       "          bathroomcnt  bedroomcnt  buildingqualitytypeid  \\\n",
       "parcelid                                                   \n",
       "10711855          2.0         3.0                    8.0   \n",
       "10711877          2.0         4.0                    8.0   \n",
       "10711888          2.0         4.0                    8.0   \n",
       "10711910          2.0         3.0                    8.0   \n",
       "10711923          2.0         4.0                    8.0   \n",
       "\n",
       "          calculatedfinishedsquarefeet    fips   latitude   longitude  \\\n",
       "parcelid                                                                \n",
       "10711855                        2107.0  6037.0  34.222559 -118.617387   \n",
       "10711877                        1882.0  6037.0  34.220261 -118.616409   \n",
       "10711888                        1882.0  6037.0  34.222491 -118.616854   \n",
       "10711910                        1477.0  6037.0  34.221864 -118.615739   \n",
       "10711923                        1918.0  6037.0  34.220619 -118.615253   \n",
       "\n",
       "          lotsizesquarefeet  rawcensustractandblock  regionidcity  ...  \\\n",
       "parcelid                                                           ...   \n",
       "10711855             9158.0            6.037113e+07       12447.0  ...   \n",
       "10711877             9035.0            6.037113e+07       12447.0  ...   \n",
       "10711888             9800.0            6.037113e+07       12447.0  ...   \n",
       "10711910            11285.0            6.037113e+07       12447.0  ...   \n",
       "10711923            11239.0            6.037113e+07       12447.0  ...   \n",
       "\n",
       "          landtaxvaluedollarcnt  taxamount  logerror  transactiondate  \\\n",
       "parcelid                                                                \n",
       "10711855               374484.0    7659.36 -0.007357       2017-07-07   \n",
       "10711877               407000.0    8123.91  0.021066       2017-08-29   \n",
       "10711888               285332.0    6673.24  0.077174       2017-04-04   \n",
       "10711910                20063.0    1116.46 -0.041238       2017-03-17   \n",
       "10711923               247590.0    5239.85 -0.009496       2017-03-24   \n",
       "\n",
       "          heatingorsystemdesc       county  logerror_class  LA  Orange  \\\n",
       "parcelid                                                                 \n",
       "10711855              Central  Los_Angeles              q2   1       0   \n",
       "10711877              Central  Los_Angeles              q3   1       0   \n",
       "10711888              Central  Los_Angeles              q4   1       0   \n",
       "10711910              Central  Los_Angeles              q1   1       0   \n",
       "10711923              Central  Los_Angeles              q2   1       0   \n",
       "\n",
       "          Ventura  \n",
       "parcelid           \n",
       "10711855        0  \n",
       "10711877        0  \n",
       "10711888        0  \n",
       "10711910        0  \n",
       "10711923        0  \n",
       "\n",
       "[5 rows x 27 columns]"
      ]
     },
     "execution_count": 9,
     "metadata": {},
     "output_type": "execute_result"
    }
   ],
   "source": [
    "df = get_counties()\n",
    "df.head()"
   ]
  },
  {
   "cell_type": "code",
   "execution_count": 10,
   "metadata": {},
   "outputs": [
    {
     "data": {
      "text/plain": [
       "Index(['bathroomcnt', 'bedroomcnt', 'buildingqualitytypeid',\n",
       "       'calculatedfinishedsquarefeet', 'fips', 'latitude', 'longitude',\n",
       "       'lotsizesquarefeet', 'rawcensustractandblock', 'regionidcity',\n",
       "       'regionidzip', 'roomcnt', 'unitcnt', 'yearbuilt',\n",
       "       'structuretaxvaluedollarcnt', 'taxvaluedollarcnt', 'assessmentyear',\n",
       "       'landtaxvaluedollarcnt', 'taxamount', 'logerror', 'transactiondate',\n",
       "       'heatingorsystemdesc', 'county', 'logerror_class', 'LA', 'Orange',\n",
       "       'Ventura'],\n",
       "      dtype='object')"
      ]
     },
     "execution_count": 10,
     "metadata": {},
     "output_type": "execute_result"
    }
   ],
   "source": [
    "df.columns"
   ]
  },
  {
   "cell_type": "code",
   "execution_count": 11,
   "metadata": {},
   "outputs": [
    {
     "data": {
      "text/html": [
       "<div>\n",
       "<style scoped>\n",
       "    .dataframe tbody tr th:only-of-type {\n",
       "        vertical-align: middle;\n",
       "    }\n",
       "\n",
       "    .dataframe tbody tr th {\n",
       "        vertical-align: top;\n",
       "    }\n",
       "\n",
       "    .dataframe thead th {\n",
       "        text-align: right;\n",
       "    }\n",
       "</style>\n",
       "<table border=\"1\" class=\"dataframe\">\n",
       "  <thead>\n",
       "    <tr style=\"text-align: right;\">\n",
       "      <th>parcelid</th>\n",
       "      <th>11709639</th>\n",
       "      <th>14725426</th>\n",
       "      <th>13094891</th>\n",
       "      <th>12558910</th>\n",
       "      <th>14395312</th>\n",
       "      <th>10779791</th>\n",
       "      <th>14000162</th>\n",
       "      <th>11984081</th>\n",
       "      <th>10715339</th>\n",
       "      <th>14115039</th>\n",
       "    </tr>\n",
       "  </thead>\n",
       "  <tbody>\n",
       "    <tr>\n",
       "      <th>bathroomcnt</th>\n",
       "      <td>1</td>\n",
       "      <td>2.5</td>\n",
       "      <td>2</td>\n",
       "      <td>1</td>\n",
       "      <td>4.5</td>\n",
       "      <td>1</td>\n",
       "      <td>2</td>\n",
       "      <td>4</td>\n",
       "      <td>2</td>\n",
       "      <td>2</td>\n",
       "    </tr>\n",
       "    <tr>\n",
       "      <th>bedroomcnt</th>\n",
       "      <td>3</td>\n",
       "      <td>3</td>\n",
       "      <td>3</td>\n",
       "      <td>3</td>\n",
       "      <td>4</td>\n",
       "      <td>4</td>\n",
       "      <td>4</td>\n",
       "      <td>5</td>\n",
       "      <td>4</td>\n",
       "      <td>3</td>\n",
       "    </tr>\n",
       "    <tr>\n",
       "      <th>buildingqualitytypeid</th>\n",
       "      <td>6</td>\n",
       "      <td>6</td>\n",
       "      <td>6</td>\n",
       "      <td>4</td>\n",
       "      <td>6</td>\n",
       "      <td>4</td>\n",
       "      <td>6</td>\n",
       "      <td>8</td>\n",
       "      <td>6</td>\n",
       "      <td>6</td>\n",
       "    </tr>\n",
       "    <tr>\n",
       "      <th>calculatedfinishedsquarefeet</th>\n",
       "      <td>1499</td>\n",
       "      <td>1904</td>\n",
       "      <td>1190</td>\n",
       "      <td>1780</td>\n",
       "      <td>4493</td>\n",
       "      <td>1212</td>\n",
       "      <td>1430</td>\n",
       "      <td>2944</td>\n",
       "      <td>1416</td>\n",
       "      <td>1228</td>\n",
       "    </tr>\n",
       "    <tr>\n",
       "      <th>fips</th>\n",
       "      <td>6037</td>\n",
       "      <td>6059</td>\n",
       "      <td>6037</td>\n",
       "      <td>6037</td>\n",
       "      <td>6059</td>\n",
       "      <td>6037</td>\n",
       "      <td>6059</td>\n",
       "      <td>6037</td>\n",
       "      <td>6037</td>\n",
       "      <td>6059</td>\n",
       "    </tr>\n",
       "    <tr>\n",
       "      <th>latitude</th>\n",
       "      <td>34.0056</td>\n",
       "      <td>33.7342</td>\n",
       "      <td>34.0394</td>\n",
       "      <td>33.7726</td>\n",
       "      <td>33.5613</td>\n",
       "      <td>34.1816</td>\n",
       "      <td>33.7762</td>\n",
       "      <td>34.0667</td>\n",
       "      <td>34.2117</td>\n",
       "      <td>33.8207</td>\n",
       "    </tr>\n",
       "    <tr>\n",
       "      <th>longitude</th>\n",
       "      <td>-118.326</td>\n",
       "      <td>-117.769</td>\n",
       "      <td>-117.925</td>\n",
       "      <td>-118.197</td>\n",
       "      <td>-117.689</td>\n",
       "      <td>-118.534</td>\n",
       "      <td>-118.011</td>\n",
       "      <td>-118.34</td>\n",
       "      <td>-118.608</td>\n",
       "      <td>-117.939</td>\n",
       "    </tr>\n",
       "    <tr>\n",
       "      <th>lotsizesquarefeet</th>\n",
       "      <td>4229</td>\n",
       "      <td>7313</td>\n",
       "      <td>186785</td>\n",
       "      <td>4998</td>\n",
       "      <td>13500</td>\n",
       "      <td>5995</td>\n",
       "      <td>6000</td>\n",
       "      <td>7431</td>\n",
       "      <td>7500</td>\n",
       "      <td>5580</td>\n",
       "    </tr>\n",
       "    <tr>\n",
       "      <th>rawcensustractandblock</th>\n",
       "      <td>6.03723e+07</td>\n",
       "      <td>6.05905e+07</td>\n",
       "      <td>6.03741e+07</td>\n",
       "      <td>6.03758e+07</td>\n",
       "      <td>6.05904e+07</td>\n",
       "      <td>6.03713e+07</td>\n",
       "      <td>6.05911e+07</td>\n",
       "      <td>6.03721e+07</td>\n",
       "      <td>6.03713e+07</td>\n",
       "      <td>6.05909e+07</td>\n",
       "    </tr>\n",
       "    <tr>\n",
       "      <th>regionidcity</th>\n",
       "      <td>12447</td>\n",
       "      <td>52650</td>\n",
       "      <td>14542</td>\n",
       "      <td>46298</td>\n",
       "      <td>25458</td>\n",
       "      <td>12447</td>\n",
       "      <td>24832</td>\n",
       "      <td>12447</td>\n",
       "      <td>12447</td>\n",
       "      <td>16764</td>\n",
       "    </tr>\n",
       "    <tr>\n",
       "      <th>regionidzip</th>\n",
       "      <td>95989</td>\n",
       "      <td>96939</td>\n",
       "      <td>96525</td>\n",
       "      <td>96236</td>\n",
       "      <td>96971</td>\n",
       "      <td>96364</td>\n",
       "      <td>97052</td>\n",
       "      <td>96017</td>\n",
       "      <td>96339</td>\n",
       "      <td>97021</td>\n",
       "    </tr>\n",
       "    <tr>\n",
       "      <th>roomcnt</th>\n",
       "      <td>0</td>\n",
       "      <td>0</td>\n",
       "      <td>0</td>\n",
       "      <td>0</td>\n",
       "      <td>9</td>\n",
       "      <td>0</td>\n",
       "      <td>7</td>\n",
       "      <td>0</td>\n",
       "      <td>0</td>\n",
       "      <td>5</td>\n",
       "    </tr>\n",
       "    <tr>\n",
       "      <th>unitcnt</th>\n",
       "      <td>1</td>\n",
       "      <td>1</td>\n",
       "      <td>1</td>\n",
       "      <td>1</td>\n",
       "      <td>1</td>\n",
       "      <td>1</td>\n",
       "      <td>1</td>\n",
       "      <td>1</td>\n",
       "      <td>1</td>\n",
       "      <td>1</td>\n",
       "    </tr>\n",
       "    <tr>\n",
       "      <th>yearbuilt</th>\n",
       "      <td>1929</td>\n",
       "      <td>2002</td>\n",
       "      <td>1974</td>\n",
       "      <td>1906</td>\n",
       "      <td>1989</td>\n",
       "      <td>1950</td>\n",
       "      <td>1962</td>\n",
       "      <td>1924</td>\n",
       "      <td>1959</td>\n",
       "      <td>1955</td>\n",
       "    </tr>\n",
       "    <tr>\n",
       "      <th>structuretaxvaluedollarcnt</th>\n",
       "      <td>24416</td>\n",
       "      <td>211727</td>\n",
       "      <td>98882</td>\n",
       "      <td>115360</td>\n",
       "      <td>473854</td>\n",
       "      <td>65422</td>\n",
       "      <td>74117</td>\n",
       "      <td>498600</td>\n",
       "      <td>78835</td>\n",
       "      <td>47392</td>\n",
       "    </tr>\n",
       "    <tr>\n",
       "      <th>taxvaluedollarcnt</th>\n",
       "      <td>55245</td>\n",
       "      <td>635000</td>\n",
       "      <td>131710</td>\n",
       "      <td>384884</td>\n",
       "      <td>1.01041e+06</td>\n",
       "      <td>392543</td>\n",
       "      <td>457703</td>\n",
       "      <td>1.55e+06</td>\n",
       "      <td>318311</td>\n",
       "      <td>419390</td>\n",
       "    </tr>\n",
       "    <tr>\n",
       "      <th>assessmentyear</th>\n",
       "      <td>2016</td>\n",
       "      <td>2016</td>\n",
       "      <td>2016</td>\n",
       "      <td>2016</td>\n",
       "      <td>2016</td>\n",
       "      <td>2016</td>\n",
       "      <td>2016</td>\n",
       "      <td>2016</td>\n",
       "      <td>2016</td>\n",
       "      <td>2016</td>\n",
       "    </tr>\n",
       "    <tr>\n",
       "      <th>landtaxvaluedollarcnt</th>\n",
       "      <td>30829</td>\n",
       "      <td>423273</td>\n",
       "      <td>32828</td>\n",
       "      <td>269524</td>\n",
       "      <td>536555</td>\n",
       "      <td>327121</td>\n",
       "      <td>383586</td>\n",
       "      <td>1.0514e+06</td>\n",
       "      <td>239476</td>\n",
       "      <td>371998</td>\n",
       "    </tr>\n",
       "    <tr>\n",
       "      <th>taxamount</th>\n",
       "      <td>749.34</td>\n",
       "      <td>7819.16</td>\n",
       "      <td>1745.23</td>\n",
       "      <td>4648.03</td>\n",
       "      <td>10357.6</td>\n",
       "      <td>4810.34</td>\n",
       "      <td>5887.08</td>\n",
       "      <td>18778.3</td>\n",
       "      <td>4026.74</td>\n",
       "      <td>4961.08</td>\n",
       "    </tr>\n",
       "    <tr>\n",
       "      <th>logerror</th>\n",
       "      <td>-0.0313775</td>\n",
       "      <td>-0.00618227</td>\n",
       "      <td>-0.0415779</td>\n",
       "      <td>0.011892</td>\n",
       "      <td>-0.0288808</td>\n",
       "      <td>0.142163</td>\n",
       "      <td>0.0512032</td>\n",
       "      <td>-0.0296859</td>\n",
       "      <td>0.0361949</td>\n",
       "      <td>0.0132909</td>\n",
       "    </tr>\n",
       "    <tr>\n",
       "      <th>transactiondate</th>\n",
       "      <td>2017-06-23</td>\n",
       "      <td>2017-08-25</td>\n",
       "      <td>2017-05-05</td>\n",
       "      <td>2017-01-23</td>\n",
       "      <td>2017-07-24</td>\n",
       "      <td>2017-09-14</td>\n",
       "      <td>2017-01-23</td>\n",
       "      <td>2017-09-01</td>\n",
       "      <td>2017-02-21</td>\n",
       "      <td>2017-07-27</td>\n",
       "    </tr>\n",
       "    <tr>\n",
       "      <th>heatingorsystemdesc</th>\n",
       "      <td>Floor/Wall</td>\n",
       "      <td>None</td>\n",
       "      <td>Central</td>\n",
       "      <td>Floor/Wall</td>\n",
       "      <td>Forced air</td>\n",
       "      <td>Floor/Wall</td>\n",
       "      <td>None</td>\n",
       "      <td>Central</td>\n",
       "      <td>Central</td>\n",
       "      <td>None</td>\n",
       "    </tr>\n",
       "    <tr>\n",
       "      <th>county</th>\n",
       "      <td>Los_Angeles</td>\n",
       "      <td>Orange</td>\n",
       "      <td>Los_Angeles</td>\n",
       "      <td>Los_Angeles</td>\n",
       "      <td>Orange</td>\n",
       "      <td>Los_Angeles</td>\n",
       "      <td>Orange</td>\n",
       "      <td>Los_Angeles</td>\n",
       "      <td>Los_Angeles</td>\n",
       "      <td>Orange</td>\n",
       "    </tr>\n",
       "    <tr>\n",
       "      <th>logerror_class</th>\n",
       "      <td>q1</td>\n",
       "      <td>q2</td>\n",
       "      <td>q1</td>\n",
       "      <td>q3</td>\n",
       "      <td>q1</td>\n",
       "      <td>q4</td>\n",
       "      <td>q4</td>\n",
       "      <td>q1</td>\n",
       "      <td>q3</td>\n",
       "      <td>q3</td>\n",
       "    </tr>\n",
       "    <tr>\n",
       "      <th>LA</th>\n",
       "      <td>1</td>\n",
       "      <td>0</td>\n",
       "      <td>1</td>\n",
       "      <td>1</td>\n",
       "      <td>0</td>\n",
       "      <td>1</td>\n",
       "      <td>0</td>\n",
       "      <td>1</td>\n",
       "      <td>1</td>\n",
       "      <td>0</td>\n",
       "    </tr>\n",
       "    <tr>\n",
       "      <th>Orange</th>\n",
       "      <td>0</td>\n",
       "      <td>1</td>\n",
       "      <td>0</td>\n",
       "      <td>0</td>\n",
       "      <td>1</td>\n",
       "      <td>0</td>\n",
       "      <td>1</td>\n",
       "      <td>0</td>\n",
       "      <td>0</td>\n",
       "      <td>1</td>\n",
       "    </tr>\n",
       "    <tr>\n",
       "      <th>Ventura</th>\n",
       "      <td>0</td>\n",
       "      <td>0</td>\n",
       "      <td>0</td>\n",
       "      <td>0</td>\n",
       "      <td>0</td>\n",
       "      <td>0</td>\n",
       "      <td>0</td>\n",
       "      <td>0</td>\n",
       "      <td>0</td>\n",
       "      <td>0</td>\n",
       "    </tr>\n",
       "  </tbody>\n",
       "</table>\n",
       "</div>"
      ],
      "text/plain": [
       "parcelid                         11709639     14725426     13094891  \\\n",
       "bathroomcnt                             1          2.5            2   \n",
       "bedroomcnt                              3            3            3   \n",
       "buildingqualitytypeid                   6            6            6   \n",
       "calculatedfinishedsquarefeet         1499         1904         1190   \n",
       "fips                                 6037         6059         6037   \n",
       "latitude                          34.0056      33.7342      34.0394   \n",
       "longitude                        -118.326     -117.769     -117.925   \n",
       "lotsizesquarefeet                    4229         7313       186785   \n",
       "rawcensustractandblock        6.03723e+07  6.05905e+07  6.03741e+07   \n",
       "regionidcity                        12447        52650        14542   \n",
       "regionidzip                         95989        96939        96525   \n",
       "roomcnt                                 0            0            0   \n",
       "unitcnt                                 1            1            1   \n",
       "yearbuilt                            1929         2002         1974   \n",
       "structuretaxvaluedollarcnt          24416       211727        98882   \n",
       "taxvaluedollarcnt                   55245       635000       131710   \n",
       "assessmentyear                       2016         2016         2016   \n",
       "landtaxvaluedollarcnt               30829       423273        32828   \n",
       "taxamount                          749.34      7819.16      1745.23   \n",
       "logerror                       -0.0313775  -0.00618227   -0.0415779   \n",
       "transactiondate                2017-06-23   2017-08-25   2017-05-05   \n",
       "heatingorsystemdesc            Floor/Wall         None      Central   \n",
       "county                        Los_Angeles       Orange  Los_Angeles   \n",
       "logerror_class                         q1           q2           q1   \n",
       "LA                                      1            0            1   \n",
       "Orange                                  0            1            0   \n",
       "Ventura                                 0            0            0   \n",
       "\n",
       "parcelid                         12558910     14395312     10779791  \\\n",
       "bathroomcnt                             1          4.5            1   \n",
       "bedroomcnt                              3            4            4   \n",
       "buildingqualitytypeid                   4            6            4   \n",
       "calculatedfinishedsquarefeet         1780         4493         1212   \n",
       "fips                                 6037         6059         6037   \n",
       "latitude                          33.7726      33.5613      34.1816   \n",
       "longitude                        -118.197     -117.689     -118.534   \n",
       "lotsizesquarefeet                    4998        13500         5995   \n",
       "rawcensustractandblock        6.03758e+07  6.05904e+07  6.03713e+07   \n",
       "regionidcity                        46298        25458        12447   \n",
       "regionidzip                         96236        96971        96364   \n",
       "roomcnt                                 0            9            0   \n",
       "unitcnt                                 1            1            1   \n",
       "yearbuilt                            1906         1989         1950   \n",
       "structuretaxvaluedollarcnt         115360       473854        65422   \n",
       "taxvaluedollarcnt                  384884  1.01041e+06       392543   \n",
       "assessmentyear                       2016         2016         2016   \n",
       "landtaxvaluedollarcnt              269524       536555       327121   \n",
       "taxamount                         4648.03      10357.6      4810.34   \n",
       "logerror                         0.011892   -0.0288808     0.142163   \n",
       "transactiondate                2017-01-23   2017-07-24   2017-09-14   \n",
       "heatingorsystemdesc            Floor/Wall   Forced air   Floor/Wall   \n",
       "county                        Los_Angeles       Orange  Los_Angeles   \n",
       "logerror_class                         q3           q1           q4   \n",
       "LA                                      1            0            1   \n",
       "Orange                                  0            1            0   \n",
       "Ventura                                 0            0            0   \n",
       "\n",
       "parcelid                         14000162     11984081     10715339  \\\n",
       "bathroomcnt                             2            4            2   \n",
       "bedroomcnt                              4            5            4   \n",
       "buildingqualitytypeid                   6            8            6   \n",
       "calculatedfinishedsquarefeet         1430         2944         1416   \n",
       "fips                                 6059         6037         6037   \n",
       "latitude                          33.7762      34.0667      34.2117   \n",
       "longitude                        -118.011      -118.34     -118.608   \n",
       "lotsizesquarefeet                    6000         7431         7500   \n",
       "rawcensustractandblock        6.05911e+07  6.03721e+07  6.03713e+07   \n",
       "regionidcity                        24832        12447        12447   \n",
       "regionidzip                         97052        96017        96339   \n",
       "roomcnt                                 7            0            0   \n",
       "unitcnt                                 1            1            1   \n",
       "yearbuilt                            1962         1924         1959   \n",
       "structuretaxvaluedollarcnt          74117       498600        78835   \n",
       "taxvaluedollarcnt                  457703     1.55e+06       318311   \n",
       "assessmentyear                       2016         2016         2016   \n",
       "landtaxvaluedollarcnt              383586   1.0514e+06       239476   \n",
       "taxamount                         5887.08      18778.3      4026.74   \n",
       "logerror                        0.0512032   -0.0296859    0.0361949   \n",
       "transactiondate                2017-01-23   2017-09-01   2017-02-21   \n",
       "heatingorsystemdesc                  None      Central      Central   \n",
       "county                             Orange  Los_Angeles  Los_Angeles   \n",
       "logerror_class                         q4           q1           q3   \n",
       "LA                                      0            1            1   \n",
       "Orange                                  1            0            0   \n",
       "Ventura                                 0            0            0   \n",
       "\n",
       "parcelid                         14115039  \n",
       "bathroomcnt                             2  \n",
       "bedroomcnt                              3  \n",
       "buildingqualitytypeid                   6  \n",
       "calculatedfinishedsquarefeet         1228  \n",
       "fips                                 6059  \n",
       "latitude                          33.8207  \n",
       "longitude                        -117.939  \n",
       "lotsizesquarefeet                    5580  \n",
       "rawcensustractandblock        6.05909e+07  \n",
       "regionidcity                        16764  \n",
       "regionidzip                         97021  \n",
       "roomcnt                                 5  \n",
       "unitcnt                                 1  \n",
       "yearbuilt                            1955  \n",
       "structuretaxvaluedollarcnt          47392  \n",
       "taxvaluedollarcnt                  419390  \n",
       "assessmentyear                       2016  \n",
       "landtaxvaluedollarcnt              371998  \n",
       "taxamount                         4961.08  \n",
       "logerror                        0.0132909  \n",
       "transactiondate                2017-07-27  \n",
       "heatingorsystemdesc                  None  \n",
       "county                             Orange  \n",
       "logerror_class                         q3  \n",
       "LA                                      0  \n",
       "Orange                                  1  \n",
       "Ventura                                 0  "
      ]
     },
     "execution_count": 11,
     "metadata": {},
     "output_type": "execute_result"
    }
   ],
   "source": [
    "df.sample(10).T"
   ]
  },
  {
   "cell_type": "code",
   "execution_count": 12,
   "metadata": {},
   "outputs": [
    {
     "data": {
      "text/plain": [
       "count    69920.000000\n",
       "mean         1.585312\n",
       "std          2.904869\n",
       "min          0.000000\n",
       "25%          0.000000\n",
       "50%          0.000000\n",
       "75%          0.000000\n",
       "max         15.000000\n",
       "Name: roomcnt, dtype: float64"
      ]
     },
     "execution_count": 12,
     "metadata": {},
     "output_type": "execute_result"
    }
   ],
   "source": [
    "df.roomcnt.describe()"
   ]
  },
  {
   "cell_type": "markdown",
   "metadata": {},
   "source": [
    "#### Decisions / To-Do List:\n",
    "- Add get_counties function to prepare module and update wrangle_zillow\n",
    "- \n",
    "\n",
    "#### Questions:\n",
    "- Why are there 0s in roomcnt? - Is this column valuable?\n",
    "- Do I need to keep County and FIPS after encoding? \n"
   ]
  },
  {
   "cell_type": "code",
   "execution_count": 13,
   "metadata": {},
   "outputs": [
    {
     "data": {
      "text/plain": [
       "['bathroomcnt',\n",
       " 'bedroomcnt',\n",
       " 'buildingqualitytypeid',\n",
       " 'calculatedfinishedsquarefeet',\n",
       " 'fips',\n",
       " 'latitude',\n",
       " 'longitude',\n",
       " 'lotsizesquarefeet',\n",
       " 'rawcensustractandblock',\n",
       " 'regionidcity',\n",
       " 'regionidzip',\n",
       " 'roomcnt',\n",
       " 'unitcnt',\n",
       " 'yearbuilt',\n",
       " 'structuretaxvaluedollarcnt',\n",
       " 'taxvaluedollarcnt',\n",
       " 'assessmentyear',\n",
       " 'landtaxvaluedollarcnt',\n",
       " 'taxamount',\n",
       " 'logerror',\n",
       " 'transactiondate',\n",
       " 'heatingorsystemdesc',\n",
       " 'county',\n",
       " 'logerror_class',\n",
       " 'LA',\n",
       " 'Orange',\n",
       " 'Ventura']"
      ]
     },
     "execution_count": 13,
     "metadata": {},
     "output_type": "execute_result"
    }
   ],
   "source": [
    "df.columns.to_list()"
   ]
  },
  {
   "cell_type": "code",
   "execution_count": 14,
   "metadata": {},
   "outputs": [],
   "source": [
    "def create_features(df):\n",
    "    df['age'] = 2017 - df.yearbuilt\n",
    "    df['age_bin'] = pd.cut(df.age, \n",
    "                           bins = [0, 5, 10, 20, 30, 40, 50, 60, 70, 80, 90, 100, 110, 120, 130, 140],\n",
    "                           labels = [0, .066, .133, .20, .266, .333, .40, .466, .533, \n",
    "                                     .60, .666, .733, .8, .866, .933])\n",
    "\n",
    "    # create taxrate variable\n",
    "    df['taxrate'] = df.taxamount/df.taxvaluedollarcnt*100\n",
    "\n",
    "    # create acres variable\n",
    "    df['acres'] = df.lotsizesquarefeet/43560\n",
    "\n",
    "    # bin acres\n",
    "    df['acres_bin'] = pd.cut(df.acres, bins = [0, .10, .15, .25, .5, 1, 5, 10, 20, 50, 200], \n",
    "                       labels = [0, .1, .2, .3, .4, .5, .6, .7, .8, .9])\n",
    "\n",
    "    # square feet bin\n",
    "    df['sqft_bin'] = pd.cut(df.calculatedfinishedsquarefeet, \n",
    "                            bins = [0, 800, 1000, 1250, 1500, 2000, 2500, 3000, 4000, 7000, 12000],\n",
    "                            labels = [0, .1, .2, .3, .4, .5, .6, .7, .8, .9]\n",
    "                       )\n",
    "\n",
    "    # dollar per square foot-structure\n",
    "    df['structure_dollar_per_sqft'] = df.structuretaxvaluedollarcnt/df.calculatedfinishedsquarefeet\n",
    "\n",
    "\n",
    "    df['structure_dollar_sqft_bin'] = pd.cut(df.structure_dollar_per_sqft, \n",
    "                                             bins = [0, 25, 50, 75, 100, 150, 200, 300, 500, 1000, 1500],\n",
    "                                             labels = [0, .1, .2, .3, .4, .5, .6, .7, .8, .9]\n",
    "                                            )\n",
    "\n",
    "\n",
    "    # dollar per square foot-land\n",
    "    df['land_dollar_per_sqft'] = df.landtaxvaluedollarcnt/df.lotsizesquarefeet\n",
    "\n",
    "    df['lot_dollar_sqft_bin'] = pd.cut(df.land_dollar_per_sqft, bins = [0, 1, 5, 20, 50, 100, 250, 500, 1000, 1500, 2000],\n",
    "                                       labels = [0, .1, .2, .3, .4, .5, .6, .7, .8, .9]\n",
    "                                      )\n",
    "\n",
    "\n",
    "    # update datatypes of binned values to be float\n",
    "    df = df.astype({'sqft_bin': 'float64', 'acres_bin': 'float64', 'age_bin': 'float64',\n",
    "                    'structure_dollar_sqft_bin': 'float64', 'lot_dollar_sqft_bin': 'float64'})\n",
    "\n",
    "\n",
    "    # ratio of bathrooms to bedrooms\n",
    "    df['bath_bed_ratio'] = df.bathroomcnt/df.bedroomcnt\n",
    "\n",
    "    # 12447 is the ID for city of LA. \n",
    "    # I confirmed through sampling and plotting, as well as looking up a few addresses.\n",
    "    df['cola'] = df['regionidcity'].apply(lambda x: 1 if x == 12447.0 else 0)\n",
    "\n",
    "    return df"
   ]
  },
  {
   "cell_type": "code",
   "execution_count": 15,
   "metadata": {},
   "outputs": [],
   "source": [
    "df = create_features(df)"
   ]
  },
  {
   "cell_type": "code",
   "execution_count": 16,
   "metadata": {},
   "outputs": [
    {
     "data": {
      "text/html": [
       "<div>\n",
       "<style scoped>\n",
       "    .dataframe tbody tr th:only-of-type {\n",
       "        vertical-align: middle;\n",
       "    }\n",
       "\n",
       "    .dataframe tbody tr th {\n",
       "        vertical-align: top;\n",
       "    }\n",
       "\n",
       "    .dataframe thead th {\n",
       "        text-align: right;\n",
       "    }\n",
       "</style>\n",
       "<table border=\"1\" class=\"dataframe\">\n",
       "  <thead>\n",
       "    <tr style=\"text-align: right;\">\n",
       "      <th></th>\n",
       "      <th>bathroomcnt</th>\n",
       "      <th>bedroomcnt</th>\n",
       "      <th>buildingqualitytypeid</th>\n",
       "      <th>calculatedfinishedsquarefeet</th>\n",
       "      <th>fips</th>\n",
       "      <th>latitude</th>\n",
       "      <th>longitude</th>\n",
       "      <th>lotsizesquarefeet</th>\n",
       "      <th>rawcensustractandblock</th>\n",
       "      <th>regionidcity</th>\n",
       "      <th>...</th>\n",
       "      <th>taxrate</th>\n",
       "      <th>acres</th>\n",
       "      <th>acres_bin</th>\n",
       "      <th>sqft_bin</th>\n",
       "      <th>structure_dollar_per_sqft</th>\n",
       "      <th>structure_dollar_sqft_bin</th>\n",
       "      <th>land_dollar_per_sqft</th>\n",
       "      <th>lot_dollar_sqft_bin</th>\n",
       "      <th>bath_bed_ratio</th>\n",
       "      <th>cola</th>\n",
       "    </tr>\n",
       "    <tr>\n",
       "      <th>parcelid</th>\n",
       "      <th></th>\n",
       "      <th></th>\n",
       "      <th></th>\n",
       "      <th></th>\n",
       "      <th></th>\n",
       "      <th></th>\n",
       "      <th></th>\n",
       "      <th></th>\n",
       "      <th></th>\n",
       "      <th></th>\n",
       "      <th></th>\n",
       "      <th></th>\n",
       "      <th></th>\n",
       "      <th></th>\n",
       "      <th></th>\n",
       "      <th></th>\n",
       "      <th></th>\n",
       "      <th></th>\n",
       "      <th></th>\n",
       "      <th></th>\n",
       "      <th></th>\n",
       "    </tr>\n",
       "  </thead>\n",
       "  <tbody>\n",
       "    <tr>\n",
       "      <th>10711855</th>\n",
       "      <td>2.0</td>\n",
       "      <td>3.0</td>\n",
       "      <td>8.0</td>\n",
       "      <td>2107.0</td>\n",
       "      <td>6037.0</td>\n",
       "      <td>34.222559</td>\n",
       "      <td>-118.617387</td>\n",
       "      <td>9158.0</td>\n",
       "      <td>6.037113e+07</td>\n",
       "      <td>12447.0</td>\n",
       "      <td>...</td>\n",
       "      <td>1.227188</td>\n",
       "      <td>0.210239</td>\n",
       "      <td>0.2</td>\n",
       "      <td>0.5</td>\n",
       "      <td>118.488372</td>\n",
       "      <td>0.4</td>\n",
       "      <td>40.891461</td>\n",
       "      <td>0.3</td>\n",
       "      <td>0.666667</td>\n",
       "      <td>1</td>\n",
       "    </tr>\n",
       "    <tr>\n",
       "      <th>10711877</th>\n",
       "      <td>2.0</td>\n",
       "      <td>4.0</td>\n",
       "      <td>8.0</td>\n",
       "      <td>1882.0</td>\n",
       "      <td>6037.0</td>\n",
       "      <td>34.220261</td>\n",
       "      <td>-118.616409</td>\n",
       "      <td>9035.0</td>\n",
       "      <td>6.037113e+07</td>\n",
       "      <td>12447.0</td>\n",
       "      <td>...</td>\n",
       "      <td>1.230895</td>\n",
       "      <td>0.207415</td>\n",
       "      <td>0.2</td>\n",
       "      <td>0.4</td>\n",
       "      <td>134.431456</td>\n",
       "      <td>0.4</td>\n",
       "      <td>45.047039</td>\n",
       "      <td>0.3</td>\n",
       "      <td>0.500000</td>\n",
       "      <td>1</td>\n",
       "    </tr>\n",
       "    <tr>\n",
       "      <th>10711888</th>\n",
       "      <td>2.0</td>\n",
       "      <td>4.0</td>\n",
       "      <td>8.0</td>\n",
       "      <td>1882.0</td>\n",
       "      <td>6037.0</td>\n",
       "      <td>34.222491</td>\n",
       "      <td>-118.616854</td>\n",
       "      <td>9800.0</td>\n",
       "      <td>6.037113e+07</td>\n",
       "      <td>12447.0</td>\n",
       "      <td>...</td>\n",
       "      <td>1.229132</td>\n",
       "      <td>0.224977</td>\n",
       "      <td>0.2</td>\n",
       "      <td>0.4</td>\n",
       "      <td>136.870882</td>\n",
       "      <td>0.4</td>\n",
       "      <td>29.115510</td>\n",
       "      <td>0.3</td>\n",
       "      <td>0.500000</td>\n",
       "      <td>1</td>\n",
       "    </tr>\n",
       "    <tr>\n",
       "      <th>10711910</th>\n",
       "      <td>2.0</td>\n",
       "      <td>3.0</td>\n",
       "      <td>8.0</td>\n",
       "      <td>1477.0</td>\n",
       "      <td>6037.0</td>\n",
       "      <td>34.221864</td>\n",
       "      <td>-118.615739</td>\n",
       "      <td>11285.0</td>\n",
       "      <td>6.037113e+07</td>\n",
       "      <td>12447.0</td>\n",
       "      <td>...</td>\n",
       "      <td>1.430790</td>\n",
       "      <td>0.259068</td>\n",
       "      <td>0.3</td>\n",
       "      <td>0.3</td>\n",
       "      <td>39.247123</td>\n",
       "      <td>0.1</td>\n",
       "      <td>1.777847</td>\n",
       "      <td>0.1</td>\n",
       "      <td>0.666667</td>\n",
       "      <td>1</td>\n",
       "    </tr>\n",
       "    <tr>\n",
       "      <th>10711923</th>\n",
       "      <td>2.0</td>\n",
       "      <td>4.0</td>\n",
       "      <td>8.0</td>\n",
       "      <td>1918.0</td>\n",
       "      <td>6037.0</td>\n",
       "      <td>34.220619</td>\n",
       "      <td>-118.615253</td>\n",
       "      <td>11239.0</td>\n",
       "      <td>6.037113e+07</td>\n",
       "      <td>12447.0</td>\n",
       "      <td>...</td>\n",
       "      <td>1.261220</td>\n",
       "      <td>0.258012</td>\n",
       "      <td>0.3</td>\n",
       "      <td>0.4</td>\n",
       "      <td>87.522941</td>\n",
       "      <td>0.3</td>\n",
       "      <td>22.029540</td>\n",
       "      <td>0.3</td>\n",
       "      <td>0.500000</td>\n",
       "      <td>1</td>\n",
       "    </tr>\n",
       "  </tbody>\n",
       "</table>\n",
       "<p>5 rows × 39 columns</p>\n",
       "</div>"
      ],
      "text/plain": [
       "          bathroomcnt  bedroomcnt  buildingqualitytypeid  \\\n",
       "parcelid                                                   \n",
       "10711855          2.0         3.0                    8.0   \n",
       "10711877          2.0         4.0                    8.0   \n",
       "10711888          2.0         4.0                    8.0   \n",
       "10711910          2.0         3.0                    8.0   \n",
       "10711923          2.0         4.0                    8.0   \n",
       "\n",
       "          calculatedfinishedsquarefeet    fips   latitude   longitude  \\\n",
       "parcelid                                                                \n",
       "10711855                        2107.0  6037.0  34.222559 -118.617387   \n",
       "10711877                        1882.0  6037.0  34.220261 -118.616409   \n",
       "10711888                        1882.0  6037.0  34.222491 -118.616854   \n",
       "10711910                        1477.0  6037.0  34.221864 -118.615739   \n",
       "10711923                        1918.0  6037.0  34.220619 -118.615253   \n",
       "\n",
       "          lotsizesquarefeet  rawcensustractandblock  regionidcity  ...  \\\n",
       "parcelid                                                           ...   \n",
       "10711855             9158.0            6.037113e+07       12447.0  ...   \n",
       "10711877             9035.0            6.037113e+07       12447.0  ...   \n",
       "10711888             9800.0            6.037113e+07       12447.0  ...   \n",
       "10711910            11285.0            6.037113e+07       12447.0  ...   \n",
       "10711923            11239.0            6.037113e+07       12447.0  ...   \n",
       "\n",
       "           taxrate     acres  acres_bin  sqft_bin  structure_dollar_per_sqft  \\\n",
       "parcelid                                                                       \n",
       "10711855  1.227188  0.210239        0.2       0.5                 118.488372   \n",
       "10711877  1.230895  0.207415        0.2       0.4                 134.431456   \n",
       "10711888  1.229132  0.224977        0.2       0.4                 136.870882   \n",
       "10711910  1.430790  0.259068        0.3       0.3                  39.247123   \n",
       "10711923  1.261220  0.258012        0.3       0.4                  87.522941   \n",
       "\n",
       "          structure_dollar_sqft_bin  land_dollar_per_sqft  \\\n",
       "parcelid                                                    \n",
       "10711855                        0.4             40.891461   \n",
       "10711877                        0.4             45.047039   \n",
       "10711888                        0.4             29.115510   \n",
       "10711910                        0.1              1.777847   \n",
       "10711923                        0.3             22.029540   \n",
       "\n",
       "          lot_dollar_sqft_bin  bath_bed_ratio  cola  \n",
       "parcelid                                             \n",
       "10711855                  0.3        0.666667     1  \n",
       "10711877                  0.3        0.500000     1  \n",
       "10711888                  0.3        0.500000     1  \n",
       "10711910                  0.1        0.666667     1  \n",
       "10711923                  0.3        0.500000     1  \n",
       "\n",
       "[5 rows x 39 columns]"
      ]
     },
     "execution_count": 16,
     "metadata": {},
     "output_type": "execute_result"
    }
   ],
   "source": [
    "df.head()"
   ]
  },
  {
   "cell_type": "code",
   "execution_count": 17,
   "metadata": {},
   "outputs": [],
   "source": [
    "df.drop(columns={'fips','roomcnt','unitcnt', 'assessmentyear','logerror_class','county'}, inplace=True)"
   ]
  },
  {
   "cell_type": "markdown",
   "metadata": {},
   "source": [
    "# Explore Zillow Data"
   ]
  },
  {
   "cell_type": "markdown",
   "metadata": {},
   "source": [
    "### Check for outliers in Features"
   ]
  },
  {
   "cell_type": "code",
   "execution_count": 18,
   "metadata": {},
   "outputs": [
    {
     "data": {
      "image/png": "[encoded data removed]",
      "text/plain": [
       "<Figure size 432x288 with 1 Axes>"
      ]
     },
     "metadata": {
      "needs_background": "light"
     },
     "output_type": "display_data"
    },
    {
     "data": {
      "image/png": "[encoded data removed]",
      "text/plain": [
       "<Figure size 432x288 with 1 Axes>"
      ]
     },
     "metadata": {
      "needs_background": "light"
     },
     "output_type": "display_data"
    },
    {
     "data": {
      "image/png": "[encoded data removed]",
      "text/plain": [
       "<Figure size 432x288 with 1 Axes>"
      ]
     },
     "metadata": {
      "needs_background": "light"
     },
     "output_type": "display_data"
    },
    {
     "data": {
      "image/png": "[encoded data removed]",
      "text/plain": [
       "<Figure size 432x288 with 1 Axes>"
      ]
     },
     "metadata": {
      "needs_background": "light"
     },
     "output_type": "display_data"
    },
    {
     "data": {
      "image/png": "[encoded data removed]",
      "text/plain": [
       "<Figure size 432x288 with 1 Axes>"
      ]
     },
     "metadata": {
      "needs_background": "light"
     },
     "output_type": "display_data"
    },
    {
     "data": {
      "image/png": "[encoded data removed]",
      "text/plain": [
       "<Figure size 432x288 with 1 Axes>"
      ]
     },
     "metadata": {
      "needs_background": "light"
     },
     "output_type": "display_data"
    },
    {
     "data": {
      "image/png": "[encoded data removed]",
      "text/plain": [
       "<Figure size 432x288 with 1 Axes>"
      ]
     },
     "metadata": {
      "needs_background": "light"
     },
     "output_type": "display_data"
    },
    {
     "data": {
      "image/png": "[encoded data removed]",
      "text/plain": [
       "<Figure size 432x288 with 1 Axes>"
      ]
     },
     "metadata": {
      "needs_background": "light"
     },
     "output_type": "display_data"
    },
    {
     "data": {
      "image/png": "[encoded data removed]",
      "text/plain": [
       "<Figure size 432x288 with 1 Axes>"
      ]
     },
     "metadata": {
      "needs_background": "light"
     },
     "output_type": "display_data"
    },
    {
     "data": {
      "image/png": "[encoded data removed]",
      "text/plain": [
       "<Figure size 432x288 with 1 Axes>"
      ]
     },
     "metadata": {
      "needs_background": "light"
     },
     "output_type": "display_data"
    },
    {
     "data": {
      "image/png": "[encoded data removed]",
      "text/plain": [
       "<Figure size 432x288 with 1 Axes>"
      ]
     },
     "metadata": {
      "needs_background": "light"
     },
     "output_type": "display_data"
    },
    {
     "data": {
      "image/png": "[encoded data removed]",
      "text/plain": [
       "<Figure size 432x288 with 1 Axes>"
      ]
     },
     "metadata": {
      "needs_background": "light"
     },
     "output_type": "display_data"
    },
    {
     "data": {
      "image/png": "[encoded data removed]",
      "text/plain": [
       "<Figure size 432x288 with 1 Axes>"
      ]
     },
     "metadata": {
      "needs_background": "light"
     },
     "output_type": "display_data"
    },
    {
     "data": {
      "image/png": "[encoded data removed]",
      "text/plain": [
       "<Figure size 432x288 with 1 Axes>"
      ]
     },
     "metadata": {
      "needs_background": "light"
     },
     "output_type": "display_data"
    },
    {
     "data": {
      "image/png": "[encoded data removed]",
      "text/plain": [
       "<Figure size 432x288 with 1 Axes>"
      ]
     },
     "metadata": {
      "needs_background": "light"
     },
     "output_type": "display_data"
    },
    {
     "data": {
      "image/png": "[encoded data removed]",
      "text/plain": [
       "<Figure size 432x288 with 1 Axes>"
      ]
     },
     "metadata": {
      "needs_background": "light"
     },
     "output_type": "display_data"
    },
    {
     "ename": "TypeError",
     "evalue": "Horizontal orientation requires numeric `x` variable.",
     "output_type": "error",
     "traceback": [
      "\u001b[0;31m---------------------------------------------------------------------------\u001b[0m",
      "\u001b[0;31mTypeError\u001b[0m                                 Traceback (most recent call last)",
      "\u001b[0;32m<ipython-input-18-3088324e802e>\u001b[0m in \u001b[0;36m<module>\u001b[0;34m\u001b[0m\n\u001b[1;32m      1\u001b[0m \u001b[0;31m#Explore Dists of Features:\u001b[0m\u001b[0;34m\u001b[0m\u001b[0;34m\u001b[0m\u001b[0;34m\u001b[0m\u001b[0m\n\u001b[1;32m      2\u001b[0m \u001b[0;32mfor\u001b[0m \u001b[0mcol\u001b[0m \u001b[0;32min\u001b[0m \u001b[0mdf\u001b[0m\u001b[0;34m.\u001b[0m\u001b[0mcolumns\u001b[0m\u001b[0;34m:\u001b[0m\u001b[0;34m\u001b[0m\u001b[0;34m\u001b[0m\u001b[0m\n\u001b[0;32m----> 3\u001b[0;31m     \u001b[0msns\u001b[0m\u001b[0;34m.\u001b[0m\u001b[0mboxplot\u001b[0m\u001b[0;34m(\u001b[0m\u001b[0mdf\u001b[0m\u001b[0;34m[\u001b[0m\u001b[0mcol\u001b[0m\u001b[0;34m]\u001b[0m\u001b[0;34m)\u001b[0m\u001b[0;34m\u001b[0m\u001b[0;34m\u001b[0m\u001b[0m\n\u001b[0m\u001b[1;32m      4\u001b[0m     \u001b[0mplt\u001b[0m\u001b[0;34m.\u001b[0m\u001b[0mtitle\u001b[0m\u001b[0;34m(\u001b[0m\u001b[0mcol\u001b[0m\u001b[0;34m)\u001b[0m\u001b[0;34m\u001b[0m\u001b[0;34m\u001b[0m\u001b[0m\n\u001b[1;32m      5\u001b[0m     \u001b[0mplt\u001b[0m\u001b[0;34m.\u001b[0m\u001b[0mshow\u001b[0m\u001b[0;34m(\u001b[0m\u001b[0;34m)\u001b[0m\u001b[0;34m\u001b[0m\u001b[0;34m\u001b[0m\u001b[0m\n",
      "\u001b[0;32m/usr/local/anaconda3/lib/python3.8/site-packages/seaborn/_decorators.py\u001b[0m in \u001b[0;36minner_f\u001b[0;34m(*args, **kwargs)\u001b[0m\n\u001b[1;32m     44\u001b[0m             )\n\u001b[1;32m     45\u001b[0m         \u001b[0mkwargs\u001b[0m\u001b[0;34m.\u001b[0m\u001b[0mupdate\u001b[0m\u001b[0;34m(\u001b[0m\u001b[0;34m{\u001b[0m\u001b[0mk\u001b[0m\u001b[0;34m:\u001b[0m \u001b[0marg\u001b[0m \u001b[0;32mfor\u001b[0m \u001b[0mk\u001b[0m\u001b[0;34m,\u001b[0m \u001b[0marg\u001b[0m \u001b[0;32min\u001b[0m \u001b[0mzip\u001b[0m\u001b[0;34m(\u001b[0m\u001b[0msig\u001b[0m\u001b[0;34m.\u001b[0m\u001b[0mparameters\u001b[0m\u001b[0;34m,\u001b[0m \u001b[0margs\u001b[0m\u001b[0;34m)\u001b[0m\u001b[0;34m}\u001b[0m\u001b[0;34m)\u001b[0m\u001b[0;34m\u001b[0m\u001b[0;34m\u001b[0m\u001b[0m\n\u001b[0;32m---> 46\u001b[0;31m         \u001b[0;32mreturn\u001b[0m \u001b[0mf\u001b[0m\u001b[0;34m(\u001b[0m\u001b[0;34m**\u001b[0m\u001b[0mkwargs\u001b[0m\u001b[0;34m)\u001b[0m\u001b[0;34m\u001b[0m\u001b[0;34m\u001b[0m\u001b[0m\n\u001b[0m\u001b[1;32m     47\u001b[0m     \u001b[0;32mreturn\u001b[0m \u001b[0minner_f\u001b[0m\u001b[0;34m\u001b[0m\u001b[0;34m\u001b[0m\u001b[0m\n\u001b[1;32m     48\u001b[0m \u001b[0;34m\u001b[0m\u001b[0m\n",
      "\u001b[0;32m/usr/local/anaconda3/lib/python3.8/site-packages/seaborn/categorical.py\u001b[0m in \u001b[0;36mboxplot\u001b[0;34m(x, y, hue, data, order, hue_order, orient, color, palette, saturation, width, dodge, fliersize, linewidth, whis, ax, **kwargs)\u001b[0m\n\u001b[1;32m   2228\u001b[0m ):\n\u001b[1;32m   2229\u001b[0m \u001b[0;34m\u001b[0m\u001b[0m\n\u001b[0;32m-> 2230\u001b[0;31m     plotter = _BoxPlotter(x, y, hue, data, order, hue_order,\n\u001b[0m\u001b[1;32m   2231\u001b[0m                           \u001b[0morient\u001b[0m\u001b[0;34m,\u001b[0m \u001b[0mcolor\u001b[0m\u001b[0;34m,\u001b[0m \u001b[0mpalette\u001b[0m\u001b[0;34m,\u001b[0m \u001b[0msaturation\u001b[0m\u001b[0;34m,\u001b[0m\u001b[0;34m\u001b[0m\u001b[0;34m\u001b[0m\u001b[0m\n\u001b[1;32m   2232\u001b[0m                           width, dodge, fliersize, linewidth)\n",
      "\u001b[0;32m/usr/local/anaconda3/lib/python3.8/site-packages/seaborn/categorical.py\u001b[0m in \u001b[0;36m__init__\u001b[0;34m(self, x, y, hue, data, order, hue_order, orient, color, palette, saturation, width, dodge, fliersize, linewidth)\u001b[0m\n\u001b[1;32m    404\u001b[0m                  width, dodge, fliersize, linewidth):\n\u001b[1;32m    405\u001b[0m \u001b[0;34m\u001b[0m\u001b[0m\n\u001b[0;32m--> 406\u001b[0;31m         \u001b[0mself\u001b[0m\u001b[0;34m.\u001b[0m\u001b[0mestablish_variables\u001b[0m\u001b[0;34m(\u001b[0m\u001b[0mx\u001b[0m\u001b[0;34m,\u001b[0m \u001b[0my\u001b[0m\u001b[0;34m,\u001b[0m \u001b[0mhue\u001b[0m\u001b[0;34m,\u001b[0m \u001b[0mdata\u001b[0m\u001b[0;34m,\u001b[0m \u001b[0morient\u001b[0m\u001b[0;34m,\u001b[0m \u001b[0morder\u001b[0m\u001b[0;34m,\u001b[0m \u001b[0mhue_order\u001b[0m\u001b[0;34m)\u001b[0m\u001b[0;34m\u001b[0m\u001b[0;34m\u001b[0m\u001b[0m\n\u001b[0m\u001b[1;32m    407\u001b[0m         \u001b[0mself\u001b[0m\u001b[0;34m.\u001b[0m\u001b[0mestablish_colors\u001b[0m\u001b[0;34m(\u001b[0m\u001b[0mcolor\u001b[0m\u001b[0;34m,\u001b[0m \u001b[0mpalette\u001b[0m\u001b[0;34m,\u001b[0m \u001b[0msaturation\u001b[0m\u001b[0;34m)\u001b[0m\u001b[0;34m\u001b[0m\u001b[0;34m\u001b[0m\u001b[0m\n\u001b[1;32m    408\u001b[0m \u001b[0;34m\u001b[0m\u001b[0m\n",
      "\u001b[0;32m/usr/local/anaconda3/lib/python3.8/site-packages/seaborn/categorical.py\u001b[0m in \u001b[0;36mestablish_variables\u001b[0;34m(self, x, y, hue, data, orient, order, hue_order, units)\u001b[0m\n\u001b[1;32m    154\u001b[0m \u001b[0;34m\u001b[0m\u001b[0m\n\u001b[1;32m    155\u001b[0m             \u001b[0;31m# Figure out the plotting orientation\u001b[0m\u001b[0;34m\u001b[0m\u001b[0;34m\u001b[0m\u001b[0;34m\u001b[0m\u001b[0m\n\u001b[0;32m--> 156\u001b[0;31m             orient = infer_orient(\n\u001b[0m\u001b[1;32m    157\u001b[0m                 \u001b[0mx\u001b[0m\u001b[0;34m,\u001b[0m \u001b[0my\u001b[0m\u001b[0;34m,\u001b[0m \u001b[0morient\u001b[0m\u001b[0;34m,\u001b[0m \u001b[0mrequire_numeric\u001b[0m\u001b[0;34m=\u001b[0m\u001b[0mself\u001b[0m\u001b[0;34m.\u001b[0m\u001b[0mrequire_numeric\u001b[0m\u001b[0;34m\u001b[0m\u001b[0;34m\u001b[0m\u001b[0m\n\u001b[1;32m    158\u001b[0m             )\n",
      "\u001b[0;32m/usr/local/anaconda3/lib/python3.8/site-packages/seaborn/_core.py\u001b[0m in \u001b[0;36minfer_orient\u001b[0;34m(x, y, orient, require_numeric)\u001b[0m\n\u001b[1;32m   1303\u001b[0m             \u001b[0mwarnings\u001b[0m\u001b[0;34m.\u001b[0m\u001b[0mwarn\u001b[0m\u001b[0;34m(\u001b[0m\u001b[0msingle_var_warning\u001b[0m\u001b[0;34m.\u001b[0m\u001b[0mformat\u001b[0m\u001b[0;34m(\u001b[0m\u001b[0;34m\"Vertical\"\u001b[0m\u001b[0;34m,\u001b[0m \u001b[0;34m\"x\"\u001b[0m\u001b[0;34m)\u001b[0m\u001b[0;34m)\u001b[0m\u001b[0;34m\u001b[0m\u001b[0;34m\u001b[0m\u001b[0m\n\u001b[1;32m   1304\u001b[0m         \u001b[0;32mif\u001b[0m \u001b[0mrequire_numeric\u001b[0m \u001b[0;32mand\u001b[0m \u001b[0mx_type\u001b[0m \u001b[0;34m!=\u001b[0m \u001b[0;34m\"numeric\"\u001b[0m\u001b[0;34m:\u001b[0m\u001b[0;34m\u001b[0m\u001b[0;34m\u001b[0m\u001b[0m\n\u001b[0;32m-> 1305\u001b[0;31m             \u001b[0;32mraise\u001b[0m \u001b[0mTypeError\u001b[0m\u001b[0;34m(\u001b[0m\u001b[0mnonnumeric_dv_error\u001b[0m\u001b[0;34m.\u001b[0m\u001b[0mformat\u001b[0m\u001b[0;34m(\u001b[0m\u001b[0;34m\"Horizontal\"\u001b[0m\u001b[0;34m,\u001b[0m \u001b[0;34m\"x\"\u001b[0m\u001b[0;34m)\u001b[0m\u001b[0;34m)\u001b[0m\u001b[0;34m\u001b[0m\u001b[0;34m\u001b[0m\u001b[0m\n\u001b[0m\u001b[1;32m   1306\u001b[0m         \u001b[0;32mreturn\u001b[0m \u001b[0;34m\"h\"\u001b[0m\u001b[0;34m\u001b[0m\u001b[0;34m\u001b[0m\u001b[0m\n\u001b[1;32m   1307\u001b[0m \u001b[0;34m\u001b[0m\u001b[0m\n",
      "\u001b[0;31mTypeError\u001b[0m: Horizontal orientation requires numeric `x` variable."
     ]
    }
   ],
   "source": [
    "#Explore Dists of Features:\n",
    "for col in df.columns:\n",
    "    sns.boxplot(df[col])\n",
    "    plt.title(col)\n",
    "    plt.show()"
   ]
  },
  {
   "cell_type": "markdown",
   "metadata": {},
   "source": [
    "### Takeaways:\n",
    "- Should I deal with outliers in Bathroom count? This was a strong feature/ reliable in regression project without removing outliers of bathroom count directly.\n",
    "- Outliers in bedroom count as well...Make a feature bedrooms/bathrooms?\n",
    "- Building Quality type id looks centered / normally distributed\n",
    "- Outliers in finished square feet \n",
    "- Outlier in FIPS? Is that Ventura County? \n",
    "- Lat and Long look okay...no action for now\n",
    "- Lotsize square feet has outliers on upperbound\n",
    "- Rawcensustractandblock...still need to determine what this is\n",
    "- Regionid City...Most properties in LA?\n",
    "- Regionzip...still want to deal with this...suspect errors in data\n",
    "- roomcnt...most are 0? It is total number of rooms in principal of residence...Should just drop\n",
    "- Unit count is as expected...drop since all values are equal\n",
    "- Year built has some outliers...should create new feature for age of home? \n",
    "- Structuretaxvaluedollar cnt has outliers in upperbound \n",
    "- Assessment year is the same for all properties. Drop column\n",
    "- Landtax value dollar cnt has has upperbound outliers...Do these outliers correspond with sturcture tax value dollar count?\n",
    "- Logerror has outliers..How do I want to handle this? Leave as is for the first iteration. "
   ]
  },
  {
   "cell_type": "code",
   "execution_count": null,
   "metadata": {},
   "outputs": [],
   "source": [
    "def outlier_label(x, lower, upper):\n",
    "    if (lower >= x) or (x >= upper):\n",
    "        return 'Yes'\n",
    "    else:\n",
    "        \n",
    "        return 'No'"
   ]
  },
  {
   "cell_type": "code",
   "execution_count": null,
   "metadata": {},
   "outputs": [],
   "source": [
    "columns_to_check = ['bathroomcnt', 'bedroomcnt',\n",
    "       'calculatedfinishedsquarefeet',\n",
    "       'lotsizesquarefeet', 'rawcensustractandblock','yearbuilt',\n",
    "       'structuretaxvaluedollarcnt', 'taxvaluedollarcnt',\n",
    "       'landtaxvaluedollarcnt', 'taxamount', 'logerror']"
   ]
  },
  {
   "cell_type": "code",
   "execution_count": null,
   "metadata": {},
   "outputs": [],
   "source": [
    "for col in columns_to_check:\n",
    "    quartile_01, quartile_03 = np.percentile(df[col], [25, 75])\n",
    "    iqr = quartile_03 - quartile_01\n",
    "    \n",
    "    lower_bound = quartile_01 -(3 * iqr)\n",
    "    upper_bound = quartile_03 +(3 * iqr)\n",
    "    \n",
    "    df['outlier'] = df[col].apply(lambda x: outlier_label(x, lower_bound, upper_bound))\n",
    "    \n",
    "\n",
    "    print(f\"The lower and upper bound of the range for '{col}' respectively is: {lower_bound} and {upper_bound}\")"
   ]
  },
  {
   "cell_type": "code",
   "execution_count": null,
   "metadata": {},
   "outputs": [],
   "source": [
    "outliers = df['outlier'] == 'Yes' # filter for outliers\n",
    "df[outliers][['bathroomcnt', 'bedroomcnt',\n",
    "       'calculatedfinishedsquarefeet',\n",
    "       'lotsizesquarefeet', 'rawcensustractandblock','yearbuilt',\n",
    "       'structuretaxvaluedollarcnt', 'taxvaluedollarcnt',\n",
    "       'landtaxvaluedollarcnt', 'taxamount', 'logerror']].groupby('parcelid').head()"
   ]
  },
  {
   "cell_type": "code",
   "execution_count": null,
   "metadata": {},
   "outputs": [],
   "source": [
    "#How many total outliers are there in the dataframe as defined by the outlier function above?\n",
    "len(df[df.outlier == 'Yes'])"
   ]
  },
  {
   "cell_type": "code",
   "execution_count": null,
   "metadata": {},
   "outputs": [],
   "source": [
    "df.shape"
   ]
  },
  {
   "cell_type": "code",
   "execution_count": 19,
   "metadata": {},
   "outputs": [
    {
     "name": "stdout",
     "output_type": "stream",
     "text": [
      "The % of observations lost by removing all outliers is: 18.63539445628998%\n"
     ]
    }
   ],
   "source": [
    "print(f'The % of observations lost by removing all outliers is: {69920/3752}%')"
   ]
  },
  {
   "cell_type": "markdown",
   "metadata": {},
   "source": [
    "**If I just remove all outliers in the features listed above in columns_to_check, I would lose 18.63 % of the data.**"
   ]
  },
  {
   "cell_type": "markdown",
   "metadata": {},
   "source": [
    "#### Explore the distributions"
   ]
  },
  {
   "cell_type": "code",
   "execution_count": 20,
   "metadata": {},
   "outputs": [
    {
     "data": {
      "image/png": "[encoded data removed]",
      "text/plain": [
       "<Figure size 432x288 with 1 Axes>"
      ]
     },
     "metadata": {
      "needs_background": "light"
     },
     "output_type": "display_data"
    },
    {
     "data": {
      "image/png": "[encoded data removed]",
      "text/plain": [
       "<Figure size 432x288 with 1 Axes>"
      ]
     },
     "metadata": {
      "needs_background": "light"
     },
     "output_type": "display_data"
    },
    {
     "data": {
      "image/png": "[encoded data removed]",
      "text/plain": [
       "<Figure size 432x288 with 1 Axes>"
      ]
     },
     "metadata": {
      "needs_background": "light"
     },
     "output_type": "display_data"
    },
    {
     "data": {
      "image/png": "[encoded data removed]",
      "text/plain": [
       "<Figure size 432x288 with 1 Axes>"
      ]
     },
     "metadata": {
      "needs_background": "light"
     },
     "output_type": "display_data"
    },
    {
     "data": {
      "image/png": "[encoded data removed]",
      "text/plain": [
       "<Figure size 432x288 with 1 Axes>"
      ]
     },
     "metadata": {
      "needs_background": "light"
     },
     "output_type": "display_data"
    },
    {
     "data": {
      "image/png": "[encoded data removed]",
      "text/plain": [
       "<Figure size 432x288 with 1 Axes>"
      ]
     },
     "metadata": {
      "needs_background": "light"
     },
     "output_type": "display_data"
    },
    {
     "data": {
      "image/png": "[encoded data removed]",
      "text/plain": [
       "<Figure size 432x288 with 1 Axes>"
      ]
     },
     "metadata": {
      "needs_background": "light"
     },
     "output_type": "display_data"
    },
    {
     "data": {
      "image/png": "[encoded data removed]",
      "text/plain": [
       "<Figure size 432x288 with 1 Axes>"
      ]
     },
     "metadata": {
      "needs_background": "light"
     },
     "output_type": "display_data"
    },
    {
     "data": {
      "image/png": "[encoded data removed]",
      "text/plain": [
       "<Figure size 432x288 with 1 Axes>"
      ]
     },
     "metadata": {
      "needs_background": "light"
     },
     "output_type": "display_data"
    },
    {
     "data": {
      "image/png": "[encoded data removed]",
      "text/plain": [
       "<Figure size 432x288 with 1 Axes>"
      ]
     },
     "metadata": {
      "needs_background": "light"
     },
     "output_type": "display_data"
    },
    {
     "data": {
      "image/png": "[encoded data removed]",
      "text/plain": [
       "<Figure size 432x288 with 1 Axes>"
      ]
     },
     "metadata": {
      "needs_background": "light"
     },
     "output_type": "display_data"
    },
    {
     "data": {
      "image/png": "[encoded data removed]",
      "text/plain": [
       "<Figure size 432x288 with 1 Axes>"
      ]
     },
     "metadata": {
      "needs_background": "light"
     },
     "output_type": "display_data"
    },
    {
     "data": {
      "image/png": "[encoded data removed]",
      "text/plain": [
       "<Figure size 432x288 with 1 Axes>"
      ]
     },
     "metadata": {
      "needs_background": "light"
     },
     "output_type": "display_data"
    },
    {
     "data": {
      "image/png": "[encoded data removed]",
      "text/plain": [
       "<Figure size 432x288 with 1 Axes>"
      ]
     },
     "metadata": {
      "needs_background": "light"
     },
     "output_type": "display_data"
    },
    {
     "data": {
      "image/png": "[encoded data removed]",
      "text/plain": [
       "<Figure size 432x288 with 1 Axes>"
      ]
     },
     "metadata": {
      "needs_background": "light"
     },
     "output_type": "display_data"
    },
    {
     "data": {
      "image/png": "[encoded data removed]",
      "text/plain": [
       "<Figure size 432x288 with 1 Axes>"
      ]
     },
     "metadata": {
      "needs_background": "light"
     },
     "output_type": "display_data"
    },
    {
     "data": {
      "image/png": "[encoded data removed]",
      "text/plain": [
       "<Figure size 432x288 with 1 Axes>"
      ]
     },
     "metadata": {
      "needs_background": "light"
     },
     "output_type": "display_data"
    },
    {
     "data": {
      "image/png": "[encoded data removed]",
      "text/plain": [
       "<Figure size 432x288 with 1 Axes>"
      ]
     },
     "metadata": {
      "needs_background": "light"
     },
     "output_type": "display_data"
    },
    {
     "data": {
      "image/png": "[encoded data removed]",
      "text/plain": [
       "<Figure size 432x288 with 1 Axes>"
      ]
     },
     "metadata": {
      "needs_background": "light"
     },
     "output_type": "display_data"
    },
    {
     "data": {
      "image/png": "[encoded data removed]",
      "text/plain": [
       "<Figure size 432x288 with 1 Axes>"
      ]
     },
     "metadata": {
      "needs_background": "light"
     },
     "output_type": "display_data"
    },
    {
     "data": {
      "image/png": "[encoded data removed]",
      "text/plain": [
       "<Figure size 432x288 with 1 Axes>"
      ]
     },
     "metadata": {
      "needs_background": "light"
     },
     "output_type": "display_data"
    },
    {
     "data": {
      "image/png": "[encoded data removed]",
      "text/plain": [
       "<Figure size 432x288 with 1 Axes>"
      ]
     },
     "metadata": {
      "needs_background": "light"
     },
     "output_type": "display_data"
    },
    {
     "data": {
      "image/png": "[encoded data removed]",
      "text/plain": [
       "<Figure size 432x288 with 1 Axes>"
      ]
     },
     "metadata": {
      "needs_background": "light"
     },
     "output_type": "display_data"
    },
    {
     "data": {
      "image/png": "[encoded data removed]",
      "text/plain": [
       "<Figure size 432x288 with 1 Axes>"
      ]
     },
     "metadata": {
      "needs_background": "light"
     },
     "output_type": "display_data"
    },
    {
     "data": {
      "image/png": "[encoded data removed]",
      "text/plain": [
       "<Figure size 432x288 with 1 Axes>"
      ]
     },
     "metadata": {
      "needs_background": "light"
     },
     "output_type": "display_data"
    },
    {
     "data": {
      "image/png": "[encoded data removed]",
      "text/plain": [
       "<Figure size 432x288 with 1 Axes>"
      ]
     },
     "metadata": {
      "needs_background": "light"
     },
     "output_type": "display_data"
    },
    {
     "data": {
      "image/png": "[encoded data removed]",
      "text/plain": [
       "<Figure size 432x288 with 1 Axes>"
      ]
     },
     "metadata": {
      "needs_background": "light"
     },
     "output_type": "display_data"
    },
    {
     "data": {
      "image/png": "[encoded data removed]",
      "text/plain": [
       "<Figure size 432x288 with 1 Axes>"
      ]
     },
     "metadata": {
      "needs_background": "light"
     },
     "output_type": "display_data"
    },
    {
     "data": {
      "image/png": "[encoded data removed]",
      "text/plain": [
       "<Figure size 432x288 with 1 Axes>"
      ]
     },
     "metadata": {
      "needs_background": "light"
     },
     "output_type": "display_data"
    },
    {
     "data": {
      "image/png": "[encoded data removed]",
      "text/plain": [
       "<Figure size 432x288 with 1 Axes>"
      ]
     },
     "metadata": {
      "needs_background": "light"
     },
     "output_type": "display_data"
    },
    {
     "data": {
      "image/png": "[encoded data removed]",
      "text/plain": [
       "<Figure size 432x288 with 1 Axes>"
      ]
     },
     "metadata": {
      "needs_background": "light"
     },
     "output_type": "display_data"
    },
    {
     "data": {
      "image/png": "[encoded data removed]",
      "text/plain": [
       "<Figure size 432x288 with 1 Axes>"
      ]
     },
     "metadata": {
      "needs_background": "light"
     },
     "output_type": "display_data"
    },
    {
     "data": {
      "image/png": "[encoded data removed]",
      "text/plain": [
       "<Figure size 432x288 with 1 Axes>"
      ]
     },
     "metadata": {
      "needs_background": "light"
     },
     "output_type": "display_data"
    }
   ],
   "source": [
    "for col in df.columns:\n",
    "    plt.hist(df[col])\n",
    "    plt.title(col)\n",
    "    plt.show()"
   ]
  },
  {
   "cell_type": "markdown",
   "metadata": {},
   "source": [
    "**Takeaways:**\n",
    "- Need to deal with outliers in \n",
    "    - calculatedfinishedsquarefeet\n",
    "    - lotsizesquarefeet\n",
    "    - taxdollarvaluecnt\n",
    "- roomcnt has errors - need to drop\n"
   ]
  },
  {
   "cell_type": "code",
   "execution_count": 21,
   "metadata": {},
   "outputs": [],
   "source": [
    "def remove_outliers():\n",
    "    '''\n",
    "    remove outliers in bed, bath, square feet\n",
    "    '''\n",
    "\n",
    "    return df[((df.bathroomcnt <= 7) & (df.bedroomcnt <= 11) & \n",
    "               (df.bathroomcnt > 0) & \n",
    "               (df.bedroomcnt > 0) & \n",
    "               (df.calculatedfinishedsquarefeet < 4717) \n",
    "               )]"
   ]
  },
  {
   "cell_type": "code",
   "execution_count": 22,
   "metadata": {},
   "outputs": [
    {
     "data": {
      "text/html": [
       "<div>\n",
       "<style scoped>\n",
       "    .dataframe tbody tr th:only-of-type {\n",
       "        vertical-align: middle;\n",
       "    }\n",
       "\n",
       "    .dataframe tbody tr th {\n",
       "        vertical-align: top;\n",
       "    }\n",
       "\n",
       "    .dataframe thead th {\n",
       "        text-align: right;\n",
       "    }\n",
       "</style>\n",
       "<table border=\"1\" class=\"dataframe\">\n",
       "  <thead>\n",
       "    <tr style=\"text-align: right;\">\n",
       "      <th></th>\n",
       "      <th>count</th>\n",
       "      <th>mean</th>\n",
       "      <th>std</th>\n",
       "      <th>min</th>\n",
       "      <th>25%</th>\n",
       "      <th>50%</th>\n",
       "      <th>75%</th>\n",
       "      <th>max</th>\n",
       "    </tr>\n",
       "  </thead>\n",
       "  <tbody>\n",
       "    <tr>\n",
       "      <th>bathroomcnt</th>\n",
       "      <td>68964.0</td>\n",
       "      <td>2.218302e+00</td>\n",
       "      <td>0.846917</td>\n",
       "      <td>1.000000e+00</td>\n",
       "      <td>2.000000e+00</td>\n",
       "      <td>2.000000e+00</td>\n",
       "      <td>3.000000e+00</td>\n",
       "      <td>7.000000e+00</td>\n",
       "    </tr>\n",
       "    <tr>\n",
       "      <th>bedroomcnt</th>\n",
       "      <td>68964.0</td>\n",
       "      <td>2.986732e+00</td>\n",
       "      <td>0.974010</td>\n",
       "      <td>1.000000e+00</td>\n",
       "      <td>2.000000e+00</td>\n",
       "      <td>3.000000e+00</td>\n",
       "      <td>4.000000e+00</td>\n",
       "      <td>1.100000e+01</td>\n",
       "    </tr>\n",
       "    <tr>\n",
       "      <th>buildingqualitytypeid</th>\n",
       "      <td>68964.0</td>\n",
       "      <td>6.340032e+00</td>\n",
       "      <td>1.341656</td>\n",
       "      <td>1.000000e+00</td>\n",
       "      <td>6.000000e+00</td>\n",
       "      <td>6.000000e+00</td>\n",
       "      <td>7.000000e+00</td>\n",
       "      <td>1.200000e+01</td>\n",
       "    </tr>\n",
       "    <tr>\n",
       "      <th>calculatedfinishedsquarefeet</th>\n",
       "      <td>68964.0</td>\n",
       "      <td>1.685925e+03</td>\n",
       "      <td>747.495293</td>\n",
       "      <td>3.600000e+02</td>\n",
       "      <td>1.160000e+03</td>\n",
       "      <td>1.498000e+03</td>\n",
       "      <td>2.024000e+03</td>\n",
       "      <td>4.716000e+03</td>\n",
       "    </tr>\n",
       "    <tr>\n",
       "      <th>latitude</th>\n",
       "      <td>68964.0</td>\n",
       "      <td>3.400310e+01</td>\n",
       "      <td>0.268026</td>\n",
       "      <td>3.333953e+01</td>\n",
       "      <td>3.380475e+01</td>\n",
       "      <td>3.401232e+01</td>\n",
       "      <td>3.417479e+01</td>\n",
       "      <td>3.481877e+01</td>\n",
       "    </tr>\n",
       "    <tr>\n",
       "      <th>longitude</th>\n",
       "      <td>68964.0</td>\n",
       "      <td>-1.181936e+02</td>\n",
       "      <td>0.360165</td>\n",
       "      <td>-1.194753e+02</td>\n",
       "      <td>-1.184081e+02</td>\n",
       "      <td>-1.181629e+02</td>\n",
       "      <td>-1.179155e+02</td>\n",
       "      <td>-1.175723e+02</td>\n",
       "    </tr>\n",
       "    <tr>\n",
       "      <th>lotsizesquarefeet</th>\n",
       "      <td>68964.0</td>\n",
       "      <td>2.751558e+04</td>\n",
       "      <td>119180.556485</td>\n",
       "      <td>2.360000e+02</td>\n",
       "      <td>6.000000e+03</td>\n",
       "      <td>7.313000e+03</td>\n",
       "      <td>1.040225e+04</td>\n",
       "      <td>6.971010e+06</td>\n",
       "    </tr>\n",
       "    <tr>\n",
       "      <th>rawcensustractandblock</th>\n",
       "      <td>68964.0</td>\n",
       "      <td>6.049563e+07</td>\n",
       "      <td>206420.027963</td>\n",
       "      <td>6.037101e+07</td>\n",
       "      <td>6.037312e+07</td>\n",
       "      <td>6.037621e+07</td>\n",
       "      <td>6.059052e+07</td>\n",
       "      <td>6.111009e+07</td>\n",
       "    </tr>\n",
       "    <tr>\n",
       "      <th>regionidcity</th>\n",
       "      <td>68964.0</td>\n",
       "      <td>3.353546e+04</td>\n",
       "      <td>46742.979641</td>\n",
       "      <td>3.491000e+03</td>\n",
       "      <td>1.244700e+04</td>\n",
       "      <td>2.521800e+04</td>\n",
       "      <td>4.545700e+04</td>\n",
       "      <td>3.965560e+05</td>\n",
       "    </tr>\n",
       "    <tr>\n",
       "      <th>regionidzip</th>\n",
       "      <td>68964.0</td>\n",
       "      <td>9.660319e+04</td>\n",
       "      <td>3673.292516</td>\n",
       "      <td>9.598200e+04</td>\n",
       "      <td>9.620600e+04</td>\n",
       "      <td>9.641100e+04</td>\n",
       "      <td>9.699000e+04</td>\n",
       "      <td>3.996750e+05</td>\n",
       "    </tr>\n",
       "    <tr>\n",
       "      <th>yearbuilt</th>\n",
       "      <td>68964.0</td>\n",
       "      <td>1.968790e+03</td>\n",
       "      <td>22.891608</td>\n",
       "      <td>1.878000e+03</td>\n",
       "      <td>1.953000e+03</td>\n",
       "      <td>1.969000e+03</td>\n",
       "      <td>1.986000e+03</td>\n",
       "      <td>2.016000e+03</td>\n",
       "    </tr>\n",
       "    <tr>\n",
       "      <th>structuretaxvaluedollarcnt</th>\n",
       "      <td>68964.0</td>\n",
       "      <td>1.721255e+05</td>\n",
       "      <td>153992.371862</td>\n",
       "      <td>4.400000e+01</td>\n",
       "      <td>8.240300e+04</td>\n",
       "      <td>1.324260e+05</td>\n",
       "      <td>2.095480e+05</td>\n",
       "      <td>3.416000e+06</td>\n",
       "    </tr>\n",
       "    <tr>\n",
       "      <th>taxvaluedollarcnt</th>\n",
       "      <td>68964.0</td>\n",
       "      <td>4.525096e+05</td>\n",
       "      <td>456741.182777</td>\n",
       "      <td>3.254000e+03</td>\n",
       "      <td>2.012902e+05</td>\n",
       "      <td>3.510000e+05</td>\n",
       "      <td>5.530000e+05</td>\n",
       "      <td>1.561849e+07</td>\n",
       "    </tr>\n",
       "    <tr>\n",
       "      <th>landtaxvaluedollarcnt</th>\n",
       "      <td>68964.0</td>\n",
       "      <td>2.803841e+05</td>\n",
       "      <td>350496.833564</td>\n",
       "      <td>1.610000e+02</td>\n",
       "      <td>8.113700e+04</td>\n",
       "      <td>2.003915e+05</td>\n",
       "      <td>3.601925e+05</td>\n",
       "      <td>1.435090e+07</td>\n",
       "    </tr>\n",
       "    <tr>\n",
       "      <th>taxamount</th>\n",
       "      <td>68964.0</td>\n",
       "      <td>5.528593e+03</td>\n",
       "      <td>5285.041775</td>\n",
       "      <td>1.992000e+01</td>\n",
       "      <td>2.645760e+03</td>\n",
       "      <td>4.335110e+03</td>\n",
       "      <td>6.659892e+03</td>\n",
       "      <td>1.777409e+05</td>\n",
       "    </tr>\n",
       "    <tr>\n",
       "      <th>logerror</th>\n",
       "      <td>68964.0</td>\n",
       "      <td>1.611447e-02</td>\n",
       "      <td>0.164721</td>\n",
       "      <td>-4.655420e+00</td>\n",
       "      <td>-2.381751e-02</td>\n",
       "      <td>6.346192e-03</td>\n",
       "      <td>3.766283e-02</td>\n",
       "      <td>3.394544e+00</td>\n",
       "    </tr>\n",
       "    <tr>\n",
       "      <th>LA</th>\n",
       "      <td>68964.0</td>\n",
       "      <td>6.348675e-01</td>\n",
       "      <td>0.481471</td>\n",
       "      <td>0.000000e+00</td>\n",
       "      <td>0.000000e+00</td>\n",
       "      <td>1.000000e+00</td>\n",
       "      <td>1.000000e+00</td>\n",
       "      <td>1.000000e+00</td>\n",
       "    </tr>\n",
       "    <tr>\n",
       "      <th>Orange</th>\n",
       "      <td>68964.0</td>\n",
       "      <td>2.837567e-01</td>\n",
       "      <td>0.450823</td>\n",
       "      <td>0.000000e+00</td>\n",
       "      <td>0.000000e+00</td>\n",
       "      <td>0.000000e+00</td>\n",
       "      <td>1.000000e+00</td>\n",
       "      <td>1.000000e+00</td>\n",
       "    </tr>\n",
       "    <tr>\n",
       "      <th>Ventura</th>\n",
       "      <td>68964.0</td>\n",
       "      <td>8.137579e-02</td>\n",
       "      <td>0.273413</td>\n",
       "      <td>0.000000e+00</td>\n",
       "      <td>0.000000e+00</td>\n",
       "      <td>0.000000e+00</td>\n",
       "      <td>0.000000e+00</td>\n",
       "      <td>1.000000e+00</td>\n",
       "    </tr>\n",
       "    <tr>\n",
       "      <th>age</th>\n",
       "      <td>68964.0</td>\n",
       "      <td>4.821021e+01</td>\n",
       "      <td>22.891608</td>\n",
       "      <td>1.000000e+00</td>\n",
       "      <td>3.100000e+01</td>\n",
       "      <td>4.800000e+01</td>\n",
       "      <td>6.400000e+01</td>\n",
       "      <td>1.390000e+02</td>\n",
       "    </tr>\n",
       "    <tr>\n",
       "      <th>age_bin</th>\n",
       "      <td>68964.0</td>\n",
       "      <td>3.504233e-01</td>\n",
       "      <td>0.155426</td>\n",
       "      <td>0.000000e+00</td>\n",
       "      <td>2.660000e-01</td>\n",
       "      <td>3.330000e-01</td>\n",
       "      <td>4.660000e-01</td>\n",
       "      <td>9.330000e-01</td>\n",
       "    </tr>\n",
       "    <tr>\n",
       "      <th>taxrate</th>\n",
       "      <td>68964.0</td>\n",
       "      <td>1.310198e+00</td>\n",
       "      <td>0.496090</td>\n",
       "      <td>9.372442e-03</td>\n",
       "      <td>1.163567e+00</td>\n",
       "      <td>1.226077e+00</td>\n",
       "      <td>1.339137e+00</td>\n",
       "      <td>4.936474e+01</td>\n",
       "    </tr>\n",
       "    <tr>\n",
       "      <th>acres</th>\n",
       "      <td>68964.0</td>\n",
       "      <td>6.316708e-01</td>\n",
       "      <td>2.736009</td>\n",
       "      <td>5.417815e-03</td>\n",
       "      <td>1.377410e-01</td>\n",
       "      <td>1.678834e-01</td>\n",
       "      <td>2.388028e-01</td>\n",
       "      <td>1.600324e+02</td>\n",
       "    </tr>\n",
       "    <tr>\n",
       "      <th>acres_bin</th>\n",
       "      <td>68964.0</td>\n",
       "      <td>2.079520e-01</td>\n",
       "      <td>0.142214</td>\n",
       "      <td>0.000000e+00</td>\n",
       "      <td>1.000000e-01</td>\n",
       "      <td>2.000000e-01</td>\n",
       "      <td>2.000000e-01</td>\n",
       "      <td>9.000000e-01</td>\n",
       "    </tr>\n",
       "    <tr>\n",
       "      <th>sqft_bin</th>\n",
       "      <td>68964.0</td>\n",
       "      <td>3.471318e-01</td>\n",
       "      <td>0.181999</td>\n",
       "      <td>0.000000e+00</td>\n",
       "      <td>2.000000e-01</td>\n",
       "      <td>3.000000e-01</td>\n",
       "      <td>5.000000e-01</td>\n",
       "      <td>8.000000e-01</td>\n",
       "    </tr>\n",
       "    <tr>\n",
       "      <th>structure_dollar_per_sqft</th>\n",
       "      <td>68964.0</td>\n",
       "      <td>9.862327e+01</td>\n",
       "      <td>60.171698</td>\n",
       "      <td>3.983275e-02</td>\n",
       "      <td>6.230558e+01</td>\n",
       "      <td>9.083358e+01</td>\n",
       "      <td>1.230681e+02</td>\n",
       "      <td>1.444221e+03</td>\n",
       "    </tr>\n",
       "    <tr>\n",
       "      <th>structure_dollar_sqft_bin</th>\n",
       "      <td>68964.0</td>\n",
       "      <td>3.039876e-01</td>\n",
       "      <td>0.145449</td>\n",
       "      <td>0.000000e+00</td>\n",
       "      <td>2.000000e-01</td>\n",
       "      <td>3.000000e-01</td>\n",
       "      <td>4.000000e-01</td>\n",
       "      <td>9.000000e-01</td>\n",
       "    </tr>\n",
       "    <tr>\n",
       "      <th>land_dollar_per_sqft</th>\n",
       "      <td>68964.0</td>\n",
       "      <td>4.070711e+01</td>\n",
       "      <td>63.477063</td>\n",
       "      <td>3.022906e-03</td>\n",
       "      <td>6.161374e+00</td>\n",
       "      <td>2.479933e+01</td>\n",
       "      <td>5.111666e+01</td>\n",
       "      <td>1.882546e+03</td>\n",
       "    </tr>\n",
       "    <tr>\n",
       "      <th>lot_dollar_sqft_bin</th>\n",
       "      <td>68964.0</td>\n",
       "      <td>2.639827e-01</td>\n",
       "      <td>0.135660</td>\n",
       "      <td>0.000000e+00</td>\n",
       "      <td>2.000000e-01</td>\n",
       "      <td>3.000000e-01</td>\n",
       "      <td>4.000000e-01</td>\n",
       "      <td>9.000000e-01</td>\n",
       "    </tr>\n",
       "    <tr>\n",
       "      <th>bath_bed_ratio</th>\n",
       "      <td>68964.0</td>\n",
       "      <td>7.789288e-01</td>\n",
       "      <td>0.286302</td>\n",
       "      <td>2.000000e-01</td>\n",
       "      <td>6.000000e-01</td>\n",
       "      <td>6.666667e-01</td>\n",
       "      <td>1.000000e+00</td>\n",
       "      <td>3.000000e+00</td>\n",
       "    </tr>\n",
       "    <tr>\n",
       "      <th>cola</th>\n",
       "      <td>68964.0</td>\n",
       "      <td>2.293805e-01</td>\n",
       "      <td>0.420437</td>\n",
       "      <td>0.000000e+00</td>\n",
       "      <td>0.000000e+00</td>\n",
       "      <td>0.000000e+00</td>\n",
       "      <td>0.000000e+00</td>\n",
       "      <td>1.000000e+00</td>\n",
       "    </tr>\n",
       "  </tbody>\n",
       "</table>\n",
       "</div>"
      ],
      "text/plain": [
       "                                count          mean            std  \\\n",
       "bathroomcnt                   68964.0  2.218302e+00       0.846917   \n",
       "bedroomcnt                    68964.0  2.986732e+00       0.974010   \n",
       "buildingqualitytypeid         68964.0  6.340032e+00       1.341656   \n",
       "calculatedfinishedsquarefeet  68964.0  1.685925e+03     747.495293   \n",
       "latitude                      68964.0  3.400310e+01       0.268026   \n",
       "longitude                     68964.0 -1.181936e+02       0.360165   \n",
       "lotsizesquarefeet             68964.0  2.751558e+04  119180.556485   \n",
       "rawcensustractandblock        68964.0  6.049563e+07  206420.027963   \n",
       "regionidcity                  68964.0  3.353546e+04   46742.979641   \n",
       "regionidzip                   68964.0  9.660319e+04    3673.292516   \n",
       "yearbuilt                     68964.0  1.968790e+03      22.891608   \n",
       "structuretaxvaluedollarcnt    68964.0  1.721255e+05  153992.371862   \n",
       "taxvaluedollarcnt             68964.0  4.525096e+05  456741.182777   \n",
       "landtaxvaluedollarcnt         68964.0  2.803841e+05  350496.833564   \n",
       "taxamount                     68964.0  5.528593e+03    5285.041775   \n",
       "logerror                      68964.0  1.611447e-02       0.164721   \n",
       "LA                            68964.0  6.348675e-01       0.481471   \n",
       "Orange                        68964.0  2.837567e-01       0.450823   \n",
       "Ventura                       68964.0  8.137579e-02       0.273413   \n",
       "age                           68964.0  4.821021e+01      22.891608   \n",
       "age_bin                       68964.0  3.504233e-01       0.155426   \n",
       "taxrate                       68964.0  1.310198e+00       0.496090   \n",
       "acres                         68964.0  6.316708e-01       2.736009   \n",
       "acres_bin                     68964.0  2.079520e-01       0.142214   \n",
       "sqft_bin                      68964.0  3.471318e-01       0.181999   \n",
       "structure_dollar_per_sqft     68964.0  9.862327e+01      60.171698   \n",
       "structure_dollar_sqft_bin     68964.0  3.039876e-01       0.145449   \n",
       "land_dollar_per_sqft          68964.0  4.070711e+01      63.477063   \n",
       "lot_dollar_sqft_bin           68964.0  2.639827e-01       0.135660   \n",
       "bath_bed_ratio                68964.0  7.789288e-01       0.286302   \n",
       "cola                          68964.0  2.293805e-01       0.420437   \n",
       "\n",
       "                                       min           25%           50%  \\\n",
       "bathroomcnt                   1.000000e+00  2.000000e+00  2.000000e+00   \n",
       "bedroomcnt                    1.000000e+00  2.000000e+00  3.000000e+00   \n",
       "buildingqualitytypeid         1.000000e+00  6.000000e+00  6.000000e+00   \n",
       "calculatedfinishedsquarefeet  3.600000e+02  1.160000e+03  1.498000e+03   \n",
       "latitude                      3.333953e+01  3.380475e+01  3.401232e+01   \n",
       "longitude                    -1.194753e+02 -1.184081e+02 -1.181629e+02   \n",
       "lotsizesquarefeet             2.360000e+02  6.000000e+03  7.313000e+03   \n",
       "rawcensustractandblock        6.037101e+07  6.037312e+07  6.037621e+07   \n",
       "regionidcity                  3.491000e+03  1.244700e+04  2.521800e+04   \n",
       "regionidzip                   9.598200e+04  9.620600e+04  9.641100e+04   \n",
       "yearbuilt                     1.878000e+03  1.953000e+03  1.969000e+03   \n",
       "structuretaxvaluedollarcnt    4.400000e+01  8.240300e+04  1.324260e+05   \n",
       "taxvaluedollarcnt             3.254000e+03  2.012902e+05  3.510000e+05   \n",
       "landtaxvaluedollarcnt         1.610000e+02  8.113700e+04  2.003915e+05   \n",
       "taxamount                     1.992000e+01  2.645760e+03  4.335110e+03   \n",
       "logerror                     -4.655420e+00 -2.381751e-02  6.346192e-03   \n",
       "LA                            0.000000e+00  0.000000e+00  1.000000e+00   \n",
       "Orange                        0.000000e+00  0.000000e+00  0.000000e+00   \n",
       "Ventura                       0.000000e+00  0.000000e+00  0.000000e+00   \n",
       "age                           1.000000e+00  3.100000e+01  4.800000e+01   \n",
       "age_bin                       0.000000e+00  2.660000e-01  3.330000e-01   \n",
       "taxrate                       9.372442e-03  1.163567e+00  1.226077e+00   \n",
       "acres                         5.417815e-03  1.377410e-01  1.678834e-01   \n",
       "acres_bin                     0.000000e+00  1.000000e-01  2.000000e-01   \n",
       "sqft_bin                      0.000000e+00  2.000000e-01  3.000000e-01   \n",
       "structure_dollar_per_sqft     3.983275e-02  6.230558e+01  9.083358e+01   \n",
       "structure_dollar_sqft_bin     0.000000e+00  2.000000e-01  3.000000e-01   \n",
       "land_dollar_per_sqft          3.022906e-03  6.161374e+00  2.479933e+01   \n",
       "lot_dollar_sqft_bin           0.000000e+00  2.000000e-01  3.000000e-01   \n",
       "bath_bed_ratio                2.000000e-01  6.000000e-01  6.666667e-01   \n",
       "cola                          0.000000e+00  0.000000e+00  0.000000e+00   \n",
       "\n",
       "                                       75%           max  \n",
       "bathroomcnt                   3.000000e+00  7.000000e+00  \n",
       "bedroomcnt                    4.000000e+00  1.100000e+01  \n",
       "buildingqualitytypeid         7.000000e+00  1.200000e+01  \n",
       "calculatedfinishedsquarefeet  2.024000e+03  4.716000e+03  \n",
       "latitude                      3.417479e+01  3.481877e+01  \n",
       "longitude                    -1.179155e+02 -1.175723e+02  \n",
       "lotsizesquarefeet             1.040225e+04  6.971010e+06  \n",
       "rawcensustractandblock        6.059052e+07  6.111009e+07  \n",
       "regionidcity                  4.545700e+04  3.965560e+05  \n",
       "regionidzip                   9.699000e+04  3.996750e+05  \n",
       "yearbuilt                     1.986000e+03  2.016000e+03  \n",
       "structuretaxvaluedollarcnt    2.095480e+05  3.416000e+06  \n",
       "taxvaluedollarcnt             5.530000e+05  1.561849e+07  \n",
       "landtaxvaluedollarcnt         3.601925e+05  1.435090e+07  \n",
       "taxamount                     6.659892e+03  1.777409e+05  \n",
       "logerror                      3.766283e-02  3.394544e+00  \n",
       "LA                            1.000000e+00  1.000000e+00  \n",
       "Orange                        1.000000e+00  1.000000e+00  \n",
       "Ventura                       0.000000e+00  1.000000e+00  \n",
       "age                           6.400000e+01  1.390000e+02  \n",
       "age_bin                       4.660000e-01  9.330000e-01  \n",
       "taxrate                       1.339137e+00  4.936474e+01  \n",
       "acres                         2.388028e-01  1.600324e+02  \n",
       "acres_bin                     2.000000e-01  9.000000e-01  \n",
       "sqft_bin                      5.000000e-01  8.000000e-01  \n",
       "structure_dollar_per_sqft     1.230681e+02  1.444221e+03  \n",
       "structure_dollar_sqft_bin     4.000000e-01  9.000000e-01  \n",
       "land_dollar_per_sqft          5.111666e+01  1.882546e+03  \n",
       "lot_dollar_sqft_bin           4.000000e-01  9.000000e-01  \n",
       "bath_bed_ratio                1.000000e+00  3.000000e+00  \n",
       "cola                          0.000000e+00  1.000000e+00  "
      ]
     },
     "execution_count": 22,
     "metadata": {},
     "output_type": "execute_result"
    }
   ],
   "source": [
    "df = remove_outliers()\n",
    "\n",
    "# Now that the most extreme outliers have been removed, let's look at the summary statistics of each numeric field. \n",
    "df.describe().T"
   ]
  },
  {
   "cell_type": "code",
   "execution_count": 23,
   "metadata": {},
   "outputs": [
    {
     "data": {
      "text/plain": [
       "(68964, 33)"
      ]
     },
     "execution_count": 23,
     "metadata": {},
     "output_type": "execute_result"
    }
   ],
   "source": [
    "df.shape"
   ]
  },
  {
   "cell_type": "code",
   "execution_count": 24,
   "metadata": {},
   "outputs": [
    {
     "data": {
      "text/plain": [
       "Index(['bathroomcnt', 'bedroomcnt', 'buildingqualitytypeid',\n",
       "       'calculatedfinishedsquarefeet', 'latitude', 'longitude',\n",
       "       'lotsizesquarefeet', 'rawcensustractandblock', 'regionidcity',\n",
       "       'regionidzip', 'yearbuilt', 'structuretaxvaluedollarcnt',\n",
       "       'taxvaluedollarcnt', 'landtaxvaluedollarcnt', 'taxamount', 'logerror',\n",
       "       'transactiondate', 'heatingorsystemdesc', 'LA', 'Orange', 'Ventura',\n",
       "       'age', 'age_bin', 'taxrate', 'acres', 'acres_bin', 'sqft_bin',\n",
       "       'structure_dollar_per_sqft', 'structure_dollar_sqft_bin',\n",
       "       'land_dollar_per_sqft', 'lot_dollar_sqft_bin', 'bath_bed_ratio',\n",
       "       'cola'],\n",
       "      dtype='object')"
      ]
     },
     "execution_count": 24,
     "metadata": {},
     "output_type": "execute_result"
    }
   ],
   "source": [
    "df.columns"
   ]
  },
  {
   "cell_type": "markdown",
   "metadata": {},
   "source": [
    "### Now I am going to break up the dataframe into three separate dfs by county"
   ]
  },
  {
   "cell_type": "code",
   "execution_count": 27,
   "metadata": {},
   "outputs": [
    {
     "data": {
      "text/plain": [
       "(43783, 19)"
      ]
     },
     "execution_count": 27,
     "metadata": {},
     "output_type": "execute_result"
    }
   ],
   "source": [
    "#Create LA County Dataframe\n",
    "df_la = df[df.LA == 1].drop(columns = ['bedroomcnt', 'taxamount', 'taxvaluedollarcnt', \n",
    "                                       'structure_dollar_per_sqft', 'land_dollar_per_sqft', 'yearbuilt', \n",
    "                                       'lotsizesquarefeet', 'regionidcity', 'regionidzip', \n",
    "                                       'structuretaxvaluedollarcnt', 'landtaxvaluedollarcnt', \n",
    "                                       'LA', 'Ventura', 'Orange']) \n",
    "df_la.shape"
   ]
  },
  {
   "cell_type": "code",
   "execution_count": 28,
   "metadata": {},
   "outputs": [
    {
     "data": {
      "text/plain": [
       "(5612, 19)"
      ]
     },
     "execution_count": 28,
     "metadata": {},
     "output_type": "execute_result"
    }
   ],
   "source": [
    "#Create Ventura County Dataframe\n",
    "df_vent = df[df.Ventura == 1].drop(columns = ['bedroomcnt', 'taxamount', 'taxvaluedollarcnt', \n",
    "                                       'structure_dollar_per_sqft', 'land_dollar_per_sqft', 'yearbuilt', \n",
    "                                       'lotsizesquarefeet', 'regionidcity', 'regionidzip', \n",
    "                                       'structuretaxvaluedollarcnt', 'landtaxvaluedollarcnt', \n",
    "                                       'LA', 'Ventura', 'Orange']) \n",
    "df_vent.shape"
   ]
  },
  {
   "cell_type": "code",
   "execution_count": 29,
   "metadata": {},
   "outputs": [
    {
     "data": {
      "text/plain": [
       "(19569, 19)"
      ]
     },
     "execution_count": 29,
     "metadata": {},
     "output_type": "execute_result"
    }
   ],
   "source": [
    "#Create Orange County Dataframe\n",
    "df_orange = df[df.Orange == 1].drop(columns = ['bedroomcnt', 'taxamount', 'taxvaluedollarcnt', \n",
    "                                       'structure_dollar_per_sqft', 'land_dollar_per_sqft', 'yearbuilt', \n",
    "                                       'lotsizesquarefeet', 'regionidcity', 'regionidzip', \n",
    "                                       'structuretaxvaluedollarcnt', 'landtaxvaluedollarcnt', \n",
    "                                       'LA', 'Ventura', 'Orange']) \n",
    "df_orange.shape"
   ]
  },
  {
   "cell_type": "markdown",
   "metadata": {},
   "source": [
    "#### Starting with Analysis for LA County Props"
   ]
  },
  {
   "cell_type": "code",
   "execution_count": 30,
   "metadata": {},
   "outputs": [],
   "source": [
    "def split(df, target_var):\n",
    "    '''\n",
    "    This function takes in the dataframe and target variable name as arguments and then\n",
    "    splits the dataframe into train (56%), validate (24%), & test (20%)\n",
    "    It will return a list containing the following dataframes: train (for exploration), \n",
    "    X_train, X_validate, X_test, y_train, y_validate, y_test\n",
    "    '''\n",
    "    # split df into train_validate (80%) and test (20%)\n",
    "    train_validate, test = train_test_split(df, test_size=.20, random_state=13)\n",
    "    # split train_validate into train(70% of 80% = 56%) and validate (30% of 80% = 24%)\n",
    "    train, validate = train_test_split(train_validate, test_size=.3, random_state=13)\n",
    "\n",
    "    # create X_train by dropping the target variable \n",
    "    X_train = train.drop(columns=[target_var])\n",
    "    # create y_train by keeping only the target variable.\n",
    "    y_train = train[[target_var]]\n",
    "\n",
    "    # create X_validate by dropping the target variable \n",
    "    X_validate = validate.drop(columns=[target_var])\n",
    "    # create y_validate by keeping only the target variable.\n",
    "    y_validate = validate[[target_var]]\n",
    "\n",
    "    # create X_test by dropping the target variable \n",
    "    X_test = test.drop(columns=[target_var])\n",
    "    # create y_test by keeping only the target variable.\n",
    "    y_test = test[[target_var]]\n",
    "\n",
    "    partitions = [train, X_train, X_validate, X_test, y_train, y_validate, y_test]\n",
    "    return partitions"
   ]
  },
  {
   "cell_type": "code",
   "execution_count": 31,
   "metadata": {},
   "outputs": [],
   "source": [
    "partitions = split(df_la, target_var='logerror')"
   ]
  },
  {
   "cell_type": "code",
   "execution_count": 32,
   "metadata": {},
   "outputs": [],
   "source": [
    "train = partitions[0]\n",
    "train['logerror_bins'] = pd.cut(train.logerror, [-5, -.2, -.05, .05, .2, 4])\n",
    "partitions[0] = train"
   ]
  },
  {
   "cell_type": "code",
   "execution_count": 33,
   "metadata": {},
   "outputs": [
    {
     "data": {
      "text/plain": [
       "(-0.05, 0.05]    15498\n",
       "(0.05, 0.2]       3943\n",
       "(-0.2, -0.05]     3380\n",
       "(0.2, 4.0]        1104\n",
       "(-5.0, -0.2]       593\n",
       "Name: logerror_bins, dtype: int64"
      ]
     },
     "execution_count": 33,
     "metadata": {},
     "output_type": "execute_result"
    }
   ],
   "source": [
    "train.logerror_bins.value_counts()"
   ]
  },
  {
   "cell_type": "markdown",
   "metadata": {},
   "source": [
    "#### Bivariate Analysis on train for LA County"
   ]
  },
  {
   "cell_type": "code",
   "execution_count": 34,
   "metadata": {},
   "outputs": [
    {
     "data": {
      "text/plain": [
       "Index(['bathroomcnt', 'buildingqualitytypeid', 'calculatedfinishedsquarefeet',\n",
       "       'latitude', 'longitude', 'rawcensustractandblock', 'logerror',\n",
       "       'transactiondate', 'heatingorsystemdesc', 'age', 'age_bin', 'taxrate',\n",
       "       'acres', 'acres_bin', 'sqft_bin', 'structure_dollar_sqft_bin',\n",
       "       'lot_dollar_sqft_bin', 'bath_bed_ratio', 'cola', 'logerror_bins'],\n",
       "      dtype='object')"
      ]
     },
     "execution_count": 34,
     "metadata": {},
     "output_type": "execute_result"
    }
   ],
   "source": [
    "train.columns"
   ]
  },
  {
   "cell_type": "code",
   "execution_count": 48,
   "metadata": {},
   "outputs": [
    {
     "name": "stdout",
     "output_type": "stream",
     "text": [
      "<class 'pandas.core.frame.DataFrame'>\n",
      "Int64Index: 24518 entries, 11872639 to 12469375\n",
      "Data columns (total 21 columns):\n",
      " #   Column                        Non-Null Count  Dtype   \n",
      "---  ------                        --------------  -----   \n",
      " 0   bathroomcnt                   24518 non-null  float64 \n",
      " 1   buildingqualitytypeid         24518 non-null  float64 \n",
      " 2   calculatedfinishedsquarefeet  24518 non-null  float64 \n",
      " 3   latitude                      24518 non-null  float64 \n",
      " 4   longitude                     24518 non-null  float64 \n",
      " 5   rawcensustractandblock        24518 non-null  float64 \n",
      " 6   logerror                      24518 non-null  float64 \n",
      " 7   transactiondate               24518 non-null  object  \n",
      " 8   heatingorsystemdesc           24518 non-null  object  \n",
      " 9   age                           24518 non-null  float64 \n",
      " 10  age_bin                       24518 non-null  float64 \n",
      " 11  taxrate                       24518 non-null  float64 \n",
      " 12  acres                         24518 non-null  float64 \n",
      " 13  acres_bin                     24518 non-null  float64 \n",
      " 14  sqft_bin                      24518 non-null  float64 \n",
      " 15  structure_dollar_sqft_bin     24518 non-null  float64 \n",
      " 16  lot_dollar_sqft_bin           24518 non-null  float64 \n",
      " 17  bath_bed_ratio                24518 non-null  float64 \n",
      " 18  cola                          24518 non-null  int64   \n",
      " 19  logerror_bins                 24518 non-null  category\n",
      " 20  logerror_class                24518 non-null  category\n",
      "dtypes: category(2), float64(16), int64(1), object(2)\n",
      "memory usage: 3.8+ MB\n"
     ]
    }
   ],
   "source": [
    "train.info()"
   ]
  },
  {
   "cell_type": "code",
   "execution_count": 39,
   "metadata": {},
   "outputs": [],
   "source": [
    "#Separate logerror into quantiles\n",
    "train['logerror_class'] = pd.qcut(train.logerror, q=4, labels=['q1', 'q2', 'q3', 'q4'])"
   ]
  },
  {
   "cell_type": "code",
   "execution_count": 43,
   "metadata": {},
   "outputs": [],
   "source": [
    "categorical_target = ['logerror_class']\n",
    "continuous_target = ['logerror']\n",
    "binary_vars = ['cola']\n",
    "quant_vars = ['bathroomcnt', 'buildingqualitytypeid', 'calculatedfinishedsquarefeet',\n",
    "       'latitude', 'longitude', 'rawcensustractandblock',\n",
    "       'transactiondate', 'heatingorsystemdesc', 'age', 'age_bin', 'taxrate',\n",
    "       'acres', 'acres_bin', 'sqft_bin', 'structure_dollar_sqft_bin',\n",
    "       'lot_dollar_sqft_bin', 'bath_bed_ratio', 'cola', 'logerror_bins']"
   ]
  },
  {
   "cell_type": "code",
   "execution_count": 46,
   "metadata": {},
   "outputs": [
    {
     "data": {
      "text/html": [
       "<div>\n",
       "<style scoped>\n",
       "    .dataframe tbody tr th:only-of-type {\n",
       "        vertical-align: middle;\n",
       "    }\n",
       "\n",
       "    .dataframe tbody tr th {\n",
       "        vertical-align: top;\n",
       "    }\n",
       "\n",
       "    .dataframe thead th {\n",
       "        text-align: right;\n",
       "    }\n",
       "</style>\n",
       "<table border=\"1\" class=\"dataframe\">\n",
       "  <thead>\n",
       "    <tr style=\"text-align: right;\">\n",
       "      <th></th>\n",
       "      <th>bathroomcnt</th>\n",
       "      <th>buildingqualitytypeid</th>\n",
       "      <th>calculatedfinishedsquarefeet</th>\n",
       "      <th>latitude</th>\n",
       "      <th>longitude</th>\n",
       "      <th>rawcensustractandblock</th>\n",
       "      <th>logerror</th>\n",
       "      <th>transactiondate</th>\n",
       "      <th>heatingorsystemdesc</th>\n",
       "      <th>age</th>\n",
       "      <th>...</th>\n",
       "      <th>taxrate</th>\n",
       "      <th>acres</th>\n",
       "      <th>acres_bin</th>\n",
       "      <th>sqft_bin</th>\n",
       "      <th>structure_dollar_sqft_bin</th>\n",
       "      <th>lot_dollar_sqft_bin</th>\n",
       "      <th>bath_bed_ratio</th>\n",
       "      <th>cola</th>\n",
       "      <th>logerror_bins</th>\n",
       "      <th>logerror_class</th>\n",
       "    </tr>\n",
       "    <tr>\n",
       "      <th>parcelid</th>\n",
       "      <th></th>\n",
       "      <th></th>\n",
       "      <th></th>\n",
       "      <th></th>\n",
       "      <th></th>\n",
       "      <th></th>\n",
       "      <th></th>\n",
       "      <th></th>\n",
       "      <th></th>\n",
       "      <th></th>\n",
       "      <th></th>\n",
       "      <th></th>\n",
       "      <th></th>\n",
       "      <th></th>\n",
       "      <th></th>\n",
       "      <th></th>\n",
       "      <th></th>\n",
       "      <th></th>\n",
       "      <th></th>\n",
       "      <th></th>\n",
       "      <th></th>\n",
       "    </tr>\n",
       "  </thead>\n",
       "  <tbody>\n",
       "    <tr>\n",
       "      <th>11872639</th>\n",
       "      <td>1.0</td>\n",
       "      <td>5.0</td>\n",
       "      <td>664.0</td>\n",
       "      <td>34.091758</td>\n",
       "      <td>-118.184905</td>\n",
       "      <td>6.037201e+07</td>\n",
       "      <td>-0.048431</td>\n",
       "      <td>2017-09-08</td>\n",
       "      <td>Floor/Wall</td>\n",
       "      <td>91.0</td>\n",
       "      <td>...</td>\n",
       "      <td>1.462417</td>\n",
       "      <td>0.115496</td>\n",
       "      <td>0.1</td>\n",
       "      <td>0.0</td>\n",
       "      <td>0.0</td>\n",
       "      <td>0.1</td>\n",
       "      <td>1.000000</td>\n",
       "      <td>1</td>\n",
       "      <td>(-0.05, 0.05]</td>\n",
       "      <td>q1</td>\n",
       "    </tr>\n",
       "    <tr>\n",
       "      <th>10937080</th>\n",
       "      <td>1.0</td>\n",
       "      <td>4.0</td>\n",
       "      <td>1261.0</td>\n",
       "      <td>34.180216</td>\n",
       "      <td>-118.346870</td>\n",
       "      <td>6.037311e+07</td>\n",
       "      <td>0.160896</td>\n",
       "      <td>2017-02-21</td>\n",
       "      <td>Floor/Wall</td>\n",
       "      <td>78.0</td>\n",
       "      <td>...</td>\n",
       "      <td>1.137809</td>\n",
       "      <td>0.149908</td>\n",
       "      <td>0.1</td>\n",
       "      <td>0.3</td>\n",
       "      <td>0.2</td>\n",
       "      <td>0.3</td>\n",
       "      <td>0.333333</td>\n",
       "      <td>0</td>\n",
       "      <td>(0.05, 0.2]</td>\n",
       "      <td>q4</td>\n",
       "    </tr>\n",
       "    <tr>\n",
       "      <th>12493017</th>\n",
       "      <td>1.0</td>\n",
       "      <td>4.0</td>\n",
       "      <td>1210.0</td>\n",
       "      <td>33.825846</td>\n",
       "      <td>-118.115191</td>\n",
       "      <td>6.037574e+07</td>\n",
       "      <td>0.003856</td>\n",
       "      <td>2017-06-16</td>\n",
       "      <td>Floor/Wall</td>\n",
       "      <td>63.0</td>\n",
       "      <td>...</td>\n",
       "      <td>1.235349</td>\n",
       "      <td>0.115932</td>\n",
       "      <td>0.1</td>\n",
       "      <td>0.2</td>\n",
       "      <td>0.2</td>\n",
       "      <td>0.4</td>\n",
       "      <td>0.333333</td>\n",
       "      <td>0</td>\n",
       "      <td>(-0.05, 0.05]</td>\n",
       "      <td>q2</td>\n",
       "    </tr>\n",
       "    <tr>\n",
       "      <th>11049002</th>\n",
       "      <td>2.0</td>\n",
       "      <td>8.0</td>\n",
       "      <td>1555.0</td>\n",
       "      <td>34.278416</td>\n",
       "      <td>-118.470844</td>\n",
       "      <td>6.037109e+07</td>\n",
       "      <td>0.004935</td>\n",
       "      <td>2017-06-22</td>\n",
       "      <td>Central</td>\n",
       "      <td>60.0</td>\n",
       "      <td>...</td>\n",
       "      <td>1.491823</td>\n",
       "      <td>0.158127</td>\n",
       "      <td>0.2</td>\n",
       "      <td>0.4</td>\n",
       "      <td>0.1</td>\n",
       "      <td>0.1</td>\n",
       "      <td>0.666667</td>\n",
       "      <td>1</td>\n",
       "      <td>(-0.05, 0.05]</td>\n",
       "      <td>q2</td>\n",
       "    </tr>\n",
       "    <tr>\n",
       "      <th>12847489</th>\n",
       "      <td>3.0</td>\n",
       "      <td>8.0</td>\n",
       "      <td>2453.0</td>\n",
       "      <td>33.973393</td>\n",
       "      <td>-117.883126</td>\n",
       "      <td>6.037409e+07</td>\n",
       "      <td>0.005333</td>\n",
       "      <td>2017-03-05</td>\n",
       "      <td>Central</td>\n",
       "      <td>33.0</td>\n",
       "      <td>...</td>\n",
       "      <td>1.221021</td>\n",
       "      <td>0.190702</td>\n",
       "      <td>0.2</td>\n",
       "      <td>0.5</td>\n",
       "      <td>0.4</td>\n",
       "      <td>0.3</td>\n",
       "      <td>0.750000</td>\n",
       "      <td>0</td>\n",
       "      <td>(-0.05, 0.05]</td>\n",
       "      <td>q2</td>\n",
       "    </tr>\n",
       "  </tbody>\n",
       "</table>\n",
       "<p>5 rows × 21 columns</p>\n",
       "</div>"
      ],
      "text/plain": [
       "          bathroomcnt  buildingqualitytypeid  calculatedfinishedsquarefeet  \\\n",
       "parcelid                                                                     \n",
       "11872639          1.0                    5.0                         664.0   \n",
       "10937080          1.0                    4.0                        1261.0   \n",
       "12493017          1.0                    4.0                        1210.0   \n",
       "11049002          2.0                    8.0                        1555.0   \n",
       "12847489          3.0                    8.0                        2453.0   \n",
       "\n",
       "           latitude   longitude  rawcensustractandblock  logerror  \\\n",
       "parcelid                                                            \n",
       "11872639  34.091758 -118.184905            6.037201e+07 -0.048431   \n",
       "10937080  34.180216 -118.346870            6.037311e+07  0.160896   \n",
       "12493017  33.825846 -118.115191            6.037574e+07  0.003856   \n",
       "11049002  34.278416 -118.470844            6.037109e+07  0.004935   \n",
       "12847489  33.973393 -117.883126            6.037409e+07  0.005333   \n",
       "\n",
       "         transactiondate heatingorsystemdesc   age  ...   taxrate     acres  \\\n",
       "parcelid                                            ...                       \n",
       "11872639      2017-09-08          Floor/Wall  91.0  ...  1.462417  0.115496   \n",
       "10937080      2017-02-21          Floor/Wall  78.0  ...  1.137809  0.149908   \n",
       "12493017      2017-06-16          Floor/Wall  63.0  ...  1.235349  0.115932   \n",
       "11049002      2017-06-22             Central  60.0  ...  1.491823  0.158127   \n",
       "12847489      2017-03-05             Central  33.0  ...  1.221021  0.190702   \n",
       "\n",
       "          acres_bin  sqft_bin  structure_dollar_sqft_bin  lot_dollar_sqft_bin  \\\n",
       "parcelid                                                                        \n",
       "11872639        0.1       0.0                        0.0                  0.1   \n",
       "10937080        0.1       0.3                        0.2                  0.3   \n",
       "12493017        0.1       0.2                        0.2                  0.4   \n",
       "11049002        0.2       0.4                        0.1                  0.1   \n",
       "12847489        0.2       0.5                        0.4                  0.3   \n",
       "\n",
       "          bath_bed_ratio  cola  logerror_bins logerror_class  \n",
       "parcelid                                                      \n",
       "11872639        1.000000     1  (-0.05, 0.05]             q1  \n",
       "10937080        0.333333     0    (0.05, 0.2]             q4  \n",
       "12493017        0.333333     0  (-0.05, 0.05]             q2  \n",
       "11049002        0.666667     1  (-0.05, 0.05]             q2  \n",
       "12847489        0.750000     0  (-0.05, 0.05]             q2  \n",
       "\n",
       "[5 rows x 21 columns]"
      ]
     },
     "execution_count": 46,
     "metadata": {},
     "output_type": "execute_result"
    }
   ],
   "source": [
    "train.head()"
   ]
  },
  {
   "cell_type": "code",
   "execution_count": 45,
   "metadata": {},
   "outputs": [
    {
     "name": "stdout",
     "output_type": "stream",
     "text": [
      "cola \n",
      "_____________________\n",
      "\n"
     ]
    },
    {
     "ename": "ValueError",
     "evalue": "Shape of passed values is (1, 2), indices imply (24518, 2)",
     "output_type": "error",
     "traceback": [
      "\u001b[0;31m---------------------------------------------------------------------------\u001b[0m",
      "\u001b[0;31mValueError\u001b[0m                                Traceback (most recent call last)",
      "\u001b[0;32m<ipython-input-45-1ffa081174cf>\u001b[0m in \u001b[0;36m<module>\u001b[0;34m\u001b[0m\n\u001b[0;32m----> 1\u001b[0;31m \u001b[0mexplore\u001b[0m\u001b[0;34m.\u001b[0m\u001b[0mexplore_bivariate\u001b[0m\u001b[0;34m(\u001b[0m\u001b[0mtrain\u001b[0m\u001b[0;34m,\u001b[0m \u001b[0mcategorical_target\u001b[0m\u001b[0;34m,\u001b[0m \u001b[0mcontinuous_target\u001b[0m\u001b[0;34m,\u001b[0m \u001b[0mbinary_vars\u001b[0m\u001b[0;34m,\u001b[0m \u001b[0mquant_vars\u001b[0m\u001b[0;34m)\u001b[0m\u001b[0;34m\u001b[0m\u001b[0;34m\u001b[0m\u001b[0m\n\u001b[0m",
      "\u001b[0;32m~/codeup-data-science/Zillow-Clustering-Project/explore.py\u001b[0m in \u001b[0;36mexplore_bivariate\u001b[0;34m(train, categorical_target, continuous_target, binary_vars, quant_vars)\u001b[0m\n\u001b[1;32m    107\u001b[0m \u001b[0;34m\u001b[0m\u001b[0m\n\u001b[1;32m    108\u001b[0m     \u001b[0;32mfor\u001b[0m \u001b[0mbinary\u001b[0m \u001b[0;32min\u001b[0m \u001b[0mbinary_vars\u001b[0m\u001b[0;34m:\u001b[0m\u001b[0;34m\u001b[0m\u001b[0;34m\u001b[0m\u001b[0m\n\u001b[0;32m--> 109\u001b[0;31m         \u001b[0mexplore_bivariate_categorical\u001b[0m\u001b[0;34m(\u001b[0m\u001b[0mtrain\u001b[0m\u001b[0;34m,\u001b[0m \u001b[0mcategorical_target\u001b[0m\u001b[0;34m,\u001b[0m \u001b[0mcontinuous_target\u001b[0m\u001b[0;34m,\u001b[0m \u001b[0mbinary\u001b[0m\u001b[0;34m)\u001b[0m\u001b[0;34m\u001b[0m\u001b[0;34m\u001b[0m\u001b[0m\n\u001b[0m\u001b[1;32m    110\u001b[0m     \u001b[0;32mfor\u001b[0m \u001b[0mquant\u001b[0m \u001b[0;32min\u001b[0m \u001b[0mquant_vars\u001b[0m\u001b[0;34m:\u001b[0m\u001b[0;34m\u001b[0m\u001b[0;34m\u001b[0m\u001b[0m\n\u001b[1;32m    111\u001b[0m         \u001b[0mexplore_bivariate_quant\u001b[0m\u001b[0;34m(\u001b[0m\u001b[0mtrain\u001b[0m\u001b[0;34m,\u001b[0m \u001b[0mcategorical_target\u001b[0m\u001b[0;34m,\u001b[0m \u001b[0mcontinuous_target\u001b[0m\u001b[0;34m,\u001b[0m \u001b[0mquant\u001b[0m\u001b[0;34m)\u001b[0m\u001b[0;34m\u001b[0m\u001b[0;34m\u001b[0m\u001b[0m\n",
      "\u001b[0;32m~/codeup-data-science/Zillow-Clustering-Project/explore.py\u001b[0m in \u001b[0;36mexplore_bivariate_categorical\u001b[0;34m(train, categorical_target, continuous_target, binary_var)\u001b[0m\n\u001b[1;32m    122\u001b[0m     '''\n\u001b[1;32m    123\u001b[0m     \u001b[0mprint\u001b[0m\u001b[0;34m(\u001b[0m\u001b[0mbinary_var\u001b[0m\u001b[0;34m,\u001b[0m \u001b[0;34m\"\\n_____________________\\n\"\u001b[0m\u001b[0;34m)\u001b[0m\u001b[0;34m\u001b[0m\u001b[0;34m\u001b[0m\u001b[0m\n\u001b[0;32m--> 124\u001b[0;31m     \u001b[0mct\u001b[0m \u001b[0;34m=\u001b[0m \u001b[0mpd\u001b[0m\u001b[0;34m.\u001b[0m\u001b[0mcrosstab\u001b[0m\u001b[0;34m(\u001b[0m\u001b[0mtrain\u001b[0m\u001b[0;34m[\u001b[0m\u001b[0mbinary_var\u001b[0m\u001b[0;34m]\u001b[0m\u001b[0;34m,\u001b[0m \u001b[0mtrain\u001b[0m\u001b[0;34m[\u001b[0m\u001b[0mcategorical_target\u001b[0m\u001b[0;34m]\u001b[0m\u001b[0;34m,\u001b[0m \u001b[0mmargins\u001b[0m\u001b[0;34m=\u001b[0m\u001b[0;32mTrue\u001b[0m\u001b[0;34m)\u001b[0m\u001b[0;34m\u001b[0m\u001b[0;34m\u001b[0m\u001b[0m\n\u001b[0m\u001b[1;32m    125\u001b[0m     \u001b[0mchi2_summary\u001b[0m\u001b[0;34m,\u001b[0m \u001b[0mobserved\u001b[0m\u001b[0;34m,\u001b[0m \u001b[0mexpected\u001b[0m \u001b[0;34m=\u001b[0m \u001b[0mrun_chi2\u001b[0m\u001b[0;34m(\u001b[0m\u001b[0mtrain\u001b[0m\u001b[0;34m,\u001b[0m \u001b[0mbinary_var\u001b[0m\u001b[0;34m,\u001b[0m \u001b[0mcategorical_target\u001b[0m\u001b[0;34m)\u001b[0m\u001b[0;34m\u001b[0m\u001b[0;34m\u001b[0m\u001b[0m\n\u001b[1;32m    126\u001b[0m     \u001b[0mmannwhitney\u001b[0m \u001b[0;34m=\u001b[0m \u001b[0mcompare_means\u001b[0m\u001b[0;34m(\u001b[0m\u001b[0mtrain\u001b[0m\u001b[0;34m,\u001b[0m \u001b[0mcontinuous_target\u001b[0m\u001b[0;34m,\u001b[0m \u001b[0mbinary_var\u001b[0m\u001b[0;34m,\u001b[0m \u001b[0malt_hyp\u001b[0m\u001b[0;34m=\u001b[0m\u001b[0;34m'two-sided'\u001b[0m\u001b[0;34m)\u001b[0m\u001b[0;34m\u001b[0m\u001b[0;34m\u001b[0m\u001b[0m\n",
      "\u001b[0;32m/usr/local/anaconda3/lib/python3.8/site-packages/pandas/core/reshape/pivot.py\u001b[0m in \u001b[0;36mcrosstab\u001b[0;34m(index, columns, values, rownames, colnames, aggfunc, margins, margins_name, dropna, normalize)\u001b[0m\n\u001b[1;32m    604\u001b[0m     \u001b[0;32mfrom\u001b[0m \u001b[0mpandas\u001b[0m \u001b[0;32mimport\u001b[0m \u001b[0mDataFrame\u001b[0m\u001b[0;34m\u001b[0m\u001b[0;34m\u001b[0m\u001b[0m\n\u001b[1;32m    605\u001b[0m \u001b[0;34m\u001b[0m\u001b[0m\n\u001b[0;32m--> 606\u001b[0;31m     \u001b[0mdf\u001b[0m \u001b[0;34m=\u001b[0m \u001b[0mDataFrame\u001b[0m\u001b[0;34m(\u001b[0m\u001b[0mdata\u001b[0m\u001b[0;34m,\u001b[0m \u001b[0mindex\u001b[0m\u001b[0;34m=\u001b[0m\u001b[0mcommon_idx\u001b[0m\u001b[0;34m)\u001b[0m\u001b[0;34m\u001b[0m\u001b[0;34m\u001b[0m\u001b[0m\n\u001b[0m\u001b[1;32m    607\u001b[0m     \u001b[0moriginal_df_cols\u001b[0m \u001b[0;34m=\u001b[0m \u001b[0mdf\u001b[0m\u001b[0;34m.\u001b[0m\u001b[0mcolumns\u001b[0m\u001b[0;34m\u001b[0m\u001b[0;34m\u001b[0m\u001b[0m\n\u001b[1;32m    608\u001b[0m \u001b[0;34m\u001b[0m\u001b[0m\n",
      "\u001b[0;32m/usr/local/anaconda3/lib/python3.8/site-packages/pandas/core/frame.py\u001b[0m in \u001b[0;36m__init__\u001b[0;34m(self, data, index, columns, dtype, copy)\u001b[0m\n\u001b[1;32m    466\u001b[0m \u001b[0;34m\u001b[0m\u001b[0m\n\u001b[1;32m    467\u001b[0m         \u001b[0;32melif\u001b[0m \u001b[0misinstance\u001b[0m\u001b[0;34m(\u001b[0m\u001b[0mdata\u001b[0m\u001b[0;34m,\u001b[0m \u001b[0mdict\u001b[0m\u001b[0;34m)\u001b[0m\u001b[0;34m:\u001b[0m\u001b[0;34m\u001b[0m\u001b[0;34m\u001b[0m\u001b[0m\n\u001b[0;32m--> 468\u001b[0;31m             \u001b[0mmgr\u001b[0m \u001b[0;34m=\u001b[0m \u001b[0minit_dict\u001b[0m\u001b[0;34m(\u001b[0m\u001b[0mdata\u001b[0m\u001b[0;34m,\u001b[0m \u001b[0mindex\u001b[0m\u001b[0;34m,\u001b[0m \u001b[0mcolumns\u001b[0m\u001b[0;34m,\u001b[0m \u001b[0mdtype\u001b[0m\u001b[0;34m=\u001b[0m\u001b[0mdtype\u001b[0m\u001b[0;34m)\u001b[0m\u001b[0;34m\u001b[0m\u001b[0;34m\u001b[0m\u001b[0m\n\u001b[0m\u001b[1;32m    469\u001b[0m         \u001b[0;32melif\u001b[0m \u001b[0misinstance\u001b[0m\u001b[0;34m(\u001b[0m\u001b[0mdata\u001b[0m\u001b[0;34m,\u001b[0m \u001b[0mma\u001b[0m\u001b[0;34m.\u001b[0m\u001b[0mMaskedArray\u001b[0m\u001b[0;34m)\u001b[0m\u001b[0;34m:\u001b[0m\u001b[0;34m\u001b[0m\u001b[0;34m\u001b[0m\u001b[0m\n\u001b[1;32m    470\u001b[0m             \u001b[0;32mimport\u001b[0m \u001b[0mnumpy\u001b[0m\u001b[0;34m.\u001b[0m\u001b[0mma\u001b[0m\u001b[0;34m.\u001b[0m\u001b[0mmrecords\u001b[0m \u001b[0;32mas\u001b[0m \u001b[0mmrecords\u001b[0m\u001b[0;34m\u001b[0m\u001b[0;34m\u001b[0m\u001b[0m\n",
      "\u001b[0;32m/usr/local/anaconda3/lib/python3.8/site-packages/pandas/core/internals/construction.py\u001b[0m in \u001b[0;36minit_dict\u001b[0;34m(data, index, columns, dtype)\u001b[0m\n\u001b[1;32m    281\u001b[0m             \u001b[0marr\u001b[0m \u001b[0;32mif\u001b[0m \u001b[0;32mnot\u001b[0m \u001b[0mis_datetime64tz_dtype\u001b[0m\u001b[0;34m(\u001b[0m\u001b[0marr\u001b[0m\u001b[0;34m)\u001b[0m \u001b[0;32melse\u001b[0m \u001b[0marr\u001b[0m\u001b[0;34m.\u001b[0m\u001b[0mcopy\u001b[0m\u001b[0;34m(\u001b[0m\u001b[0;34m)\u001b[0m \u001b[0;32mfor\u001b[0m \u001b[0marr\u001b[0m \u001b[0;32min\u001b[0m \u001b[0marrays\u001b[0m\u001b[0;34m\u001b[0m\u001b[0;34m\u001b[0m\u001b[0m\n\u001b[1;32m    282\u001b[0m         ]\n\u001b[0;32m--> 283\u001b[0;31m     \u001b[0;32mreturn\u001b[0m \u001b[0marrays_to_mgr\u001b[0m\u001b[0;34m(\u001b[0m\u001b[0marrays\u001b[0m\u001b[0;34m,\u001b[0m \u001b[0mdata_names\u001b[0m\u001b[0;34m,\u001b[0m \u001b[0mindex\u001b[0m\u001b[0;34m,\u001b[0m \u001b[0mcolumns\u001b[0m\u001b[0;34m,\u001b[0m \u001b[0mdtype\u001b[0m\u001b[0;34m=\u001b[0m\u001b[0mdtype\u001b[0m\u001b[0;34m)\u001b[0m\u001b[0;34m\u001b[0m\u001b[0;34m\u001b[0m\u001b[0m\n\u001b[0m\u001b[1;32m    284\u001b[0m \u001b[0;34m\u001b[0m\u001b[0m\n\u001b[1;32m    285\u001b[0m \u001b[0;34m\u001b[0m\u001b[0m\n",
      "\u001b[0;32m/usr/local/anaconda3/lib/python3.8/site-packages/pandas/core/internals/construction.py\u001b[0m in \u001b[0;36marrays_to_mgr\u001b[0;34m(arrays, arr_names, index, columns, dtype, verify_integrity)\u001b[0m\n\u001b[1;32m     91\u001b[0m     \u001b[0maxes\u001b[0m \u001b[0;34m=\u001b[0m \u001b[0;34m[\u001b[0m\u001b[0mcolumns\u001b[0m\u001b[0;34m,\u001b[0m \u001b[0mindex\u001b[0m\u001b[0;34m]\u001b[0m\u001b[0;34m\u001b[0m\u001b[0;34m\u001b[0m\u001b[0m\n\u001b[1;32m     92\u001b[0m \u001b[0;34m\u001b[0m\u001b[0m\n\u001b[0;32m---> 93\u001b[0;31m     \u001b[0;32mreturn\u001b[0m \u001b[0mcreate_block_manager_from_arrays\u001b[0m\u001b[0;34m(\u001b[0m\u001b[0marrays\u001b[0m\u001b[0;34m,\u001b[0m \u001b[0marr_names\u001b[0m\u001b[0;34m,\u001b[0m \u001b[0maxes\u001b[0m\u001b[0;34m)\u001b[0m\u001b[0;34m\u001b[0m\u001b[0;34m\u001b[0m\u001b[0m\n\u001b[0m\u001b[1;32m     94\u001b[0m \u001b[0;34m\u001b[0m\u001b[0m\n\u001b[1;32m     95\u001b[0m \u001b[0;34m\u001b[0m\u001b[0m\n",
      "\u001b[0;32m/usr/local/anaconda3/lib/python3.8/site-packages/pandas/core/internals/managers.py\u001b[0m in \u001b[0;36mcreate_block_manager_from_arrays\u001b[0;34m(arrays, names, axes)\u001b[0m\n\u001b[1;32m   1686\u001b[0m         \u001b[0;32mreturn\u001b[0m \u001b[0mmgr\u001b[0m\u001b[0;34m\u001b[0m\u001b[0;34m\u001b[0m\u001b[0m\n\u001b[1;32m   1687\u001b[0m     \u001b[0;32mexcept\u001b[0m \u001b[0mValueError\u001b[0m \u001b[0;32mas\u001b[0m \u001b[0me\u001b[0m\u001b[0;34m:\u001b[0m\u001b[0;34m\u001b[0m\u001b[0;34m\u001b[0m\u001b[0m\n\u001b[0;32m-> 1688\u001b[0;31m         \u001b[0;32mraise\u001b[0m \u001b[0mconstruction_error\u001b[0m\u001b[0;34m(\u001b[0m\u001b[0mlen\u001b[0m\u001b[0;34m(\u001b[0m\u001b[0marrays\u001b[0m\u001b[0;34m)\u001b[0m\u001b[0;34m,\u001b[0m \u001b[0marrays\u001b[0m\u001b[0;34m[\u001b[0m\u001b[0;36m0\u001b[0m\u001b[0;34m]\u001b[0m\u001b[0;34m.\u001b[0m\u001b[0mshape\u001b[0m\u001b[0;34m,\u001b[0m \u001b[0maxes\u001b[0m\u001b[0;34m,\u001b[0m \u001b[0me\u001b[0m\u001b[0;34m)\u001b[0m\u001b[0;34m\u001b[0m\u001b[0;34m\u001b[0m\u001b[0m\n\u001b[0m\u001b[1;32m   1689\u001b[0m \u001b[0;34m\u001b[0m\u001b[0m\n\u001b[1;32m   1690\u001b[0m \u001b[0;34m\u001b[0m\u001b[0m\n",
      "\u001b[0;32m/usr/local/anaconda3/lib/python3.8/site-packages/pandas/core/internals/managers.py\u001b[0m in \u001b[0;36mcreate_block_manager_from_arrays\u001b[0;34m(arrays, names, axes)\u001b[0m\n\u001b[1;32m   1682\u001b[0m     \u001b[0;32mtry\u001b[0m\u001b[0;34m:\u001b[0m\u001b[0;34m\u001b[0m\u001b[0;34m\u001b[0m\u001b[0m\n\u001b[1;32m   1683\u001b[0m         \u001b[0mblocks\u001b[0m \u001b[0;34m=\u001b[0m \u001b[0mform_blocks\u001b[0m\u001b[0;34m(\u001b[0m\u001b[0marrays\u001b[0m\u001b[0;34m,\u001b[0m \u001b[0mnames\u001b[0m\u001b[0;34m,\u001b[0m \u001b[0maxes\u001b[0m\u001b[0;34m)\u001b[0m\u001b[0;34m\u001b[0m\u001b[0;34m\u001b[0m\u001b[0m\n\u001b[0;32m-> 1684\u001b[0;31m         \u001b[0mmgr\u001b[0m \u001b[0;34m=\u001b[0m \u001b[0mBlockManager\u001b[0m\u001b[0;34m(\u001b[0m\u001b[0mblocks\u001b[0m\u001b[0;34m,\u001b[0m \u001b[0maxes\u001b[0m\u001b[0;34m)\u001b[0m\u001b[0;34m\u001b[0m\u001b[0;34m\u001b[0m\u001b[0m\n\u001b[0m\u001b[1;32m   1685\u001b[0m         \u001b[0mmgr\u001b[0m\u001b[0;34m.\u001b[0m\u001b[0m_consolidate_inplace\u001b[0m\u001b[0;34m(\u001b[0m\u001b[0;34m)\u001b[0m\u001b[0;34m\u001b[0m\u001b[0;34m\u001b[0m\u001b[0m\n\u001b[1;32m   1686\u001b[0m         \u001b[0;32mreturn\u001b[0m \u001b[0mmgr\u001b[0m\u001b[0;34m\u001b[0m\u001b[0;34m\u001b[0m\u001b[0m\n",
      "\u001b[0;32m/usr/local/anaconda3/lib/python3.8/site-packages/pandas/core/internals/managers.py\u001b[0m in \u001b[0;36m__init__\u001b[0;34m(self, blocks, axes, do_integrity_check)\u001b[0m\n\u001b[1;32m    147\u001b[0m \u001b[0;34m\u001b[0m\u001b[0m\n\u001b[1;32m    148\u001b[0m         \u001b[0;32mif\u001b[0m \u001b[0mdo_integrity_check\u001b[0m\u001b[0;34m:\u001b[0m\u001b[0;34m\u001b[0m\u001b[0;34m\u001b[0m\u001b[0m\n\u001b[0;32m--> 149\u001b[0;31m             \u001b[0mself\u001b[0m\u001b[0;34m.\u001b[0m\u001b[0m_verify_integrity\u001b[0m\u001b[0;34m(\u001b[0m\u001b[0;34m)\u001b[0m\u001b[0;34m\u001b[0m\u001b[0;34m\u001b[0m\u001b[0m\n\u001b[0m\u001b[1;32m    150\u001b[0m \u001b[0;34m\u001b[0m\u001b[0m\n\u001b[1;32m    151\u001b[0m         \u001b[0;31m# Populate known_consolidate, blknos, and blklocs lazily\u001b[0m\u001b[0;34m\u001b[0m\u001b[0;34m\u001b[0m\u001b[0;34m\u001b[0m\u001b[0m\n",
      "\u001b[0;32m/usr/local/anaconda3/lib/python3.8/site-packages/pandas/core/internals/managers.py\u001b[0m in \u001b[0;36m_verify_integrity\u001b[0;34m(self)\u001b[0m\n\u001b[1;32m    324\u001b[0m         \u001b[0;32mfor\u001b[0m \u001b[0mblock\u001b[0m \u001b[0;32min\u001b[0m \u001b[0mself\u001b[0m\u001b[0;34m.\u001b[0m\u001b[0mblocks\u001b[0m\u001b[0;34m:\u001b[0m\u001b[0;34m\u001b[0m\u001b[0;34m\u001b[0m\u001b[0m\n\u001b[1;32m    325\u001b[0m             \u001b[0;32mif\u001b[0m \u001b[0mblock\u001b[0m\u001b[0;34m.\u001b[0m\u001b[0mshape\u001b[0m\u001b[0;34m[\u001b[0m\u001b[0;36m1\u001b[0m\u001b[0;34m:\u001b[0m\u001b[0;34m]\u001b[0m \u001b[0;34m!=\u001b[0m \u001b[0mmgr_shape\u001b[0m\u001b[0;34m[\u001b[0m\u001b[0;36m1\u001b[0m\u001b[0;34m:\u001b[0m\u001b[0;34m]\u001b[0m\u001b[0;34m:\u001b[0m\u001b[0;34m\u001b[0m\u001b[0;34m\u001b[0m\u001b[0m\n\u001b[0;32m--> 326\u001b[0;31m                 \u001b[0;32mraise\u001b[0m \u001b[0mconstruction_error\u001b[0m\u001b[0;34m(\u001b[0m\u001b[0mtot_items\u001b[0m\u001b[0;34m,\u001b[0m \u001b[0mblock\u001b[0m\u001b[0;34m.\u001b[0m\u001b[0mshape\u001b[0m\u001b[0;34m[\u001b[0m\u001b[0;36m1\u001b[0m\u001b[0;34m:\u001b[0m\u001b[0;34m]\u001b[0m\u001b[0;34m,\u001b[0m \u001b[0mself\u001b[0m\u001b[0;34m.\u001b[0m\u001b[0maxes\u001b[0m\u001b[0;34m)\u001b[0m\u001b[0;34m\u001b[0m\u001b[0;34m\u001b[0m\u001b[0m\n\u001b[0m\u001b[1;32m    327\u001b[0m         \u001b[0;32mif\u001b[0m \u001b[0mlen\u001b[0m\u001b[0;34m(\u001b[0m\u001b[0mself\u001b[0m\u001b[0;34m.\u001b[0m\u001b[0mitems\u001b[0m\u001b[0;34m)\u001b[0m \u001b[0;34m!=\u001b[0m \u001b[0mtot_items\u001b[0m\u001b[0;34m:\u001b[0m\u001b[0;34m\u001b[0m\u001b[0;34m\u001b[0m\u001b[0m\n\u001b[1;32m    328\u001b[0m             raise AssertionError(\n",
      "\u001b[0;31mValueError\u001b[0m: Shape of passed values is (1, 2), indices imply (24518, 2)"
     ]
    }
   ],
   "source": [
    "explore.explore_bivariate(train, categorical_target, continuous_target, binary_vars, quant_vars)"
   ]
  },
  {
   "cell_type": "code",
   "execution_count": null,
   "metadata": {},
   "outputs": [],
   "source": [
    "#Multivariate Analysis\n",
    "#sns.pairplot(data = train, hue = 'logerror_bins', \n",
    "#             x_vars = ['logerror', 'structuretaxvaluedollarcnt','landtaxvaluedollarcnt', 'taxvaluedollarcnt', 'taxamount'],\n",
    "#             y_vars = ['logerror', 'bathroomcnt', 'bedroomcnt', 'calculatedfinishedsquarefeet', 'yearbuilt'])"
   ]
  },
  {
   "cell_type": "markdown",
   "metadata": {},
   "source": [
    "#### Scale Continuous Features"
   ]
  },
  {
   "cell_type": "code",
   "execution_count": null,
   "metadata": {},
   "outputs": [],
   "source": [
    "train.columns"
   ]
  },
  {
   "cell_type": "code",
   "execution_count": null,
   "metadata": {},
   "outputs": [],
   "source": [
    "#Add this column to the above drop columns list\n",
    "train.drop(columns={'transactiondate'},inplace=True)"
   ]
  },
  {
   "cell_type": "code",
   "execution_count": null,
   "metadata": {},
   "outputs": [],
   "source": [
    "train.drop(columns={'logerror_class'}, inplace=True)"
   ]
  },
  {
   "cell_type": "code",
   "execution_count": null,
   "metadata": {},
   "outputs": [],
   "source": [
    "# the variables that still need scaling\n",
    "scaled_vars = ['bathroomcnt', 'bedroomcnt', 'buildingqualitytypeid',\n",
    "       'calculatedfinishedsquarefeet', 'latitude', 'longitude',\n",
    "       'lotsizesquarefeet', 'rawcensustractandblock', 'regionidcity',\n",
    "       'regionidzip', 'yearbuilt', 'structuretaxvaluedollarcnt',\n",
    "       'taxvaluedollarcnt', 'landtaxvaluedollarcnt', 'taxamount']\n",
    "\n",
    "# create new column names for the scaled variables by adding 'scaled_' to the beginning of each variable name \n",
    "scaled_column_names = ['scaled_' + i for i in scaled_vars]\n",
    "\n",
    "# select the X partitions: [X_train, X_validate, X_test]\n",
    "X = partitions[1:4]\n",
    "\n",
    "# fit the minmaxscaler to X_train\n",
    "X_train = X[0]\n",
    "scaler = MinMaxScaler(copy=True).fit(X_train[scaled_vars])\n",
    "\n",
    "\n",
    "def scale_and_concat(df):\n",
    "    scaled_array = scaler.transform(df[scaled_vars])\n",
    "    scaled_df = pd.DataFrame(scaled_array, columns=scaled_column_names, index=df.index.values)\n",
    "    return pd.concat((df, scaled_df), axis=1)\n",
    "\n",
    "for i in range(len(X)):\n",
    "    X[i] = scale_and_concat(X[i])"
   ]
  },
  {
   "cell_type": "code",
   "execution_count": null,
   "metadata": {},
   "outputs": [],
   "source": [
    "# recall: X[0] is X_train, X[1] is X_validate and X[2] is X_test\n",
    "X[0].describe()"
   ]
  },
  {
   "cell_type": "code",
   "execution_count": null,
   "metadata": {},
   "outputs": [],
   "source": [
    "# list of variables I will cluster on. \n",
    "cluster_vars = ['scaled_latitude', 'scaled_longitude', 'scaled_yearbuilt']\n",
    "cluster_name = 'area_cluster'\n",
    "k_range = range(2,20)"
   ]
  },
  {
   "cell_type": "code",
   "execution_count": null,
   "metadata": {},
   "outputs": [],
   "source": [
    "def find_k(X_train, cluster_vars, k_range):\n",
    "    sse = []\n",
    "    for k in k_range:\n",
    "        kmeans = KMeans(n_clusters=k)\n",
    "\n",
    "        # X[0] is our X_train dataframe..the first dataframe in the list of dataframes stored in X. \n",
    "        kmeans.fit(X_train[cluster_vars])\n",
    "\n",
    "        # inertia: Sum of squared distances of samples to their closest cluster center.\n",
    "        sse.append(kmeans.inertia_) \n",
    "\n",
    "    # compute the difference from one k to the next\n",
    "    delta = [round(sse[i] - sse[i+1],0) for i in range(len(sse)-1)]\n",
    "\n",
    "    # compute the percent difference from one k to the next\n",
    "    pct_delta = [round(((sse[i] - sse[i+1])/sse[i])*100, 1) for i in range(len(sse)-1)]\n",
    "\n",
    "    # create a dataframe with all of our metrics to compare them across values of k: SSE, delta, pct_delta\n",
    "    k_comparisons_df = pd.DataFrame(dict(k=k_range[0:-1], \n",
    "                             sse=sse[0:-1], \n",
    "                             delta=delta, \n",
    "                             pct_delta=pct_delta))\n",
    "\n",
    "    # plot k with inertia\n",
    "    plt.plot(k_comparisons_df.k, k_comparisons_df.sse, 'bx-')\n",
    "    plt.xlabel('k')\n",
    "    plt.ylabel('SSE')\n",
    "    plt.title('The Elbow Method to find the optimal k\\nFor which k values do we see large decreases in SSE?')\n",
    "    plt.show()\n",
    "\n",
    "    # plot k with pct_delta\n",
    "    plt.plot(k_comparisons_df.k, k_comparisons_df.pct_delta, 'bx-')\n",
    "    plt.xlabel('k')\n",
    "    plt.ylabel('Percent Change')\n",
    "    plt.title('For which k values are we seeing increased changes (%) in SSE?')\n",
    "    plt.show()\n",
    "\n",
    "    # plot k with delta\n",
    "    plt.plot(k_comparisons_df.k, k_comparisons_df.delta, 'bx-')\n",
    "    plt.xlabel('k')\n",
    "    plt.ylabel('Absolute Change in SSE')\n",
    "    plt.title('For which k values are we seeing increased changes (absolute) in SSE?')\n",
    "    plt.show()\n",
    "\n",
    "    return k_comparisons_df"
   ]
  },
  {
   "cell_type": "code",
   "execution_count": null,
   "metadata": {},
   "outputs": [],
   "source": [
    "find_k(X[0], cluster_vars, k_range)"
   ]
  },
  {
   "cell_type": "code",
   "execution_count": null,
   "metadata": {},
   "outputs": [],
   "source": []
  }
 ],
 "metadata": {
  "kernelspec": {
   "display_name": "Python 3",
   "language": "python",
   "name": "python3"
  },
  "language_info": {
   "codemirror_mode": {
    "name": "ipython",
    "version": 3
   },
   "file_extension": ".py",
   "mimetype": "text/x-python",
   "name": "python",
   "nbconvert_exporter": "python",
   "pygments_lexer": "ipython3",
   "version": "3.8.5"
  }
 },
 "nbformat": 4,
 "nbformat_minor": 4
}
