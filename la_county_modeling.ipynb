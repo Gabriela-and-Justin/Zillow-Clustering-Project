{
 "cells": [
  {
   "cell_type": "code",
   "execution_count": 1,
   "metadata": {},
   "outputs": [],
   "source": [
    "import warnings\n",
    "warnings.filterwarnings(\"ignore\")\n",
    "\n",
    "#Imports\n",
    "import pandas as pd\n",
    "import matplotlib.pyplot as plt\n",
    "import seaborn as sns\n",
    "import numpy as np\n",
    "from scipy import stats\n",
    "import math\n",
    "\n",
    "#Visualizing\n",
    "import matplotlib.pyplot as plt\n",
    "import seaborn as sns\n",
    "\n",
    "# default pandas decimal number display format\n",
    "pd.options.display.float_format = '{:.2f}'.format\n",
    "\n",
    "#Acquire\n",
    "from env import host, user, password \n",
    "import os\n",
    "import acquire\n",
    "\n",
    "#Prepare\n",
    "import prepare\n",
    "\n",
    "#SKLearn\n",
    "from sklearn.model_selection import train_test_split\n",
    "from sklearn.preprocessing import StandardScaler\n",
    "from sklearn.cluster import KMeans\n",
    "from sklearn.preprocessing import MinMaxScaler, RobustScaler\n",
    "from sklearn.feature_selection import SelectKBest, f_regression\n",
    "from sklearn.linear_model import LinearRegression\n",
    "from sklearn.metrics import mean_squared_error\n",
    "from sklearn.linear_model import LinearRegression, LassoLars, TweedieRegressor\n",
    "from sklearn.preprocessing import PolynomialFeatures\n",
    "from sklearn.feature_selection import RFE\n",
    "\n",
    "\n",
    "#Exploring\n",
    "import explore\n",
    "\n",
    "#Evaluate\n",
    "import evaluate"
   ]
  },
  {
   "cell_type": "code",
   "execution_count": 2,
   "metadata": {},
   "outputs": [
    {
     "data": {
      "text/html": [
       "<div>\n",
       "<style scoped>\n",
       "    .dataframe tbody tr th:only-of-type {\n",
       "        vertical-align: middle;\n",
       "    }\n",
       "\n",
       "    .dataframe tbody tr th {\n",
       "        vertical-align: top;\n",
       "    }\n",
       "\n",
       "    .dataframe thead th {\n",
       "        text-align: right;\n",
       "    }\n",
       "</style>\n",
       "<table border=\"1\" class=\"dataframe\">\n",
       "  <thead>\n",
       "    <tr style=\"text-align: right;\">\n",
       "      <th></th>\n",
       "      <th>typeconstructiontypeid</th>\n",
       "      <th>storytypeid</th>\n",
       "      <th>heatingorsystemtypeid</th>\n",
       "      <th>buildingclasstypeid</th>\n",
       "      <th>architecturalstyletypeid</th>\n",
       "      <th>airconditioningtypeid</th>\n",
       "      <th>parcelid</th>\n",
       "      <th>id</th>\n",
       "      <th>basementsqft</th>\n",
       "      <th>bathroomcnt</th>\n",
       "      <th>...</th>\n",
       "      <th>taxdelinquencyyear</th>\n",
       "      <th>censustractandblock</th>\n",
       "      <th>logerror</th>\n",
       "      <th>transactiondate</th>\n",
       "      <th>airconditioningdesc</th>\n",
       "      <th>architecturalstyledesc</th>\n",
       "      <th>buildingclassdesc</th>\n",
       "      <th>heatingorsystemdesc</th>\n",
       "      <th>storydesc</th>\n",
       "      <th>typeconstructiondesc</th>\n",
       "    </tr>\n",
       "  </thead>\n",
       "  <tbody>\n",
       "    <tr>\n",
       "      <th>0</th>\n",
       "      <td>nan</td>\n",
       "      <td>nan</td>\n",
       "      <td>2.00</td>\n",
       "      <td>nan</td>\n",
       "      <td>nan</td>\n",
       "      <td>nan</td>\n",
       "      <td>10711855</td>\n",
       "      <td>1087254</td>\n",
       "      <td>nan</td>\n",
       "      <td>2.00</td>\n",
       "      <td>...</td>\n",
       "      <td>nan</td>\n",
       "      <td>60371132321007.00</td>\n",
       "      <td>-0.01</td>\n",
       "      <td>2017-07-07</td>\n",
       "      <td>None</td>\n",
       "      <td>None</td>\n",
       "      <td>None</td>\n",
       "      <td>Central</td>\n",
       "      <td>None</td>\n",
       "      <td>None</td>\n",
       "    </tr>\n",
       "    <tr>\n",
       "      <th>1</th>\n",
       "      <td>nan</td>\n",
       "      <td>nan</td>\n",
       "      <td>2.00</td>\n",
       "      <td>nan</td>\n",
       "      <td>nan</td>\n",
       "      <td>1.00</td>\n",
       "      <td>10711877</td>\n",
       "      <td>1072280</td>\n",
       "      <td>nan</td>\n",
       "      <td>2.00</td>\n",
       "      <td>...</td>\n",
       "      <td>nan</td>\n",
       "      <td>60371132321007.00</td>\n",
       "      <td>0.02</td>\n",
       "      <td>2017-08-29</td>\n",
       "      <td>Central</td>\n",
       "      <td>None</td>\n",
       "      <td>None</td>\n",
       "      <td>Central</td>\n",
       "      <td>None</td>\n",
       "      <td>None</td>\n",
       "    </tr>\n",
       "    <tr>\n",
       "      <th>2</th>\n",
       "      <td>nan</td>\n",
       "      <td>nan</td>\n",
       "      <td>2.00</td>\n",
       "      <td>nan</td>\n",
       "      <td>nan</td>\n",
       "      <td>1.00</td>\n",
       "      <td>10711888</td>\n",
       "      <td>1340933</td>\n",
       "      <td>nan</td>\n",
       "      <td>2.00</td>\n",
       "      <td>...</td>\n",
       "      <td>nan</td>\n",
       "      <td>60371132321007.00</td>\n",
       "      <td>0.08</td>\n",
       "      <td>2017-04-04</td>\n",
       "      <td>Central</td>\n",
       "      <td>None</td>\n",
       "      <td>None</td>\n",
       "      <td>Central</td>\n",
       "      <td>None</td>\n",
       "      <td>None</td>\n",
       "    </tr>\n",
       "    <tr>\n",
       "      <th>3</th>\n",
       "      <td>nan</td>\n",
       "      <td>nan</td>\n",
       "      <td>2.00</td>\n",
       "      <td>nan</td>\n",
       "      <td>nan</td>\n",
       "      <td>nan</td>\n",
       "      <td>10711910</td>\n",
       "      <td>1878109</td>\n",
       "      <td>nan</td>\n",
       "      <td>2.00</td>\n",
       "      <td>...</td>\n",
       "      <td>nan</td>\n",
       "      <td>60371132321008.00</td>\n",
       "      <td>-0.04</td>\n",
       "      <td>2017-03-17</td>\n",
       "      <td>None</td>\n",
       "      <td>None</td>\n",
       "      <td>None</td>\n",
       "      <td>Central</td>\n",
       "      <td>None</td>\n",
       "      <td>None</td>\n",
       "    </tr>\n",
       "    <tr>\n",
       "      <th>4</th>\n",
       "      <td>nan</td>\n",
       "      <td>nan</td>\n",
       "      <td>2.00</td>\n",
       "      <td>nan</td>\n",
       "      <td>nan</td>\n",
       "      <td>nan</td>\n",
       "      <td>10711923</td>\n",
       "      <td>2190858</td>\n",
       "      <td>nan</td>\n",
       "      <td>2.00</td>\n",
       "      <td>...</td>\n",
       "      <td>nan</td>\n",
       "      <td>60371132321008.00</td>\n",
       "      <td>-0.01</td>\n",
       "      <td>2017-03-24</td>\n",
       "      <td>None</td>\n",
       "      <td>None</td>\n",
       "      <td>None</td>\n",
       "      <td>Central</td>\n",
       "      <td>None</td>\n",
       "      <td>None</td>\n",
       "    </tr>\n",
       "  </tbody>\n",
       "</table>\n",
       "<p>5 rows × 67 columns</p>\n",
       "</div>"
      ],
      "text/plain": [
       "   typeconstructiontypeid  storytypeid  heatingorsystemtypeid  \\\n",
       "0                     nan          nan                   2.00   \n",
       "1                     nan          nan                   2.00   \n",
       "2                     nan          nan                   2.00   \n",
       "3                     nan          nan                   2.00   \n",
       "4                     nan          nan                   2.00   \n",
       "\n",
       "   buildingclasstypeid  architecturalstyletypeid  airconditioningtypeid  \\\n",
       "0                  nan                       nan                    nan   \n",
       "1                  nan                       nan                   1.00   \n",
       "2                  nan                       nan                   1.00   \n",
       "3                  nan                       nan                    nan   \n",
       "4                  nan                       nan                    nan   \n",
       "\n",
       "   parcelid       id  basementsqft  bathroomcnt  ...  taxdelinquencyyear  \\\n",
       "0  10711855  1087254           nan         2.00  ...                 nan   \n",
       "1  10711877  1072280           nan         2.00  ...                 nan   \n",
       "2  10711888  1340933           nan         2.00  ...                 nan   \n",
       "3  10711910  1878109           nan         2.00  ...                 nan   \n",
       "4  10711923  2190858           nan         2.00  ...                 nan   \n",
       "\n",
       "   censustractandblock  logerror  transactiondate  airconditioningdesc  \\\n",
       "0    60371132321007.00     -0.01       2017-07-07                 None   \n",
       "1    60371132321007.00      0.02       2017-08-29              Central   \n",
       "2    60371132321007.00      0.08       2017-04-04              Central   \n",
       "3    60371132321008.00     -0.04       2017-03-17                 None   \n",
       "4    60371132321008.00     -0.01       2017-03-24                 None   \n",
       "\n",
       "   architecturalstyledesc  buildingclassdesc  heatingorsystemdesc  storydesc  \\\n",
       "0                    None               None              Central       None   \n",
       "1                    None               None              Central       None   \n",
       "2                    None               None              Central       None   \n",
       "3                    None               None              Central       None   \n",
       "4                    None               None              Central       None   \n",
       "\n",
       "   typeconstructiondesc  \n",
       "0                  None  \n",
       "1                  None  \n",
       "2                  None  \n",
       "3                  None  \n",
       "4                  None  \n",
       "\n",
       "[5 rows x 67 columns]"
      ]
     },
     "execution_count": 2,
     "metadata": {},
     "output_type": "execute_result"
    }
   ],
   "source": [
    "df = acquire.get_zillow_data(cached=False)\n",
    "df.head()"
   ]
  },
  {
   "cell_type": "code",
   "execution_count": 3,
   "metadata": {},
   "outputs": [
    {
     "data": {
      "text/plain": [
       "(69305, 21)"
      ]
     },
     "execution_count": 3,
     "metadata": {},
     "output_type": "execute_result"
    }
   ],
   "source": [
    "#Prepare the data using wrangle zillow 2\n",
    "df = prepare.wrangle_zillow_2nd()\n",
    "df.shape"
   ]
  },
  {
   "cell_type": "code",
   "execution_count": 4,
   "metadata": {},
   "outputs": [
    {
     "data": {
      "text/plain": [
       "(43768, 18)"
      ]
     },
     "execution_count": 4,
     "metadata": {},
     "output_type": "execute_result"
    }
   ],
   "source": [
    "#Create LA County Dataframe\n",
    "df_la = df[df.LA == 1].drop(columns = ['LA', 'Ventura', 'Orange']) \n",
    "df_la.shape"
   ]
  },
  {
   "cell_type": "code",
   "execution_count": 5,
   "metadata": {},
   "outputs": [
    {
     "data": {
      "text/plain": [
       "(5695, 18)"
      ]
     },
     "execution_count": 5,
     "metadata": {},
     "output_type": "execute_result"
    }
   ],
   "source": [
    "#Create Ventura County df\n",
    "df_vent = df[df.Ventura == 1].drop(columns = ['LA', 'Ventura', 'Orange']) \n",
    "df_vent.shape"
   ]
  },
  {
   "cell_type": "code",
   "execution_count": 6,
   "metadata": {},
   "outputs": [
    {
     "data": {
      "text/plain": [
       "(19842, 18)"
      ]
     },
     "execution_count": 6,
     "metadata": {},
     "output_type": "execute_result"
    }
   ],
   "source": [
    "#Create Orange County df\n",
    "df_orange = df[df.Orange == 1].drop(columns = ['LA', 'Ventura', 'Orange']) \n",
    "df_orange.shape"
   ]
  },
  {
   "cell_type": "markdown",
   "metadata": {},
   "source": [
    "# Feature Engineering: SelectKBest by County"
   ]
  },
  {
   "cell_type": "markdown",
   "metadata": {},
   "source": [
    "## Los Angeles \n",
    " - scaled_bathroomcnt\n",
    " - scaled_bedroomcnt\n",
    " - scaled_calculatedfinishedsquarefeet\n",
    " - scaled_regionidzip\n",
    " - scaled_taxrate"
   ]
  },
  {
   "cell_type": "code",
   "execution_count": 7,
   "metadata": {},
   "outputs": [],
   "source": [
    "partitions = explore.split(df_la, target_var='logerror')\n",
    "train = partitions[0]\n",
    "partitions[0] = train"
   ]
  },
  {
   "cell_type": "code",
   "execution_count": 8,
   "metadata": {},
   "outputs": [],
   "source": [
    "# the variables that need scaling\n",
    "scaled_vars = ['bathroomcnt', 'bedroomcnt', 'buildingqualitytypeid',\n",
    "       'calculatedfinishedsquarefeet', 'latitude', 'longitude',\n",
    "       'rawcensustractandblock', 'regionidcity', 'regionidzip',\n",
    "       'structuretaxvaluedollarcnt', 'landtaxvaluedollarcnt',\n",
    "       'age', 'taxrate', 'acres']\n",
    "# create new column names for the scaled variables by adding 'scaled_' to the beginning of each variable name \n",
    "scaled_column_names = ['scaled_' + i for i in scaled_vars]\n",
    "# select the X partitions: [X_train, X_validate, X_test]\n",
    "X = partitions[1:4]\n",
    "# fit the minmaxscaler to X_train\n",
    "X_train = X[0]\n",
    "scaler = MinMaxScaler(copy=True).fit(X_train[scaled_vars])\n",
    "def scale_and_concat(df):\n",
    "    scaled_array = scaler.transform(df[scaled_vars])\n",
    "    scaled_df = pd.DataFrame(scaled_array, columns=scaled_column_names, index=df.index.values)\n",
    "    return pd.concat((df, scaled_df), axis=1)\n",
    "for i in range(len(X)):\n",
    "    X[i] = scale_and_concat(X[i])"
   ]
  },
  {
   "cell_type": "code",
   "execution_count": 9,
   "metadata": {},
   "outputs": [],
   "source": [
    "X_validate = partitions[2]\n",
    "X_test = partitions[3]\n",
    "y_train = partitions[4]\n",
    "y_validate = partitions[5] \n",
    "y_test = partitions[6]"
   ]
  },
  {
   "cell_type": "code",
   "execution_count": 10,
   "metadata": {},
   "outputs": [],
   "source": [
    "X_train_scaled = X[0][['cola', 'hot_month_sale', 'has_heat', 'scaled_bathroomcnt',\n",
    "       'scaled_bedroomcnt', 'scaled_buildingqualitytypeid',\n",
    "       'scaled_calculatedfinishedsquarefeet', 'scaled_latitude',\n",
    "       'scaled_longitude', 'scaled_rawcensustractandblock',\n",
    "       'scaled_regionidcity', 'scaled_regionidzip',\n",
    "       'scaled_structuretaxvaluedollarcnt', 'scaled_landtaxvaluedollarcnt',\n",
    "       'scaled_age', 'scaled_taxrate', 'scaled_acres']]"
   ]
  },
  {
   "cell_type": "code",
   "execution_count": 11,
   "metadata": {},
   "outputs": [
    {
     "data": {
      "text/html": [
       "<div>\n",
       "<style scoped>\n",
       "    .dataframe tbody tr th:only-of-type {\n",
       "        vertical-align: middle;\n",
       "    }\n",
       "\n",
       "    .dataframe tbody tr th {\n",
       "        vertical-align: top;\n",
       "    }\n",
       "\n",
       "    .dataframe thead th {\n",
       "        text-align: right;\n",
       "    }\n",
       "</style>\n",
       "<table border=\"1\" class=\"dataframe\">\n",
       "  <thead>\n",
       "    <tr style=\"text-align: right;\">\n",
       "      <th></th>\n",
       "      <th>bathroomcnt</th>\n",
       "      <th>bedroomcnt</th>\n",
       "      <th>buildingqualitytypeid</th>\n",
       "      <th>calculatedfinishedsquarefeet</th>\n",
       "      <th>latitude</th>\n",
       "      <th>longitude</th>\n",
       "      <th>rawcensustractandblock</th>\n",
       "      <th>regionidcity</th>\n",
       "      <th>regionidzip</th>\n",
       "      <th>structuretaxvaluedollarcnt</th>\n",
       "      <th>landtaxvaluedollarcnt</th>\n",
       "      <th>age</th>\n",
       "      <th>taxrate</th>\n",
       "      <th>acres</th>\n",
       "      <th>cola</th>\n",
       "      <th>hot_month_sale</th>\n",
       "      <th>has_heat</th>\n",
       "    </tr>\n",
       "    <tr>\n",
       "      <th>parcelid</th>\n",
       "      <th></th>\n",
       "      <th></th>\n",
       "      <th></th>\n",
       "      <th></th>\n",
       "      <th></th>\n",
       "      <th></th>\n",
       "      <th></th>\n",
       "      <th></th>\n",
       "      <th></th>\n",
       "      <th></th>\n",
       "      <th></th>\n",
       "      <th></th>\n",
       "      <th></th>\n",
       "      <th></th>\n",
       "      <th></th>\n",
       "      <th></th>\n",
       "      <th></th>\n",
       "    </tr>\n",
       "  </thead>\n",
       "  <tbody>\n",
       "    <tr>\n",
       "      <th>12248933</th>\n",
       "      <td>2.00</td>\n",
       "      <td>4.00</td>\n",
       "      <td>8.00</td>\n",
       "      <td>1784.00</td>\n",
       "      <td>33.88</td>\n",
       "      <td>-118.30</td>\n",
       "      <td>60376031.02</td>\n",
       "      <td>45398.00</td>\n",
       "      <td>96104.00</td>\n",
       "      <td>59212.00</td>\n",
       "      <td>46364.00</td>\n",
       "      <td>48.00</td>\n",
       "      <td>1.40</td>\n",
       "      <td>0.12</td>\n",
       "      <td>0</td>\n",
       "      <td>0</td>\n",
       "      <td>1</td>\n",
       "    </tr>\n",
       "    <tr>\n",
       "      <th>11110824</th>\n",
       "      <td>1.00</td>\n",
       "      <td>2.00</td>\n",
       "      <td>6.00</td>\n",
       "      <td>834.00</td>\n",
       "      <td>34.45</td>\n",
       "      <td>-118.50</td>\n",
       "      <td>60379200.20</td>\n",
       "      <td>54311.00</td>\n",
       "      <td>96373.00</td>\n",
       "      <td>60400.00</td>\n",
       "      <td>133300.00</td>\n",
       "      <td>40.00</td>\n",
       "      <td>1.48</td>\n",
       "      <td>3.40</td>\n",
       "      <td>0</td>\n",
       "      <td>0</td>\n",
       "      <td>1</td>\n",
       "    </tr>\n",
       "    <tr>\n",
       "      <th>11115676</th>\n",
       "      <td>3.00</td>\n",
       "      <td>3.00</td>\n",
       "      <td>8.00</td>\n",
       "      <td>1320.00</td>\n",
       "      <td>34.44</td>\n",
       "      <td>-118.56</td>\n",
       "      <td>60379201.14</td>\n",
       "      <td>54311.00</td>\n",
       "      <td>96377.00</td>\n",
       "      <td>206386.00</td>\n",
       "      <td>118289.00</td>\n",
       "      <td>13.00</td>\n",
       "      <td>1.48</td>\n",
       "      <td>0.61</td>\n",
       "      <td>0</td>\n",
       "      <td>0</td>\n",
       "      <td>1</td>\n",
       "    </tr>\n",
       "    <tr>\n",
       "      <th>11059395</th>\n",
       "      <td>2.00</td>\n",
       "      <td>4.00</td>\n",
       "      <td>8.00</td>\n",
       "      <td>1916.00</td>\n",
       "      <td>34.26</td>\n",
       "      <td>-118.50</td>\n",
       "      <td>60371114.00</td>\n",
       "      <td>12447.00</td>\n",
       "      <td>96369.00</td>\n",
       "      <td>110195.00</td>\n",
       "      <td>59100.00</td>\n",
       "      <td>58.00</td>\n",
       "      <td>1.29</td>\n",
       "      <td>0.17</td>\n",
       "      <td>1</td>\n",
       "      <td>0</td>\n",
       "      <td>1</td>\n",
       "    </tr>\n",
       "    <tr>\n",
       "      <th>12363460</th>\n",
       "      <td>2.00</td>\n",
       "      <td>2.00</td>\n",
       "      <td>8.00</td>\n",
       "      <td>1817.00</td>\n",
       "      <td>33.98</td>\n",
       "      <td>-118.21</td>\n",
       "      <td>60375332.03</td>\n",
       "      <td>39076.00</td>\n",
       "      <td>96110.00</td>\n",
       "      <td>105808.00</td>\n",
       "      <td>114896.00</td>\n",
       "      <td>70.00</td>\n",
       "      <td>1.56</td>\n",
       "      <td>0.13</td>\n",
       "      <td>0</td>\n",
       "      <td>1</td>\n",
       "      <td>1</td>\n",
       "    </tr>\n",
       "  </tbody>\n",
       "</table>\n",
       "</div>"
      ],
      "text/plain": [
       "          bathroomcnt  bedroomcnt  buildingqualitytypeid  \\\n",
       "parcelid                                                   \n",
       "12248933         2.00        4.00                   8.00   \n",
       "11110824         1.00        2.00                   6.00   \n",
       "11115676         3.00        3.00                   8.00   \n",
       "11059395         2.00        4.00                   8.00   \n",
       "12363460         2.00        2.00                   8.00   \n",
       "\n",
       "          calculatedfinishedsquarefeet  latitude  longitude  \\\n",
       "parcelid                                                      \n",
       "12248933                       1784.00     33.88    -118.30   \n",
       "11110824                        834.00     34.45    -118.50   \n",
       "11115676                       1320.00     34.44    -118.56   \n",
       "11059395                       1916.00     34.26    -118.50   \n",
       "12363460                       1817.00     33.98    -118.21   \n",
       "\n",
       "          rawcensustractandblock  regionidcity  regionidzip  \\\n",
       "parcelid                                                      \n",
       "12248933             60376031.02      45398.00     96104.00   \n",
       "11110824             60379200.20      54311.00     96373.00   \n",
       "11115676             60379201.14      54311.00     96377.00   \n",
       "11059395             60371114.00      12447.00     96369.00   \n",
       "12363460             60375332.03      39076.00     96110.00   \n",
       "\n",
       "          structuretaxvaluedollarcnt  landtaxvaluedollarcnt   age  taxrate  \\\n",
       "parcelid                                                                     \n",
       "12248933                    59212.00               46364.00 48.00     1.40   \n",
       "11110824                    60400.00              133300.00 40.00     1.48   \n",
       "11115676                   206386.00              118289.00 13.00     1.48   \n",
       "11059395                   110195.00               59100.00 58.00     1.29   \n",
       "12363460                   105808.00              114896.00 70.00     1.56   \n",
       "\n",
       "          acres  cola  hot_month_sale  has_heat  \n",
       "parcelid                                         \n",
       "12248933   0.12     0               0         1  \n",
       "11110824   3.40     0               0         1  \n",
       "11115676   0.61     0               0         1  \n",
       "11059395   0.17     1               0         1  \n",
       "12363460   0.13     0               1         1  "
      ]
     },
     "execution_count": 11,
     "metadata": {},
     "output_type": "execute_result"
    }
   ],
   "source": [
    "X_train.head()"
   ]
  },
  {
   "cell_type": "code",
   "execution_count": 12,
   "metadata": {},
   "outputs": [],
   "source": [
    "f_selector = SelectKBest(f_regression, k=5)"
   ]
  },
  {
   "cell_type": "code",
   "execution_count": 13,
   "metadata": {},
   "outputs": [],
   "source": [
    "# we are running the scaled train data through kbest\n",
    "f_selector = f_selector.fit(X_train_scaled, y_train)"
   ]
  },
  {
   "cell_type": "code",
   "execution_count": 14,
   "metadata": {},
   "outputs": [
    {
     "name": "stdout",
     "output_type": "stream",
     "text": [
      "(24509, 17)\n",
      "(24509, 5)\n"
     ]
    }
   ],
   "source": [
    "# Transforming the data\n",
    "X_train_reduced = f_selector.transform(X_train_scaled)\n",
    "print(X_train.shape)\n",
    "print(X_train_reduced.shape)"
   ]
  },
  {
   "cell_type": "code",
   "execution_count": 15,
   "metadata": {},
   "outputs": [
    {
     "data": {
      "text/plain": [
       "array([False, False, False,  True,  True, False,  True, False, False,\n",
       "       False, False,  True, False, False, False,  True, False])"
      ]
     },
     "execution_count": 15,
     "metadata": {},
     "output_type": "execute_result"
    }
   ],
   "source": [
    "f_support = f_selector.get_support()\n",
    "f_support"
   ]
  },
  {
   "cell_type": "code",
   "execution_count": 16,
   "metadata": {},
   "outputs": [
    {
     "data": {
      "text/plain": [
       "['scaled_bathroomcnt',\n",
       " 'scaled_bedroomcnt',\n",
       " 'scaled_calculatedfinishedsquarefeet',\n",
       " 'scaled_regionidzip',\n",
       " 'scaled_taxrate']"
      ]
     },
     "execution_count": 16,
     "metadata": {},
     "output_type": "execute_result"
    }
   ],
   "source": [
    "# Listing out the features so we can see which ones were returned\n",
    "f_feature = X_train_scaled.iloc[:, f_support].columns.tolist()\n",
    "f_feature"
   ]
  },
  {
   "cell_type": "code",
   "execution_count": 17,
   "metadata": {
    "scrolled": true
   },
   "outputs": [
    {
     "data": {
      "text/html": [
       "<div>\n",
       "<style scoped>\n",
       "    .dataframe tbody tr th:only-of-type {\n",
       "        vertical-align: middle;\n",
       "    }\n",
       "\n",
       "    .dataframe tbody tr th {\n",
       "        vertical-align: top;\n",
       "    }\n",
       "\n",
       "    .dataframe thead th {\n",
       "        text-align: right;\n",
       "    }\n",
       "</style>\n",
       "<table border=\"1\" class=\"dataframe\">\n",
       "  <thead>\n",
       "    <tr style=\"text-align: right;\">\n",
       "      <th></th>\n",
       "      <th>scaled_bathroomcnt</th>\n",
       "      <th>scaled_bedroomcnt</th>\n",
       "      <th>scaled_calculatedfinishedsquarefeet</th>\n",
       "      <th>scaled_regionidzip</th>\n",
       "      <th>scaled_taxrate</th>\n",
       "    </tr>\n",
       "  </thead>\n",
       "  <tbody>\n",
       "    <tr>\n",
       "      <th>12248933</th>\n",
       "      <td>0.12</td>\n",
       "      <td>0.38</td>\n",
       "      <td>0.15</td>\n",
       "      <td>0.80</td>\n",
       "      <td>0.24</td>\n",
       "    </tr>\n",
       "    <tr>\n",
       "      <th>11110824</th>\n",
       "      <td>0.00</td>\n",
       "      <td>0.12</td>\n",
       "      <td>0.05</td>\n",
       "      <td>0.85</td>\n",
       "      <td>0.25</td>\n",
       "    </tr>\n",
       "    <tr>\n",
       "      <th>11115676</th>\n",
       "      <td>0.25</td>\n",
       "      <td>0.25</td>\n",
       "      <td>0.10</td>\n",
       "      <td>0.85</td>\n",
       "      <td>0.25</td>\n",
       "    </tr>\n",
       "    <tr>\n",
       "      <th>11059395</th>\n",
       "      <td>0.12</td>\n",
       "      <td>0.38</td>\n",
       "      <td>0.16</td>\n",
       "      <td>0.85</td>\n",
       "      <td>0.22</td>\n",
       "    </tr>\n",
       "    <tr>\n",
       "      <th>12363460</th>\n",
       "      <td>0.12</td>\n",
       "      <td>0.12</td>\n",
       "      <td>0.15</td>\n",
       "      <td>0.81</td>\n",
       "      <td>0.27</td>\n",
       "    </tr>\n",
       "  </tbody>\n",
       "</table>\n",
       "</div>"
      ],
      "text/plain": [
       "          scaled_bathroomcnt  scaled_bedroomcnt  \\\n",
       "12248933                0.12               0.38   \n",
       "11110824                0.00               0.12   \n",
       "11115676                0.25               0.25   \n",
       "11059395                0.12               0.38   \n",
       "12363460                0.12               0.12   \n",
       "\n",
       "          scaled_calculatedfinishedsquarefeet  scaled_regionidzip  \\\n",
       "12248933                                 0.15                0.80   \n",
       "11110824                                 0.05                0.85   \n",
       "11115676                                 0.10                0.85   \n",
       "11059395                                 0.16                0.85   \n",
       "12363460                                 0.15                0.81   \n",
       "\n",
       "          scaled_taxrate  \n",
       "12248933            0.24  \n",
       "11110824            0.25  \n",
       "11115676            0.25  \n",
       "11059395            0.22  \n",
       "12363460            0.27  "
      ]
     },
     "execution_count": 17,
     "metadata": {},
     "output_type": "execute_result"
    }
   ],
   "source": [
    "# Returning a scaled dataframe with only our best features\n",
    "# X_reduced_scaled = X_train_scaled.iloc[:, f_support]\n",
    "# X_reduced_scaled.head()"
   ]
  },
  {
   "cell_type": "markdown",
   "metadata": {},
   "source": [
    "### Baseline Model"
   ]
  },
  {
   "cell_type": "code",
   "execution_count": 18,
   "metadata": {},
   "outputs": [],
   "source": [
    "# We need y_train and y_validate to be dataframes to append the new columns with predicted values. \n",
    "y_train = pd.DataFrame(y_train)\n",
    "y_validate = pd.DataFrame(y_validate)\n",
    "y_test = pd.DataFrame(y_test)\n",
    "X_test = pd.DataFrame(X_test)\n",
    "\n",
    "# 1. Predict logerror_pred_mean\n",
    "logerror_pred_mean = y_train['logerror'].mean()\n",
    "y_train['logerror_pred_mean'] = logerror_pred_mean\n",
    "y_validate['logerror_pred_mean'] = logerror_pred_mean\n",
    "y_test['logerror_pred_mean'] = logerror_pred_mean\n",
    "\n",
    "# 2. compute logerror_pred_median\n",
    "logerror_pred_median = y_train['logerror'].median()\n",
    "y_train['logerror_pred_median'] = logerror_pred_median\n",
    "y_validate['logerror_pred_median'] = logerror_pred_median\n",
    "y_test['logerror_pred_median'] = logerror_pred_median"
   ]
  },
  {
   "cell_type": "code",
   "execution_count": 19,
   "metadata": {},
   "outputs": [
    {
     "data": {
      "text/plain": [
       "{'sse': 607.3551778444731,\n",
       " 'mse': 0.02478090406970799,\n",
       " 'rmse': 0.15741951616527092}"
      ]
     },
     "execution_count": 19,
     "metadata": {},
     "output_type": "execute_result"
    }
   ],
   "source": [
    "#Evaluate the baseline model using the mean\n",
    "evaluate.baseline_mean_errors(y_train.logerror)"
   ]
  },
  {
   "cell_type": "code",
   "execution_count": 20,
   "metadata": {},
   "outputs": [
    {
     "data": {
      "text/plain": [
       "{'sse': 609.1125597961818,\n",
       " 'mse': 0.02485260760521367,\n",
       " 'rmse': 0.15764709830889267}"
      ]
     },
     "execution_count": 20,
     "metadata": {},
     "output_type": "execute_result"
    }
   ],
   "source": [
    "#Evaluate the baseline model using the median\n",
    "evaluate.baseline_median_errors(y_train.logerror)"
   ]
  },
  {
   "cell_type": "code",
   "execution_count": 21,
   "metadata": {},
   "outputs": [
    {
     "data": {
      "image/png": "[encoded data removed]",
      "text/plain": [
       "<Figure size 720x576 with 1 Axes>"
      ]
     },
     "metadata": {
      "needs_background": "light"
     },
     "output_type": "display_data"
    }
   ],
   "source": [
    "# plot to visualize actual vs predicted. \n",
    "plt.figure(figsize=(10, 8))\n",
    "plt.hist(y_train.logerror, color='orange', alpha=.5, label=\"Actual Log Error\", log=True)\n",
    "plt.vlines(y_train.logerror.mean(), 0, 10**5,  ls='--', color='blue', label=\"Predicted Log Error - Mean\")\n",
    "plt.vlines(y_train.logerror.median(), 0, 10**5,  ls='--', color='purple', label=\"Predicted Log Error - Median\")\n",
    "plt.legend()\n",
    "plt.show()"
   ]
  },
  {
   "cell_type": "code",
   "execution_count": 22,
   "metadata": {},
   "outputs": [
    {
     "data": {
      "text/html": [
       "<div>\n",
       "<style scoped>\n",
       "    .dataframe tbody tr th:only-of-type {\n",
       "        vertical-align: middle;\n",
       "    }\n",
       "\n",
       "    .dataframe tbody tr th {\n",
       "        vertical-align: top;\n",
       "    }\n",
       "\n",
       "    .dataframe thead th {\n",
       "        text-align: right;\n",
       "    }\n",
       "</style>\n",
       "<table border=\"1\" class=\"dataframe\">\n",
       "  <thead>\n",
       "    <tr style=\"text-align: right;\">\n",
       "      <th></th>\n",
       "      <th>logerror</th>\n",
       "      <th>logerror_pred_mean</th>\n",
       "    </tr>\n",
       "    <tr>\n",
       "      <th>parcelid</th>\n",
       "      <th></th>\n",
       "      <th></th>\n",
       "    </tr>\n",
       "  </thead>\n",
       "  <tbody>\n",
       "    <tr>\n",
       "      <th>12248933</th>\n",
       "      <td>-0.05</td>\n",
       "      <td>0.02</td>\n",
       "    </tr>\n",
       "    <tr>\n",
       "      <th>11110824</th>\n",
       "      <td>0.41</td>\n",
       "      <td>0.02</td>\n",
       "    </tr>\n",
       "    <tr>\n",
       "      <th>11115676</th>\n",
       "      <td>-0.06</td>\n",
       "      <td>0.02</td>\n",
       "    </tr>\n",
       "    <tr>\n",
       "      <th>11059395</th>\n",
       "      <td>0.01</td>\n",
       "      <td>0.02</td>\n",
       "    </tr>\n",
       "    <tr>\n",
       "      <th>12363460</th>\n",
       "      <td>-0.15</td>\n",
       "      <td>0.02</td>\n",
       "    </tr>\n",
       "  </tbody>\n",
       "</table>\n",
       "</div>"
      ],
      "text/plain": [
       "          logerror  logerror_pred_mean\n",
       "parcelid                              \n",
       "12248933     -0.05                0.02\n",
       "11110824      0.41                0.02\n",
       "11115676     -0.06                0.02\n",
       "11059395      0.01                0.02\n",
       "12363460     -0.15                0.02"
      ]
     },
     "execution_count": 22,
     "metadata": {},
     "output_type": "execute_result"
    }
   ],
   "source": [
    "#Now that I have established the mean as the baseline, I will drop the median and rename baseline to yhat_baseline\n",
    "y_train.drop(columns={'logerror_pred_median'}, inplace=True)\n",
    "y_validate.drop(columns={'logerror_pred_median'}, inplace=True)\n",
    "y_test.drop(columns={'logerror_pred_median'}, inplace=True)\n",
    "y_train.head()"
   ]
  },
  {
   "cell_type": "code",
   "execution_count": 23,
   "metadata": {},
   "outputs": [
    {
     "data": {
      "text/html": [
       "<div>\n",
       "<style scoped>\n",
       "    .dataframe tbody tr th:only-of-type {\n",
       "        vertical-align: middle;\n",
       "    }\n",
       "\n",
       "    .dataframe tbody tr th {\n",
       "        vertical-align: top;\n",
       "    }\n",
       "\n",
       "    .dataframe thead th {\n",
       "        text-align: right;\n",
       "    }\n",
       "</style>\n",
       "<table border=\"1\" class=\"dataframe\">\n",
       "  <thead>\n",
       "    <tr style=\"text-align: right;\">\n",
       "      <th></th>\n",
       "      <th>logerror</th>\n",
       "      <th>yhat_baseline</th>\n",
       "    </tr>\n",
       "    <tr>\n",
       "      <th>parcelid</th>\n",
       "      <th></th>\n",
       "      <th></th>\n",
       "    </tr>\n",
       "  </thead>\n",
       "  <tbody>\n",
       "    <tr>\n",
       "      <th>12248933</th>\n",
       "      <td>-0.05</td>\n",
       "      <td>0.02</td>\n",
       "    </tr>\n",
       "    <tr>\n",
       "      <th>11110824</th>\n",
       "      <td>0.41</td>\n",
       "      <td>0.02</td>\n",
       "    </tr>\n",
       "    <tr>\n",
       "      <th>11115676</th>\n",
       "      <td>-0.06</td>\n",
       "      <td>0.02</td>\n",
       "    </tr>\n",
       "    <tr>\n",
       "      <th>11059395</th>\n",
       "      <td>0.01</td>\n",
       "      <td>0.02</td>\n",
       "    </tr>\n",
       "    <tr>\n",
       "      <th>12363460</th>\n",
       "      <td>-0.15</td>\n",
       "      <td>0.02</td>\n",
       "    </tr>\n",
       "  </tbody>\n",
       "</table>\n",
       "</div>"
      ],
      "text/plain": [
       "          logerror  yhat_baseline\n",
       "parcelid                         \n",
       "12248933     -0.05           0.02\n",
       "11110824      0.41           0.02\n",
       "11115676     -0.06           0.02\n",
       "11059395      0.01           0.02\n",
       "12363460     -0.15           0.02"
      ]
     },
     "execution_count": 23,
     "metadata": {},
     "output_type": "execute_result"
    }
   ],
   "source": [
    "y_train.rename(columns={'logerror_pred_mean': 'yhat_baseline'}, inplace=True)\n",
    "y_validate.rename(columns={'logerror_pred_mean': 'yhat_baseline'}, inplace=True)\n",
    "y_test.rename(columns={'logerror_pred_mean': 'yhat_baseline'}, inplace=True)\n",
    "y_train.head()"
   ]
  },
  {
   "cell_type": "markdown",
   "metadata": {},
   "source": [
    "### LinearRegression (OLS) Model"
   ]
  },
  {
   "cell_type": "code",
   "execution_count": 24,
   "metadata": {},
   "outputs": [
    {
     "data": {
      "image/png": "[encoded data removed]",
      "text/plain": [
       "<Figure size 432x288 with 1 Axes>"
      ]
     },
     "metadata": {
      "needs_background": "light"
     },
     "output_type": "display_data"
    },
    {
     "data": {
      "text/plain": [
       "sse    605.89\n",
       "ess      1.47\n",
       "tss    607.36\n",
       "mse      0.02\n",
       "rmse     0.16\n",
       "r^2      0.00\n",
       "dtype: float64"
      ]
     },
     "execution_count": 24,
     "metadata": {},
     "output_type": "execute_result"
    }
   ],
   "source": [
    "# create the model object\n",
    "lm = LinearRegression(normalize=True)\n",
    "\n",
    "# fit the model to our training data. We must specify the column in y_train, \n",
    "# since we have converted it to a dataframe from a series! \n",
    "lm.fit(X_train_scaled[['scaled_bathroomcnt',\n",
    " 'scaled_bedroomcnt',\n",
    " 'scaled_calculatedfinishedsquarefeet',\n",
    " 'scaled_regionidzip',\n",
    " 'scaled_taxrate']], y_train.logerror)\n",
    "\n",
    "# predict train\n",
    "y_train['yhat_lm'] = lm.predict(X_train_scaled[['scaled_bathroomcnt',\n",
    " 'scaled_bedroomcnt',\n",
    " 'scaled_calculatedfinishedsquarefeet',\n",
    " 'scaled_regionidzip',\n",
    " 'scaled_taxrate']])\n",
    "\n",
    "# compute residuals\n",
    "y_train['residual'] = y_train['yhat_lm'] - y_train['logerror']\n",
    "y_train['baseline_residual'] = y_train['yhat_baseline'] - y_train['logerror']\n",
    "\n",
    "#Use evaluate model to visualize the residuals\n",
    "evaluate.plot_residuals(y_train.logerror, y_train.yhat_lm)\n",
    "\n",
    "#Retrieve evaluation metrics for Linear Regression Model on in-sample data\n",
    "evaluate.regression_errors(y_train.logerror, y_train.yhat_lm)"
   ]
  },
  {
   "cell_type": "markdown",
   "metadata": {},
   "source": [
    "### TweedieRegressor (GLM) Model"
   ]
  },
  {
   "cell_type": "code",
   "execution_count": 47,
   "metadata": {},
   "outputs": [
    {
     "data": {
      "image/png": "[encoded data removed]",
      "text/plain": [
       "<Figure size 432x288 with 1 Axes>"
      ]
     },
     "metadata": {
      "needs_background": "light"
     },
     "output_type": "display_data"
    },
    {
     "data": {
      "text/plain": [
       "sse    68.62\n",
       "ess     0.14\n",
       "tss    68.75\n",
       "mse     0.02\n",
       "rmse    0.15\n",
       "r^2     0.00\n",
       "dtype: float64"
      ]
     },
     "execution_count": 47,
     "metadata": {},
     "output_type": "execute_result"
    }
   ],
   "source": [
    "# create the model object\n",
    "glm = TweedieRegressor(power=0, alpha=0)\n",
    "\n",
    "# fit the model to our training data. We must specify the column in y_train, \n",
    "# since we have converted it to a dataframe from a series! \n",
    "glm.fit(X_train_scaled[['scaled_bathroomcnt',\n",
    " 'scaled_bedroomcnt',\n",
    " 'scaled_calculatedfinishedsquarefeet',\n",
    " 'scaled_regionidzip',\n",
    " 'scaled_taxrate']], y_train.logerror)\n",
    "\n",
    "# predict train\n",
    "y_train['yhat_glm'] = glm.predict(X_train_scaled[['scaled_bathroomcnt',\n",
    " 'scaled_bedroomcnt',\n",
    " 'scaled_calculatedfinishedsquarefeet',\n",
    " 'scaled_regionidzip',\n",
    " 'scaled_taxrate']])\n",
    "\n",
    "#Use evaluate model to visualize the residuals\n",
    "evaluate.plot_residuals(y_train.logerror, y_train.yhat_glm)\n",
    "\n",
    "#How does the GLM model perform on in-sample data?\n",
    "evaluate.regression_errors(y_train.logerror, y_train.yhat_glm)"
   ]
  },
  {
   "cell_type": "markdown",
   "metadata": {},
   "source": [
    "### LassoLars"
   ]
  },
  {
   "cell_type": "code",
   "execution_count": 48,
   "metadata": {},
   "outputs": [
    {
     "data": {
      "image/png": "[encoded data removed]",
      "text/plain": [
       "<Figure size 432x288 with 1 Axes>"
      ]
     },
     "metadata": {
      "needs_background": "light"
     },
     "output_type": "display_data"
    },
    {
     "data": {
      "text/plain": [
       "sse    68.75\n",
       "ess     0.00\n",
       "tss    68.75\n",
       "mse     0.02\n",
       "rmse    0.15\n",
       "r^2     0.00\n",
       "dtype: float64"
      ]
     },
     "execution_count": 48,
     "metadata": {},
     "output_type": "execute_result"
    }
   ],
   "source": [
    "# create the model object\n",
    "lars = LassoLars(alpha=1.0)\n",
    "\n",
    "# fit the model to our training data. We must specify the column in y_train, \n",
    "# since we have converted it to a dataframe from a series! \n",
    "lars.fit(X_train_scaled[['scaled_bathroomcnt',\n",
    " 'scaled_bedroomcnt',\n",
    " 'scaled_calculatedfinishedsquarefeet',\n",
    " 'scaled_regionidzip',\n",
    " 'scaled_taxrate']], y_train.logerror)\n",
    "\n",
    "# predict train\n",
    "y_train['yhat_lars'] = lars.predict(X_train_scaled[['scaled_bathroomcnt',\n",
    " 'scaled_bedroomcnt',\n",
    " 'scaled_calculatedfinishedsquarefeet',\n",
    " 'scaled_regionidzip',\n",
    " 'scaled_taxrate']])\n",
    "\n",
    "#Use evaluate model to visualize the residuals\n",
    "evaluate.plot_residuals(y_train.logerror, y_train.yhat_lars)\n",
    "\n",
    "#Retrieve evaluation metrics for Lasso + Lars Model on in-sample data\n",
    "evaluate.regression_errors(y_train.logerror, y_train.yhat_lars)"
   ]
  },
  {
   "cell_type": "code",
   "execution_count": null,
   "metadata": {},
   "outputs": [],
   "source": []
  }
 ],
 "metadata": {
  "kernelspec": {
   "display_name": "Python 3",
   "language": "python",
   "name": "python3"
  },
  "language_info": {
   "codemirror_mode": {
    "name": "ipython",
    "version": 3
   },
   "file_extension": ".py",
   "mimetype": "text/x-python",
   "name": "python",
   "nbconvert_exporter": "python",
   "pygments_lexer": "ipython3",
   "version": "3.8.5"
  }
 },
 "nbformat": 4,
 "nbformat_minor": 4
}
