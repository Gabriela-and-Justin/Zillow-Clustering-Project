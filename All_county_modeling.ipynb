{
 "cells": [
  {
   "cell_type": "markdown",
   "metadata": {},
   "source": [
    "# Modeling For All Counties (LA, Orange, Ventura)"
   ]
  },
  {
   "cell_type": "code",
   "execution_count": 1,
   "metadata": {},
   "outputs": [],
   "source": [
    "import warnings\n",
    "warnings.filterwarnings(\"ignore\")\n",
    "\n",
    "#Imports\n",
    "import pandas as pd\n",
    "import matplotlib.pyplot as plt\n",
    "import seaborn as sns\n",
    "import numpy as np\n",
    "from scipy import stats\n",
    "import math\n",
    "\n",
    "#Visualizing\n",
    "import matplotlib.pyplot as plt\n",
    "import seaborn as sns\n",
    "\n",
    "# default pandas decimal number display format\n",
    "pd.options.display.float_format = '{:.2f}'.format\n",
    "\n",
    "#Acquire\n",
    "from env import host, user, password \n",
    "import os\n",
    "import acquire\n",
    "\n",
    "#Prepare\n",
    "import prepare\n",
    "\n",
    "#SKLearn\n",
    "from sklearn.model_selection import train_test_split\n",
    "from sklearn.preprocessing import StandardScaler\n",
    "from sklearn.cluster import KMeans\n",
    "from sklearn.preprocessing import MinMaxScaler, RobustScaler\n",
    "from sklearn.feature_selection import SelectKBest, f_regression\n",
    "from sklearn.linear_model import LinearRegression\n",
    "from sklearn.metrics import mean_squared_error\n",
    "from sklearn.linear_model import LinearRegression, LassoLars, TweedieRegressor\n",
    "from sklearn.preprocessing import PolynomialFeatures\n",
    "from sklearn.feature_selection import RFE\n",
    "\n",
    "\n",
    "#Exploring\n",
    "import explore\n",
    "\n",
    "#Evaluate\n",
    "import evaluate"
   ]
  },
  {
   "cell_type": "markdown",
   "metadata": {},
   "source": [
    "## Data Acquisition"
   ]
  },
  {
   "cell_type": "code",
   "execution_count": 2,
   "metadata": {},
   "outputs": [
    {
     "data": {
      "text/html": [
       "<div>\n",
       "<style scoped>\n",
       "    .dataframe tbody tr th:only-of-type {\n",
       "        vertical-align: middle;\n",
       "    }\n",
       "\n",
       "    .dataframe tbody tr th {\n",
       "        vertical-align: top;\n",
       "    }\n",
       "\n",
       "    .dataframe thead th {\n",
       "        text-align: right;\n",
       "    }\n",
       "</style>\n",
       "<table border=\"1\" class=\"dataframe\">\n",
       "  <thead>\n",
       "    <tr style=\"text-align: right;\">\n",
       "      <th></th>\n",
       "      <th>typeconstructiontypeid</th>\n",
       "      <th>storytypeid</th>\n",
       "      <th>heatingorsystemtypeid</th>\n",
       "      <th>buildingclasstypeid</th>\n",
       "      <th>architecturalstyletypeid</th>\n",
       "      <th>airconditioningtypeid</th>\n",
       "      <th>parcelid</th>\n",
       "      <th>id</th>\n",
       "      <th>basementsqft</th>\n",
       "      <th>bathroomcnt</th>\n",
       "      <th>...</th>\n",
       "      <th>taxdelinquencyyear</th>\n",
       "      <th>censustractandblock</th>\n",
       "      <th>logerror</th>\n",
       "      <th>transactiondate</th>\n",
       "      <th>airconditioningdesc</th>\n",
       "      <th>architecturalstyledesc</th>\n",
       "      <th>buildingclassdesc</th>\n",
       "      <th>heatingorsystemdesc</th>\n",
       "      <th>storydesc</th>\n",
       "      <th>typeconstructiondesc</th>\n",
       "    </tr>\n",
       "  </thead>\n",
       "  <tbody>\n",
       "    <tr>\n",
       "      <th>0</th>\n",
       "      <td>nan</td>\n",
       "      <td>nan</td>\n",
       "      <td>2.00</td>\n",
       "      <td>nan</td>\n",
       "      <td>nan</td>\n",
       "      <td>nan</td>\n",
       "      <td>10711855</td>\n",
       "      <td>1087254</td>\n",
       "      <td>nan</td>\n",
       "      <td>2.00</td>\n",
       "      <td>...</td>\n",
       "      <td>nan</td>\n",
       "      <td>60371132321007.00</td>\n",
       "      <td>-0.01</td>\n",
       "      <td>2017-07-07</td>\n",
       "      <td>NaN</td>\n",
       "      <td>NaN</td>\n",
       "      <td>NaN</td>\n",
       "      <td>Central</td>\n",
       "      <td>NaN</td>\n",
       "      <td>NaN</td>\n",
       "    </tr>\n",
       "    <tr>\n",
       "      <th>1</th>\n",
       "      <td>nan</td>\n",
       "      <td>nan</td>\n",
       "      <td>2.00</td>\n",
       "      <td>nan</td>\n",
       "      <td>nan</td>\n",
       "      <td>1.00</td>\n",
       "      <td>10711877</td>\n",
       "      <td>1072280</td>\n",
       "      <td>nan</td>\n",
       "      <td>2.00</td>\n",
       "      <td>...</td>\n",
       "      <td>nan</td>\n",
       "      <td>60371132321007.00</td>\n",
       "      <td>0.02</td>\n",
       "      <td>2017-08-29</td>\n",
       "      <td>Central</td>\n",
       "      <td>NaN</td>\n",
       "      <td>NaN</td>\n",
       "      <td>Central</td>\n",
       "      <td>NaN</td>\n",
       "      <td>NaN</td>\n",
       "    </tr>\n",
       "    <tr>\n",
       "      <th>2</th>\n",
       "      <td>nan</td>\n",
       "      <td>nan</td>\n",
       "      <td>2.00</td>\n",
       "      <td>nan</td>\n",
       "      <td>nan</td>\n",
       "      <td>1.00</td>\n",
       "      <td>10711888</td>\n",
       "      <td>1340933</td>\n",
       "      <td>nan</td>\n",
       "      <td>2.00</td>\n",
       "      <td>...</td>\n",
       "      <td>nan</td>\n",
       "      <td>60371132321007.00</td>\n",
       "      <td>0.08</td>\n",
       "      <td>2017-04-04</td>\n",
       "      <td>Central</td>\n",
       "      <td>NaN</td>\n",
       "      <td>NaN</td>\n",
       "      <td>Central</td>\n",
       "      <td>NaN</td>\n",
       "      <td>NaN</td>\n",
       "    </tr>\n",
       "    <tr>\n",
       "      <th>3</th>\n",
       "      <td>nan</td>\n",
       "      <td>nan</td>\n",
       "      <td>2.00</td>\n",
       "      <td>nan</td>\n",
       "      <td>nan</td>\n",
       "      <td>nan</td>\n",
       "      <td>10711910</td>\n",
       "      <td>1878109</td>\n",
       "      <td>nan</td>\n",
       "      <td>2.00</td>\n",
       "      <td>...</td>\n",
       "      <td>nan</td>\n",
       "      <td>60371132321008.00</td>\n",
       "      <td>-0.04</td>\n",
       "      <td>2017-03-17</td>\n",
       "      <td>NaN</td>\n",
       "      <td>NaN</td>\n",
       "      <td>NaN</td>\n",
       "      <td>Central</td>\n",
       "      <td>NaN</td>\n",
       "      <td>NaN</td>\n",
       "    </tr>\n",
       "    <tr>\n",
       "      <th>4</th>\n",
       "      <td>nan</td>\n",
       "      <td>nan</td>\n",
       "      <td>2.00</td>\n",
       "      <td>nan</td>\n",
       "      <td>nan</td>\n",
       "      <td>nan</td>\n",
       "      <td>10711923</td>\n",
       "      <td>2190858</td>\n",
       "      <td>nan</td>\n",
       "      <td>2.00</td>\n",
       "      <td>...</td>\n",
       "      <td>nan</td>\n",
       "      <td>60371132321008.00</td>\n",
       "      <td>-0.01</td>\n",
       "      <td>2017-03-24</td>\n",
       "      <td>NaN</td>\n",
       "      <td>NaN</td>\n",
       "      <td>NaN</td>\n",
       "      <td>Central</td>\n",
       "      <td>NaN</td>\n",
       "      <td>NaN</td>\n",
       "    </tr>\n",
       "  </tbody>\n",
       "</table>\n",
       "<p>5 rows × 67 columns</p>\n",
       "</div>"
      ],
      "text/plain": [
       "   typeconstructiontypeid  storytypeid  heatingorsystemtypeid  \\\n",
       "0                     nan          nan                   2.00   \n",
       "1                     nan          nan                   2.00   \n",
       "2                     nan          nan                   2.00   \n",
       "3                     nan          nan                   2.00   \n",
       "4                     nan          nan                   2.00   \n",
       "\n",
       "   buildingclasstypeid  architecturalstyletypeid  airconditioningtypeid  \\\n",
       "0                  nan                       nan                    nan   \n",
       "1                  nan                       nan                   1.00   \n",
       "2                  nan                       nan                   1.00   \n",
       "3                  nan                       nan                    nan   \n",
       "4                  nan                       nan                    nan   \n",
       "\n",
       "   parcelid       id  basementsqft  bathroomcnt  ...  taxdelinquencyyear  \\\n",
       "0  10711855  1087254           nan         2.00  ...                 nan   \n",
       "1  10711877  1072280           nan         2.00  ...                 nan   \n",
       "2  10711888  1340933           nan         2.00  ...                 nan   \n",
       "3  10711910  1878109           nan         2.00  ...                 nan   \n",
       "4  10711923  2190858           nan         2.00  ...                 nan   \n",
       "\n",
       "   censustractandblock  logerror  transactiondate  airconditioningdesc  \\\n",
       "0    60371132321007.00     -0.01       2017-07-07                  NaN   \n",
       "1    60371132321007.00      0.02       2017-08-29              Central   \n",
       "2    60371132321007.00      0.08       2017-04-04              Central   \n",
       "3    60371132321008.00     -0.04       2017-03-17                  NaN   \n",
       "4    60371132321008.00     -0.01       2017-03-24                  NaN   \n",
       "\n",
       "   architecturalstyledesc  buildingclassdesc  heatingorsystemdesc  storydesc  \\\n",
       "0                     NaN                NaN              Central        NaN   \n",
       "1                     NaN                NaN              Central        NaN   \n",
       "2                     NaN                NaN              Central        NaN   \n",
       "3                     NaN                NaN              Central        NaN   \n",
       "4                     NaN                NaN              Central        NaN   \n",
       "\n",
       "   typeconstructiondesc  \n",
       "0                   NaN  \n",
       "1                   NaN  \n",
       "2                   NaN  \n",
       "3                   NaN  \n",
       "4                   NaN  \n",
       "\n",
       "[5 rows x 67 columns]"
      ]
     },
     "execution_count": 2,
     "metadata": {},
     "output_type": "execute_result"
    }
   ],
   "source": [
    "df = acquire.get_zillow_data(cached=True)\n",
    "df.head()"
   ]
  },
  {
   "cell_type": "markdown",
   "metadata": {},
   "source": [
    "## Data Preparation"
   ]
  },
  {
   "cell_type": "code",
   "execution_count": 3,
   "metadata": {},
   "outputs": [
    {
     "data": {
      "text/plain": [
       "(69305, 21)"
      ]
     },
     "execution_count": 3,
     "metadata": {},
     "output_type": "execute_result"
    }
   ],
   "source": [
    "#Prepare the data using wrangle zillow 2\n",
    "df = prepare.wrangle_zillow_2nd()\n",
    "df.shape"
   ]
  },
  {
   "cell_type": "markdown",
   "metadata": {},
   "source": [
    "## Data Exploration\n",
    "(In main Notebook)"
   ]
  },
  {
   "cell_type": "markdown",
   "metadata": {},
   "source": [
    "## Feature Engineering: SelectKBest**"
   ]
  },
  {
   "cell_type": "code",
   "execution_count": 4,
   "metadata": {},
   "outputs": [],
   "source": [
    "#Split the Data\n",
    "partitions = explore.split(df, target_var='logerror')\n",
    "train = partitions[0]\n",
    "partitions[0] = train"
   ]
  },
  {
   "cell_type": "code",
   "execution_count": 5,
   "metadata": {},
   "outputs": [],
   "source": [
    "# the variables that need scaling\n",
    "scaled_vars = ['bathroomcnt', 'bedroomcnt', 'buildingqualitytypeid',\n",
    "       'calculatedfinishedsquarefeet', 'latitude', 'longitude',\n",
    "       'rawcensustractandblock', 'regionidcity', 'regionidzip',\n",
    "       'structuretaxvaluedollarcnt', 'landtaxvaluedollarcnt',\n",
    "       'age', 'taxrate', 'acres']\n",
    "\n",
    "# create new column names for the scaled variables by adding 'scaled_' to the beginning of each variable name \n",
    "scaled_column_names = ['scaled_' + i for i in scaled_vars]\n",
    "\n",
    "# select the X partitions: [X_train, X_validate, X_test]\n",
    "X = partitions[1:4]\n",
    "\n",
    "# fit the minmaxscaler to X_train\n",
    "X_train = X[0]\n",
    "scaler = MinMaxScaler(copy=True).fit(X_train[scaled_vars])\n",
    "\n",
    "def scale_and_concat(df):\n",
    "    scaled_array = scaler.transform(df[scaled_vars])\n",
    "    scaled_df = pd.DataFrame(scaled_array, columns=scaled_column_names, index=df.index.values)\n",
    "    return pd.concat((df, scaled_df), axis=1)\n",
    "for i in range(len(X)):\n",
    "    X[i] = scale_and_concat(X[i])"
   ]
  },
  {
   "cell_type": "code",
   "execution_count": 6,
   "metadata": {},
   "outputs": [],
   "source": [
    "#Define the other dataframes from partitions\n",
    "X_validate = partitions[2]\n",
    "X_test = partitions[3]\n",
    "y_train = partitions[4]\n",
    "y_validate = partitions[5] \n",
    "y_test = partitions[6]"
   ]
  },
  {
   "cell_type": "code",
   "execution_count": 7,
   "metadata": {},
   "outputs": [],
   "source": [
    "X_train_scaled = X[0][['cola', 'hot_month_sale', 'has_heat', 'scaled_bathroomcnt',\n",
    "       'scaled_bedroomcnt', 'scaled_buildingqualitytypeid',\n",
    "       'scaled_calculatedfinishedsquarefeet', 'scaled_latitude',\n",
    "       'scaled_longitude', 'scaled_rawcensustractandblock',\n",
    "       'scaled_regionidcity', 'scaled_regionidzip',\n",
    "       'scaled_structuretaxvaluedollarcnt', 'scaled_landtaxvaluedollarcnt',\n",
    "       'scaled_age', 'scaled_taxrate', 'scaled_acres']]"
   ]
  },
  {
   "cell_type": "code",
   "execution_count": 8,
   "metadata": {},
   "outputs": [
    {
     "data": {
      "text/plain": [
       "['cola',\n",
       " 'scaled_bathroomcnt',\n",
       " 'scaled_bedroomcnt',\n",
       " 'scaled_calculatedfinishedsquarefeet',\n",
       " 'scaled_regionidzip']"
      ]
     },
     "execution_count": 8,
     "metadata": {},
     "output_type": "execute_result"
    }
   ],
   "source": [
    "#Create the kbest object\n",
    "f_selector = SelectKBest(f_regression, k=5)\n",
    "\n",
    "#Fit the kbest oject to the training data\n",
    "f_selector = f_selector.fit(X_train_scaled, y_train)\n",
    "\n",
    "#Return top 5 features\n",
    "\n",
    "f_support = f_selector.get_support()\n",
    "f_feature = X_train_scaled.iloc[:, f_support].columns.tolist()\n",
    "f_feature"
   ]
  },
  {
   "cell_type": "markdown",
   "metadata": {},
   "source": [
    "## Modeling"
   ]
  },
  {
   "cell_type": "markdown",
   "metadata": {},
   "source": [
    "### Baseline Model"
   ]
  },
  {
   "cell_type": "code",
   "execution_count": 9,
   "metadata": {},
   "outputs": [
    {
     "data": {
      "text/plain": [
       "{'sse': 1065.2095152084285,\n",
       " 'mse': 0.02744677957249236,\n",
       " 'rmse': 0.16567069617917454}"
      ]
     },
     "execution_count": 9,
     "metadata": {},
     "output_type": "execute_result"
    }
   ],
   "source": [
    "# 1. Predict logerror_pred_mean\n",
    "logerror_pred_mean = y_train['logerror'].mean()\n",
    "y_train['logerror_pred_mean'] = logerror_pred_mean\n",
    "\n",
    "#Evaluate the baseline model using the mean\n",
    "evaluate.baseline_mean_errors(y_train.logerror)"
   ]
  },
  {
   "cell_type": "code",
   "execution_count": 10,
   "metadata": {},
   "outputs": [
    {
     "data": {
      "text/plain": [
       "{'sse': 1069.7223934852557,\n",
       " 'mse': 0.02756306089887286,\n",
       " 'rmse': 0.16602126640546042}"
      ]
     },
     "execution_count": 10,
     "metadata": {},
     "output_type": "execute_result"
    }
   ],
   "source": [
    "# 2. compute logerror_pred_median\n",
    "logerror_pred_median = y_train['logerror'].median()\n",
    "y_train['logerror_pred_median'] = logerror_pred_median\n",
    "\n",
    "#Evaluate the baseline model using the median\n",
    "evaluate.baseline_median_errors(y_train.logerror)"
   ]
  },
  {
   "cell_type": "markdown",
   "metadata": {},
   "source": [
    "**Takeaways:**<br>\n",
    "    - The Mean Baseline Model peforms better than the Median Baseline Model<br>\n",
    "    - The Mean Baseline Model is what we will move forward with as a metric for comparing our models"
   ]
  },
  {
   "cell_type": "code",
   "execution_count": 11,
   "metadata": {},
   "outputs": [],
   "source": [
    "#Now that I have established the mean as the baseline, I will drop the median and rename baseline to yhat_baseline\n",
    "y_train.drop(columns={'logerror_pred_median'}, inplace=True)\n",
    "\n",
    "y_train.rename(columns={'logerror_pred_mean': 'yhat_baseline'}, inplace=True)"
   ]
  },
  {
   "cell_type": "markdown",
   "metadata": {},
   "source": [
    "## Linear Regression Model"
   ]
  },
  {
   "cell_type": "code",
   "execution_count": 12,
   "metadata": {},
   "outputs": [
    {
     "data": {
      "image/png": "[encoded data removed]",
      "text/plain": [
       "<Figure size 432x288 with 1 Axes>"
      ]
     },
     "metadata": {
      "needs_background": "light"
     },
     "output_type": "display_data"
    },
    {
     "data": {
      "text/plain": [
       "sse    1062.31\n",
       "ess       2.90\n",
       "tss    1065.21\n",
       "mse       0.03\n",
       "rmse      0.17\n",
       "r^2       0.00\n",
       "dtype: float64"
      ]
     },
     "execution_count": 12,
     "metadata": {},
     "output_type": "execute_result"
    }
   ],
   "source": [
    "# create the model object\n",
    "lm = LinearRegression(normalize=True)\n",
    "\n",
    "# fit the model to our training data. We must specify the column in y_train, \n",
    "# since we have converted it to a dataframe from a series! \n",
    "lm.fit(X_train_scaled[['cola',\n",
    " 'scaled_bathroomcnt',\n",
    " 'scaled_bedroomcnt',\n",
    " 'scaled_calculatedfinishedsquarefeet',\n",
    " 'scaled_regionidzip']], y_train.logerror)\n",
    "\n",
    "# predict train\n",
    "y_train['yhat_lm'] = lm.predict(X_train_scaled[['cola',\n",
    " 'scaled_bathroomcnt',\n",
    " 'scaled_bedroomcnt',\n",
    " 'scaled_calculatedfinishedsquarefeet',\n",
    " 'scaled_regionidzip']])\n",
    "\n",
    "# compute residuals\n",
    "y_train['residual'] = y_train['yhat_lm'] - y_train['logerror']\n",
    "y_train['baseline_residual'] = y_train['yhat_baseline'] - y_train['logerror']\n",
    "\n",
    "#Use evaluate model to visualize the residuals\n",
    "evaluate.plot_residuals(y_train.logerror, y_train.yhat_lm)\n",
    "\n",
    "#Retrieve evaluation metrics for Linear Regression Model on in-sample data\n",
    "evaluate.regression_errors(y_train.logerror, y_train.yhat_lm)"
   ]
  },
  {
   "cell_type": "markdown",
   "metadata": {},
   "source": [
    "**Takeaways:**<br>\n",
    "    - The Linear Regression Model Performs worse than baseline. Discard"
   ]
  },
  {
   "cell_type": "markdown",
   "metadata": {},
   "source": [
    "## TweedieRegressorModel"
   ]
  },
  {
   "cell_type": "code",
   "execution_count": 13,
   "metadata": {},
   "outputs": [
    {
     "data": {
      "image/png": "[encoded data removed]",
      "text/plain": [
       "<Figure size 432x288 with 1 Axes>"
      ]
     },
     "metadata": {
      "needs_background": "light"
     },
     "output_type": "display_data"
    },
    {
     "data": {
      "text/plain": [
       "sse    1063.13\n",
       "ess       2.08\n",
       "tss    1065.21\n",
       "mse       0.03\n",
       "rmse      0.17\n",
       "r^2       0.00\n",
       "dtype: float64"
      ]
     },
     "execution_count": 13,
     "metadata": {},
     "output_type": "execute_result"
    }
   ],
   "source": [
    "# create the model object\n",
    "glm = TweedieRegressor(power=0, alpha=0)\n",
    "\n",
    "# fit the model to our training data. We must specify the column in y_train, \n",
    "# since we have converted it to a dataframe from a series! \n",
    "glm.fit(X_train_scaled[['scaled_bathroomcnt',\n",
    " 'scaled_bedroomcnt',\n",
    " 'scaled_calculatedfinishedsquarefeet',\n",
    " 'scaled_structuretaxvaluedollarcnt',\n",
    " 'scaled_acres'\n",
    "]], y_train.logerror)\n",
    "\n",
    "# predict train\n",
    "y_train['yhat_glm'] = glm.predict(X_train_scaled[['scaled_bathroomcnt',\n",
    " 'scaled_bedroomcnt',\n",
    " 'scaled_calculatedfinishedsquarefeet',\n",
    " 'scaled_structuretaxvaluedollarcnt',\n",
    " 'scaled_acres'\n",
    "]])\n",
    "\n",
    "#Use evaluate model to visualize the residuals\n",
    "evaluate.plot_residuals(y_train.logerror, y_train.yhat_glm)\n",
    "\n",
    "#How does the GLM model perform on in-sample data?\n",
    "evaluate.regression_errors(y_train.logerror, y_train.yhat_glm)"
   ]
  },
  {
   "cell_type": "markdown",
   "metadata": {},
   "source": [
    "## Lasso & Lars Model"
   ]
  },
  {
   "cell_type": "code",
   "execution_count": 14,
   "metadata": {},
   "outputs": [
    {
     "data": {
      "image/png": "[encoded data removed]",
      "text/plain": [
       "<Figure size 432x288 with 1 Axes>"
      ]
     },
     "metadata": {
      "needs_background": "light"
     },
     "output_type": "display_data"
    },
    {
     "data": {
      "text/plain": [
       "sse    1065.21\n",
       "ess       0.00\n",
       "tss    1065.21\n",
       "mse       0.03\n",
       "rmse      0.17\n",
       "r^2       0.00\n",
       "dtype: float64"
      ]
     },
     "execution_count": 14,
     "metadata": {},
     "output_type": "execute_result"
    }
   ],
   "source": [
    "lars = LassoLars(alpha=1.0)\n",
    "\n",
    "# fit the model to our training data. We must specify the column in y_train, \n",
    "# since we have converted it to a dataframe from a series! \n",
    "lars.fit(X_train_scaled[['scaled_bathroomcnt',\n",
    " 'scaled_bedroomcnt',\n",
    " 'scaled_calculatedfinishedsquarefeet',\n",
    " 'scaled_structuretaxvaluedollarcnt',\n",
    " 'scaled_acres']], y_train.logerror)\n",
    "\n",
    "# predict train\n",
    "y_train['yhat_lars'] = lars.predict(X_train_scaled[['scaled_bathroomcnt',\n",
    " 'scaled_bedroomcnt',\n",
    " 'scaled_calculatedfinishedsquarefeet',\n",
    " 'scaled_structuretaxvaluedollarcnt',\n",
    " 'scaled_acres']])\n",
    "\n",
    "#Use evaluate model to visualize the residuals\n",
    "evaluate.plot_residuals(y_train.logerror, y_train.yhat_lars)\n",
    "\n",
    "#Retrieve evaluation metrics for Lasso + Lars Model on in-sample data\n",
    "evaluate.regression_errors(y_train.logerror, y_train.yhat_lars)"
   ]
  },
  {
   "cell_type": "markdown",
   "metadata": {},
   "source": [
    "### Takeaways:\n",
    "- None of these models are performing significantly better than baseline"
   ]
  }
 ],
 "metadata": {
  "kernelspec": {
   "display_name": "Python 3",
   "language": "python",
   "name": "python3"
  },
  "language_info": {
   "codemirror_mode": {
    "name": "ipython",
    "version": 3
   },
   "file_extension": ".py",
   "mimetype": "text/x-python",
   "name": "python",
   "nbconvert_exporter": "python",
   "pygments_lexer": "ipython3",
   "version": "3.8.5"
  }
 },
 "nbformat": 4,
 "nbformat_minor": 4
}
